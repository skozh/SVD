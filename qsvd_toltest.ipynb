{
 "cells": [
  {
   "cell_type": "code",
   "execution_count": 1,
   "metadata": {},
   "outputs": [],
   "source": [
    "import numpy as np\n",
    "import pandas as pd\n",
    "import scipy.optimize as optimize\n",
    "import matplotlib\n",
    "#matplotlib.use('TkAgg')\n",
    "%matplotlib inline\n",
    "import matplotlib.pyplot as plt"
   ]
  },
  {
   "cell_type": "code",
   "execution_count": null,
   "metadata": {},
   "outputs": [],
   "source": [
    "\"\"\" Optimization Algorithm \"\"\"\n",
    "\"\"\" New Matrix \"\"\"\n",
    "def newMat_2(x, Ut,Lt,Vt):\n",
    "    l0,l1 = Lt[0], Lt[1]\n",
    "    U_new = np.zeros((Ut.shape), dtype=np.cfloat)\n",
    "    for i in range(Ut.shape[0]):\n",
    "      U_new[i][0] = np.cos(x[i]) / l0\n",
    "      U_new[i][1] = (np.sin(x[i]) / l1) * np.exp(1j*x[i+Ut.shape[0]])\n",
    "    return np.dot(np.dot(U_new,np.diag(Lt)), Vt)\n",
    "\n",
    "\n",
    "def newMat_3(x, Ut,Lt,Vt):\n",
    "    l0,l1,l2 = Lt[0], Lt[1], Lt[2]\n",
    "    U_new = np.zeros((Ut.shape), dtype=np.cfloat)\n",
    "    for i in range(Ut.shape[0]):\n",
    "      U_new[i][0] = np.cos(x[i]) / l0\n",
    "      U_new[i][1] = (np.sin(x[i]) / l1) * (np.cos(x[i+Ut.shape[0]])) * np.exp(1j*x[i+2*Ut.shape[0]])\n",
    "      U_new[i][2] = (np.sin(x[i]) / l2) * (np.sin(x[i+Ut.shape[0]])) * np.exp(1j*x[i+3*Ut.shape[0]])\n",
    "    return np.dot(np.dot(U_new,np.diag(Lt)), Vt)\n",
    "\n",
    "\n",
    "def newMat_4(x, Ut,Lt,Vt):\n",
    "    l0,l1,l2,l3 = Lt[0], Lt[1], Lt[2], Lt[3]\n",
    "    U_new = np.zeros((Ut.shape), dtype=np.cfloat)\n",
    "    for i in range(Ut.shape[0]):\n",
    "      U_new[i][0] = (np.cos(x[i]) / l0) * (np.cos(x[i+Ut.shape[0]]))\n",
    "      U_new[i][1] = (np.cos(x[i]) / l1) * (np.sin(x[i+Ut.shape[0]])) * np.exp(1j*x[i+3*Ut.shape[0]])\n",
    "      U_new[i][2] = (np.sin(x[i]) / l2) * (np.cos(x[i+2*Ut.shape[0]])) * np.exp(1j*x[i+4*Ut.shape[0]])\n",
    "      U_new[i][3] = (np.sin(x[i]) / l3) * (np.sin(x[i+2*Ut.shape[0]])) * np.exp(1j*x[i+5*Ut.shape[0]])\n",
    "    return np.dot(np.dot(U_new,np.diag(Lt)), Vt)\n",
    "\n",
    "\"\"\" Cost Function \"\"\"\n",
    "def costFn(x, Ut,Lt,Vt,B,k):\n",
    "    if k==2:\n",
    "      Bp = newMat_2(x, Ut, Lt, Vt)\n",
    "    elif k==3:\n",
    "      Bp = newMat_3(x, Ut, Lt, Vt)\n",
    "    elif k==4:\n",
    "      Bp = newMat_4(x, Ut, Lt, Vt)\n",
    "    else:\n",
    "      return 0\n",
    "    loss = np.linalg.norm(B**2 - np.abs(Bp)**2)\n",
    "    return (loss)"
   ]
  },
  {
   "cell_type": "code",
   "execution_count": null,
   "metadata": {},
   "outputs": [],
   "source": [
    "\"\"\" Calculating losses when k is in (2,3) and tol is in (1e-10, 1e-5, 1e-3)\n",
    "a 3x3 matrix is used for experiment k=2 and tol in (1e-10, 1e-5, 1e-3)\n",
    "a 4x4 matrix is used for the experiment k=3 and tol in (1e-10, 1e-5, 1e-3) \"\"\"\n",
    "\n",
    "res = np.zeros((600,4))\n",
    "count = 0\n",
    "for k in [2,3]:\n",
    "    A = np.random.rand(k+1, k+1)\n",
    "    for j in range(k+1): A[j] /= sum(A[j])\n",
    "    B = np.sqrt(A)\n",
    "    U, L, V = np.linalg.svd(B, full_matrices=False)\n",
    "    initial_guess = np.ones((2*(k+1)*(k-1),), dtype=np.longdouble)\n",
    "    Ut = U[:, :k]\n",
    "    Vt = V[:k]\n",
    "    Lt = L[:k]\n",
    "    Bt = np.dot(np.dot(Ut,np.diag(Lt)), Vt)\n",
    "    for tol in ([1e-10, 1e-5, 1e-3]):\n",
    "        print('K= ', k, \" Tol= \", tol)\n",
    "        for i in range(100):\n",
    "            if(i%10==0):\n",
    "                print(i, \" \", end='')\n",
    "            result = optimize.minimize(fun=costFn, x0=initial_guess, args=(Ut,Lt,Vt,B,k),\n",
    "                                            tol=tol, method='Nelder-Mead', options={'maxiter':1e+10})\n",
    "            res[count][0] = k\n",
    "            res[count][1] = tol\n",
    "            res[count][2] = (np.linalg.norm(B**2 - Bt**2))\n",
    "            res[count][3] = costFn(result.x,Ut,Lt,Vt,B,k)\n",
    "            count+=1\n",
    "        print('\\n')"
   ]
  },
  {
   "cell_type": "code",
   "execution_count": 2,
   "metadata": {},
   "outputs": [
    {
     "data": {
      "text/plain": [
       "array([[2.00000000e+00, 1.00000000e-10, 5.47269683e-02, 4.38971583e-02],\n",
       "       [2.00000000e+00, 1.00000000e-10, 5.47269683e-02, 4.38971583e-02],\n",
       "       [2.00000000e+00, 1.00000000e-10, 5.47269683e-02, 4.38971583e-02],\n",
       "       ...,\n",
       "       [3.00000000e+00, 1.00000000e-03, 1.40380399e-01, 2.19984105e-02],\n",
       "       [3.00000000e+00, 1.00000000e-03, 1.40380399e-01, 2.19984105e-02],\n",
       "       [3.00000000e+00, 1.00000000e-03, 1.40380399e-01, 2.19984105e-02]])"
      ]
     },
     "execution_count": 2,
     "metadata": {},
     "output_type": "execute_result"
    }
   ],
   "source": [
    "#np.save('toltest.npy',res)\n",
    "res = np.load('toltest.npy')\n",
    "res"
   ]
  },
  {
   "cell_type": "code",
   "execution_count": 3,
   "metadata": {},
   "outputs": [
    {
     "data": {
      "text/html": [
       "<div>\n",
       "<style scoped>\n",
       "    .dataframe tbody tr th:only-of-type {\n",
       "        vertical-align: middle;\n",
       "    }\n",
       "\n",
       "    .dataframe tbody tr th {\n",
       "        vertical-align: top;\n",
       "    }\n",
       "\n",
       "    .dataframe thead th {\n",
       "        text-align: right;\n",
       "    }\n",
       "</style>\n",
       "<table border=\"1\" class=\"dataframe\">\n",
       "  <thead>\n",
       "    <tr style=\"text-align: right;\">\n",
       "      <th></th>\n",
       "      <th>k</th>\n",
       "      <th>tol</th>\n",
       "      <th>loss1</th>\n",
       "      <th>loss2</th>\n",
       "      <th>RI</th>\n",
       "    </tr>\n",
       "  </thead>\n",
       "  <tbody>\n",
       "    <tr>\n",
       "      <th>0</th>\n",
       "      <td>2.0</td>\n",
       "      <td>1.000000e-10</td>\n",
       "      <td>0.054727</td>\n",
       "      <td>0.043897</td>\n",
       "      <td>0.197888</td>\n",
       "    </tr>\n",
       "    <tr>\n",
       "      <th>1</th>\n",
       "      <td>2.0</td>\n",
       "      <td>1.000000e-10</td>\n",
       "      <td>0.054727</td>\n",
       "      <td>0.043897</td>\n",
       "      <td>0.197888</td>\n",
       "    </tr>\n",
       "    <tr>\n",
       "      <th>2</th>\n",
       "      <td>2.0</td>\n",
       "      <td>1.000000e-10</td>\n",
       "      <td>0.054727</td>\n",
       "      <td>0.043897</td>\n",
       "      <td>0.197888</td>\n",
       "    </tr>\n",
       "    <tr>\n",
       "      <th>3</th>\n",
       "      <td>2.0</td>\n",
       "      <td>1.000000e-10</td>\n",
       "      <td>0.054727</td>\n",
       "      <td>0.043897</td>\n",
       "      <td>0.197888</td>\n",
       "    </tr>\n",
       "    <tr>\n",
       "      <th>4</th>\n",
       "      <td>2.0</td>\n",
       "      <td>1.000000e-10</td>\n",
       "      <td>0.054727</td>\n",
       "      <td>0.043897</td>\n",
       "      <td>0.197888</td>\n",
       "    </tr>\n",
       "  </tbody>\n",
       "</table>\n",
       "</div>"
      ],
      "text/plain": [
       "     k           tol     loss1     loss2        RI\n",
       "0  2.0  1.000000e-10  0.054727  0.043897  0.197888\n",
       "1  2.0  1.000000e-10  0.054727  0.043897  0.197888\n",
       "2  2.0  1.000000e-10  0.054727  0.043897  0.197888\n",
       "3  2.0  1.000000e-10  0.054727  0.043897  0.197888\n",
       "4  2.0  1.000000e-10  0.054727  0.043897  0.197888"
      ]
     },
     "execution_count": 3,
     "metadata": {},
     "output_type": "execute_result"
    }
   ],
   "source": [
    "df = pd.DataFrame(res, columns=['k', 'tol', 'loss1', 'loss2'])\n",
    "df['RI'] = (df['loss1']-df['loss2'])/df['loss1']\n",
    "df.head()"
   ]
  },
  {
   "cell_type": "code",
   "execution_count": 4,
   "metadata": {},
   "outputs": [
    {
     "data": {
      "image/png": "[encoded data removed]",
      "text/plain": [
       "<Figure size 1080x720 with 1 Axes>"
      ]
     },
     "metadata": {
      "needs_background": "light"
     },
     "output_type": "display_data"
    }
   ],
   "source": [
    "gdf = df.groupby(['k', 'tol']).mean()\n",
    "ax = gdf[['loss1', 'loss2']].plot(figsize=(15,10), kind='bar')\n",
    "plt.show()"
   ]
  },
  {
   "cell_type": "code",
   "execution_count": 5,
   "metadata": {},
   "outputs": [
    {
     "data": {
      "text/html": [
       "<div>\n",
       "<style scoped>\n",
       "    .dataframe tbody tr th:only-of-type {\n",
       "        vertical-align: middle;\n",
       "    }\n",
       "\n",
       "    .dataframe tbody tr th {\n",
       "        vertical-align: top;\n",
       "    }\n",
       "\n",
       "    .dataframe thead th {\n",
       "        text-align: right;\n",
       "    }\n",
       "</style>\n",
       "<table border=\"1\" class=\"dataframe\">\n",
       "  <thead>\n",
       "    <tr style=\"text-align: right;\">\n",
       "      <th></th>\n",
       "      <th></th>\n",
       "      <th>loss1</th>\n",
       "      <th>loss2</th>\n",
       "      <th>RI</th>\n",
       "    </tr>\n",
       "    <tr>\n",
       "      <th>k</th>\n",
       "      <th>tol</th>\n",
       "      <th></th>\n",
       "      <th></th>\n",
       "      <th></th>\n",
       "    </tr>\n",
       "  </thead>\n",
       "  <tbody>\n",
       "    <tr>\n",
       "      <th rowspan=\"3\" valign=\"top\">2.0</th>\n",
       "      <th>1.000000e-10</th>\n",
       "      <td>0.054727</td>\n",
       "      <td>4.389716e-02</td>\n",
       "      <td>0.197888</td>\n",
       "    </tr>\n",
       "    <tr>\n",
       "      <th>1.000000e-05</th>\n",
       "      <td>0.054727</td>\n",
       "      <td>4.389716e-02</td>\n",
       "      <td>0.197888</td>\n",
       "    </tr>\n",
       "    <tr>\n",
       "      <th>1.000000e-03</th>\n",
       "      <td>0.054727</td>\n",
       "      <td>4.389716e-02</td>\n",
       "      <td>0.197888</td>\n",
       "    </tr>\n",
       "    <tr>\n",
       "      <th rowspan=\"3\" valign=\"top\">3.0</th>\n",
       "      <th>1.000000e-10</th>\n",
       "      <td>0.140380</td>\n",
       "      <td>3.455443e-12</td>\n",
       "      <td>1.000000</td>\n",
       "    </tr>\n",
       "    <tr>\n",
       "      <th>1.000000e-05</th>\n",
       "      <td>0.140380</td>\n",
       "      <td>1.951749e-02</td>\n",
       "      <td>0.860967</td>\n",
       "    </tr>\n",
       "    <tr>\n",
       "      <th>1.000000e-03</th>\n",
       "      <td>0.140380</td>\n",
       "      <td>2.199841e-02</td>\n",
       "      <td>0.843294</td>\n",
       "    </tr>\n",
       "  </tbody>\n",
       "</table>\n",
       "</div>"
      ],
      "text/plain": [
       "                     loss1         loss2        RI\n",
       "k   tol                                           \n",
       "2.0 1.000000e-10  0.054727  4.389716e-02  0.197888\n",
       "    1.000000e-05  0.054727  4.389716e-02  0.197888\n",
       "    1.000000e-03  0.054727  4.389716e-02  0.197888\n",
       "3.0 1.000000e-10  0.140380  3.455443e-12  1.000000\n",
       "    1.000000e-05  0.140380  1.951749e-02  0.860967\n",
       "    1.000000e-03  0.140380  2.199841e-02  0.843294"
      ]
     },
     "execution_count": 5,
     "metadata": {},
     "output_type": "execute_result"
    }
   ],
   "source": [
    "gdf"
   ]
  }
 ],
 "metadata": {
  "interpreter": {
   "hash": "363a2faa70e0b51f5ef03eefa8222616879a3cbe854269a79a8bc28e29574681"
  },
  "kernelspec": {
   "display_name": "Python 3.10.1 64-bit ('env': venv)",
   "language": "python",
   "name": "python3"
  },
  "language_info": {
   "codemirror_mode": {
    "name": "ipython",
    "version": 3
   },
   "file_extension": ".py",
   "mimetype": "text/x-python",
   "name": "python",
   "nbconvert_exporter": "python",
   "pygments_lexer": "ipython3",
   "version": "3.10.1"
  },
  "orig_nbformat": 4
 },
 "nbformat": 4,
 "nbformat_minor": 2
}
