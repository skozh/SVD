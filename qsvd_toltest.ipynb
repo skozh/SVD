{
  "cells": [
    {
      "cell_type": "code",
      "execution_count": 1,
      "metadata": {
        "id": "7UBBRLTJF2nO"
      },
      "outputs": [],
      "source": [
        "import numpy as np\n",
        "import pandas as pd\n",
        "import scipy.optimize as optimize\n",
        "import matplotlib\n",
        "#matplotlib.use('TkAgg')\n",
        "%matplotlib inline\n",
        "import matplotlib.pyplot as plt\n",
        "import seaborn as sns\n",
        "import scipy.stats as stats\n",
        "plt.rcParams[\"figure.figsize\"] = (15,10)"
      ]
    },
    {
      "cell_type": "code",
      "execution_count": null,
      "metadata": {
        "id": "i943BCAvF2nS"
      },
      "outputs": [],
      "source": [
        "\"\"\" Optimization Algorithm \"\"\"\n",
        "\"\"\" New Matrix \"\"\"\n",
        "def newMat_2(x, Ut,Lt,Vt):\n",
        "    l0,l1 = Lt[0], Lt[1]\n",
        "    U_new = np.zeros((Ut.shape), dtype=np.cfloat)\n",
        "    for i in range(Ut.shape[0]):\n",
        "      U_new[i][0] = np.cos(x[i]) / l0\n",
        "      U_new[i][1] = (np.sin(x[i]) / l1) * np.exp(1j*x[i+Ut.shape[0]])\n",
        "    return np.dot(np.dot(U_new,np.diag(Lt)), Vt)\n",
        "\n",
        "\n",
        "def newMat_3(x, Ut,Lt,Vt):\n",
        "    l0,l1,l2 = Lt[0], Lt[1], Lt[2]\n",
        "    U_new = np.zeros((Ut.shape), dtype=np.cfloat)\n",
        "    for i in range(Ut.shape[0]):\n",
        "      U_new[i][0] = np.cos(x[i]) / l0\n",
        "      U_new[i][1] = (np.sin(x[i]) / l1) * (np.cos(x[i+Ut.shape[0]])) * np.exp(1j*x[i+2*Ut.shape[0]])\n",
        "      U_new[i][2] = (np.sin(x[i]) / l2) * (np.sin(x[i+Ut.shape[0]])) * np.exp(1j*x[i+3*Ut.shape[0]])\n",
        "    return np.dot(np.dot(U_new,np.diag(Lt)), Vt)\n",
        "\n",
        "\n",
        "def newMat_4(x, Ut,Lt,Vt):\n",
        "    l0,l1,l2,l3 = Lt[0], Lt[1], Lt[2], Lt[3]\n",
        "    U_new = np.zeros((Ut.shape), dtype=np.cfloat)\n",
        "    for i in range(Ut.shape[0]):\n",
        "      U_new[i][0] = (np.cos(x[i]) / l0) * (np.cos(x[i+Ut.shape[0]]))\n",
        "      U_new[i][1] = (np.cos(x[i]) / l1) * (np.sin(x[i+Ut.shape[0]])) * np.exp(1j*x[i+3*Ut.shape[0]])\n",
        "      U_new[i][2] = (np.sin(x[i]) / l2) * (np.cos(x[i+2*Ut.shape[0]])) * np.exp(1j*x[i+4*Ut.shape[0]])\n",
        "      U_new[i][3] = (np.sin(x[i]) / l3) * (np.sin(x[i+2*Ut.shape[0]])) * np.exp(1j*x[i+5*Ut.shape[0]])\n",
        "    return np.dot(np.dot(U_new,np.diag(Lt)), Vt)\n",
        "\n",
        "\"\"\" Cost Function \"\"\"\n",
        "def costFn(x, Ut,Lt,Vt,B,k):\n",
        "    if k==2:\n",
        "      Bp = newMat_2(x, Ut, Lt, Vt)\n",
        "    elif k==3:\n",
        "      Bp = newMat_3(x, Ut, Lt, Vt)\n",
        "    elif k==4:\n",
        "      Bp = newMat_4(x, Ut, Lt, Vt)\n",
        "    else:\n",
        "      return 0\n",
        "    loss = np.linalg.norm(B**2 - np.abs(Bp)**2)\n",
        "    return (loss)"
      ]
    },
    {
      "cell_type": "code",
      "execution_count": null,
      "metadata": {
        "colab": {
          "base_uri": "https://localhost:8080/"
        },
        "id": "RFV8Tn_0F2nW",
        "outputId": "4400ed12-1bcb-46dc-c4dc-a0d9a6259ac3"
      },
      "outputs": [],
      "source": [
        "\"\"\" Calculating losses when k is in (2,3) and tol is in (1e-10, 1e-5, 1e-3)\n",
        "a 3x3 matrix is used for experiment k=2 and tol in (1e-10, 1e-5, 1e-3)\n",
        "a 4x4 matrix is used for the experiment k=3 and tol in (1e-10, 1e-5, 1e-3) \"\"\"\n",
        "\n",
        "res = np.zeros((1600,4))\n",
        "count = 0\n",
        "for k in [2,3]:\n",
        "    print('\\n')\n",
        "    print(\"k = \", k)\n",
        "    for i in range(100):\n",
        "      if(i%10==0):\n",
        "        print('\\n')\n",
        "        print(i, \" \", end='')\n",
        "      A = np.random.rand(k+1, k+1)\n",
        "      for j in range(k+1): A[j] /= sum(A[j])\n",
        "      B = np.sqrt(A)\n",
        "      U, L, V = np.linalg.svd(B, full_matrices=False)\n",
        "      initial_guess = np.ones((2*(k+1)*(k-1),), dtype=np.longdouble)\n",
        "      Ut = U[:, :k]\n",
        "      Vt = V[:k]\n",
        "      Lt = L[:k]\n",
        "      Bt = np.dot(np.dot(Ut,np.diag(Lt)), Vt)\n",
        "      for tol in ([1e-10, 1e-9, 1e-8, 1e-7, 1e-6, 1e-5, 1e-4, 1e-3]):\n",
        "        if(i%10==0): print(tol, \" \", end=' ')        \n",
        "        result = optimize.minimize(fun=costFn, x0=initial_guess, args=(Ut,Lt,Vt,B,k),\n",
        "                                            tol=tol, method='Nelder-Mead', options={'maxiter':1e+10})\n",
        "        res[count][0] = k\n",
        "        res[count][1] = tol\n",
        "        res[count][2] = (np.linalg.norm(B**2 - Bt**2))\n",
        "        res[count][3] = costFn(result.x,Ut,Lt,Vt,B,k)\n",
        "        count+=1"
      ]
    },
    {
      "cell_type": "code",
      "execution_count": 2,
      "metadata": {
        "colab": {
          "base_uri": "https://localhost:8080/"
        },
        "id": "ClTyEQjtF2nm",
        "outputId": "f3bf4126-893e-45f5-a184-652263427cef"
      },
      "outputs": [
        {
          "data": {
            "text/plain": [
              "array([[2.00000000e+00, 1.00000000e-10, 2.32263608e-02, 2.07124849e-02],\n",
              "       [2.00000000e+00, 1.00000000e-09, 2.32263608e-02, 2.07124849e-02],\n",
              "       [2.00000000e+00, 1.00000000e-08, 2.32263608e-02, 2.07124849e-02],\n",
              "       ...,\n",
              "       [3.00000000e+00, 1.00000000e-05, 7.88120159e-02, 5.73342477e-02],\n",
              "       [3.00000000e+00, 1.00000000e-04, 7.88120159e-02, 5.73342478e-02],\n",
              "       [3.00000000e+00, 1.00000000e-03, 7.88120159e-02, 5.96598526e-02]])"
            ]
          },
          "execution_count": 2,
          "metadata": {},
          "output_type": "execute_result"
        }
      ],
      "source": [
        "#np.save('toltest_detail_2.npy',res)\n",
        "res = np.load('toltest_detail_2.npy')\n",
        "res"
      ]
    },
    {
      "cell_type": "code",
      "execution_count": 3,
      "metadata": {
        "colab": {
          "base_uri": "https://localhost:8080/",
          "height": 206
        },
        "id": "PPKPPGcvF2np",
        "outputId": "31599918-f00e-434c-acdc-d25e35675a1a"
      },
      "outputs": [
        {
          "data": {
            "text/html": [
              "<div>\n",
              "<style scoped>\n",
              "    .dataframe tbody tr th:only-of-type {\n",
              "        vertical-align: middle;\n",
              "    }\n",
              "\n",
              "    .dataframe tbody tr th {\n",
              "        vertical-align: top;\n",
              "    }\n",
              "\n",
              "    .dataframe thead th {\n",
              "        text-align: right;\n",
              "    }\n",
              "</style>\n",
              "<table border=\"1\" class=\"dataframe\">\n",
              "  <thead>\n",
              "    <tr style=\"text-align: right;\">\n",
              "      <th></th>\n",
              "      <th>k</th>\n",
              "      <th>tol</th>\n",
              "      <th>loss1</th>\n",
              "      <th>loss2</th>\n",
              "      <th>RI</th>\n",
              "    </tr>\n",
              "  </thead>\n",
              "  <tbody>\n",
              "    <tr>\n",
              "      <th>0</th>\n",
              "      <td>2.0</td>\n",
              "      <td>1.000000e-10</td>\n",
              "      <td>0.023226</td>\n",
              "      <td>0.020712</td>\n",
              "      <td>0.108234</td>\n",
              "    </tr>\n",
              "    <tr>\n",
              "      <th>1</th>\n",
              "      <td>2.0</td>\n",
              "      <td>1.000000e-09</td>\n",
              "      <td>0.023226</td>\n",
              "      <td>0.020712</td>\n",
              "      <td>0.108234</td>\n",
              "    </tr>\n",
              "    <tr>\n",
              "      <th>2</th>\n",
              "      <td>2.0</td>\n",
              "      <td>1.000000e-08</td>\n",
              "      <td>0.023226</td>\n",
              "      <td>0.020712</td>\n",
              "      <td>0.108234</td>\n",
              "    </tr>\n",
              "    <tr>\n",
              "      <th>3</th>\n",
              "      <td>2.0</td>\n",
              "      <td>1.000000e-07</td>\n",
              "      <td>0.023226</td>\n",
              "      <td>0.020712</td>\n",
              "      <td>0.108234</td>\n",
              "    </tr>\n",
              "    <tr>\n",
              "      <th>4</th>\n",
              "      <td>2.0</td>\n",
              "      <td>1.000000e-06</td>\n",
              "      <td>0.023226</td>\n",
              "      <td>0.020712</td>\n",
              "      <td>0.108234</td>\n",
              "    </tr>\n",
              "  </tbody>\n",
              "</table>\n",
              "</div>"
            ],
            "text/plain": [
              "     k           tol     loss1     loss2        RI\n",
              "0  2.0  1.000000e-10  0.023226  0.020712  0.108234\n",
              "1  2.0  1.000000e-09  0.023226  0.020712  0.108234\n",
              "2  2.0  1.000000e-08  0.023226  0.020712  0.108234\n",
              "3  2.0  1.000000e-07  0.023226  0.020712  0.108234\n",
              "4  2.0  1.000000e-06  0.023226  0.020712  0.108234"
            ]
          },
          "execution_count": 3,
          "metadata": {},
          "output_type": "execute_result"
        }
      ],
      "source": [
        "df = pd.DataFrame(res, columns=['k', 'tol', 'loss1', 'loss2'])\n",
        "df['RI'] = (df['loss1']-df['loss2'])/df['loss1']\n",
        "df.head()"
      ]
    },
    {
      "cell_type": "code",
      "execution_count": 4,
      "metadata": {
        "colab": {
          "base_uri": "https://localhost:8080/",
          "height": 582
        },
        "id": "uSVufB6lF2n5",
        "outputId": "bd082c72-c1c9-4430-f20b-cfd36e8c1053"
      },
      "outputs": [
        {
          "data": {
            "text/html": [
              "<div>\n",
              "<style scoped>\n",
              "    .dataframe tbody tr th:only-of-type {\n",
              "        vertical-align: middle;\n",
              "    }\n",
              "\n",
              "    .dataframe tbody tr th {\n",
              "        vertical-align: top;\n",
              "    }\n",
              "\n",
              "    .dataframe thead th {\n",
              "        text-align: right;\n",
              "    }\n",
              "</style>\n",
              "<table border=\"1\" class=\"dataframe\">\n",
              "  <thead>\n",
              "    <tr style=\"text-align: right;\">\n",
              "      <th></th>\n",
              "      <th></th>\n",
              "      <th>loss1</th>\n",
              "      <th>loss2</th>\n",
              "      <th>RI</th>\n",
              "    </tr>\n",
              "    <tr>\n",
              "      <th>k</th>\n",
              "      <th>tol</th>\n",
              "      <th></th>\n",
              "      <th></th>\n",
              "      <th></th>\n",
              "    </tr>\n",
              "  </thead>\n",
              "  <tbody>\n",
              "    <tr>\n",
              "      <th rowspan=\"8\" valign=\"top\">2.0</th>\n",
              "      <th>1.000000e-10</th>\n",
              "      <td>0.115912</td>\n",
              "      <td>0.079761</td>\n",
              "      <td>0.320172</td>\n",
              "    </tr>\n",
              "    <tr>\n",
              "      <th>1.000000e-09</th>\n",
              "      <td>0.115912</td>\n",
              "      <td>0.079761</td>\n",
              "      <td>0.320172</td>\n",
              "    </tr>\n",
              "    <tr>\n",
              "      <th>1.000000e-08</th>\n",
              "      <td>0.115912</td>\n",
              "      <td>0.079761</td>\n",
              "      <td>0.320172</td>\n",
              "    </tr>\n",
              "    <tr>\n",
              "      <th>1.000000e-07</th>\n",
              "      <td>0.115912</td>\n",
              "      <td>0.079761</td>\n",
              "      <td>0.320172</td>\n",
              "    </tr>\n",
              "    <tr>\n",
              "      <th>1.000000e-06</th>\n",
              "      <td>0.115912</td>\n",
              "      <td>0.079761</td>\n",
              "      <td>0.320172</td>\n",
              "    </tr>\n",
              "    <tr>\n",
              "      <th>1.000000e-05</th>\n",
              "      <td>0.115912</td>\n",
              "      <td>0.079773</td>\n",
              "      <td>0.319803</td>\n",
              "    </tr>\n",
              "    <tr>\n",
              "      <th>1.000000e-04</th>\n",
              "      <td>0.115912</td>\n",
              "      <td>0.079829</td>\n",
              "      <td>0.312879</td>\n",
              "    </tr>\n",
              "    <tr>\n",
              "      <th>1.000000e-03</th>\n",
              "      <td>0.115912</td>\n",
              "      <td>0.081178</td>\n",
              "      <td>0.224059</td>\n",
              "    </tr>\n",
              "    <tr>\n",
              "      <th rowspan=\"8\" valign=\"top\">3.0</th>\n",
              "      <th>1.000000e-10</th>\n",
              "      <td>0.073819</td>\n",
              "      <td>0.023345</td>\n",
              "      <td>0.345200</td>\n",
              "    </tr>\n",
              "    <tr>\n",
              "      <th>1.000000e-09</th>\n",
              "      <td>0.073819</td>\n",
              "      <td>0.023345</td>\n",
              "      <td>0.345200</td>\n",
              "    </tr>\n",
              "    <tr>\n",
              "      <th>1.000000e-08</th>\n",
              "      <td>0.073819</td>\n",
              "      <td>0.023345</td>\n",
              "      <td>0.345200</td>\n",
              "    </tr>\n",
              "    <tr>\n",
              "      <th>1.000000e-07</th>\n",
              "      <td>0.073819</td>\n",
              "      <td>0.023443</td>\n",
              "      <td>0.343298</td>\n",
              "    </tr>\n",
              "    <tr>\n",
              "      <th>1.000000e-06</th>\n",
              "      <td>0.073819</td>\n",
              "      <td>0.024500</td>\n",
              "      <td>-0.530680</td>\n",
              "    </tr>\n",
              "    <tr>\n",
              "      <th>1.000000e-05</th>\n",
              "      <td>0.073819</td>\n",
              "      <td>0.026339</td>\n",
              "      <td>-0.550928</td>\n",
              "    </tr>\n",
              "    <tr>\n",
              "      <th>1.000000e-04</th>\n",
              "      <td>0.073819</td>\n",
              "      <td>0.029527</td>\n",
              "      <td>-0.875258</td>\n",
              "    </tr>\n",
              "    <tr>\n",
              "      <th>1.000000e-03</th>\n",
              "      <td>0.073819</td>\n",
              "      <td>0.033812</td>\n",
              "      <td>-1.000884</td>\n",
              "    </tr>\n",
              "  </tbody>\n",
              "</table>\n",
              "</div>"
            ],
            "text/plain": [
              "                     loss1     loss2        RI\n",
              "k   tol                                       \n",
              "2.0 1.000000e-10  0.115912  0.079761  0.320172\n",
              "    1.000000e-09  0.115912  0.079761  0.320172\n",
              "    1.000000e-08  0.115912  0.079761  0.320172\n",
              "    1.000000e-07  0.115912  0.079761  0.320172\n",
              "    1.000000e-06  0.115912  0.079761  0.320172\n",
              "    1.000000e-05  0.115912  0.079773  0.319803\n",
              "    1.000000e-04  0.115912  0.079829  0.312879\n",
              "    1.000000e-03  0.115912  0.081178  0.224059\n",
              "3.0 1.000000e-10  0.073819  0.023345  0.345200\n",
              "    1.000000e-09  0.073819  0.023345  0.345200\n",
              "    1.000000e-08  0.073819  0.023345  0.345200\n",
              "    1.000000e-07  0.073819  0.023443  0.343298\n",
              "    1.000000e-06  0.073819  0.024500 -0.530680\n",
              "    1.000000e-05  0.073819  0.026339 -0.550928\n",
              "    1.000000e-04  0.073819  0.029527 -0.875258\n",
              "    1.000000e-03  0.073819  0.033812 -1.000884"
            ]
          },
          "execution_count": 4,
          "metadata": {},
          "output_type": "execute_result"
        }
      ],
      "source": [
        "gdf = df.groupby(['k', 'tol']).mean()\n",
        "gdf"
      ]
    },
    {
      "cell_type": "code",
      "execution_count": 5,
      "metadata": {
        "colab": {
          "base_uri": "https://localhost:8080/",
          "height": 660
        },
        "id": "XfWBXWCyF2n6",
        "outputId": "7f833048-ade6-4778-e95c-661e98f884df"
      },
      "outputs": [
        {
          "data": {
            "image/png": "[encoded data removed]",
            "text/plain": [
              "<Figure size 1080x720 with 1 Axes>"
            ]
          },
          "metadata": {
            "needs_background": "light"
          },
          "output_type": "display_data"
        }
      ],
      "source": [
        "ax = gdf[['loss1','loss2']].plot(figsize=(15,10), kind='bar')\n",
        "plt.show()"
      ]
    },
    {
      "cell_type": "code",
      "execution_count": 6,
      "metadata": {
        "id": "lSOL5btHF2n8"
      },
      "outputs": [
        {
          "data": {
            "image/png": "[encoded data removed]",
            "text/plain": [
              "<Figure size 1080x720 with 1 Axes>"
            ]
          },
          "metadata": {
            "needs_background": "light"
          },
          "output_type": "display_data"
        }
      ],
      "source": [
        "ax = gdf[['RI']].plot(figsize=(15,10), kind='bar')\n",
        "plt.show()"
      ]
    },
    {
      "cell_type": "code",
      "execution_count": 7,
      "metadata": {},
      "outputs": [
        {
          "data": {
            "image/png": "[encoded data removed]",
            "text/plain": [
              "<Figure size 1080x720 with 1 Axes>"
            ]
          },
          "metadata": {
            "needs_background": "light"
          },
          "output_type": "display_data"
        }
      ],
      "source": [
        "sample1 = df.loc[(df.k==3) & (df.tol == 1e-10)].fillna(0)\n",
        "kernel = stats.gaussian_kde(sample1['loss2'])\n",
        "min_amount, max_amount = sample1['loss2'].min(), sample1['loss2'].max()\n",
        "x = np.linspace(min_amount, max_amount, len(sample1))\n",
        "kde_values = kernel(x)\n",
        "\n",
        "sample2 = df.loc[(df.k==3) & (df.tol == 1e-3)].fillna(0)\n",
        "kernel2 = stats.gaussian_kde(sample2['loss2'])\n",
        "kde_values2 = kernel2(x)\n",
        "\n",
        "sns.histplot(sample1['loss2'], kde=True, stat='density', label=f'Loss2', bins=10)\n",
        "plt.plot(x, kde_values, label='1e-10')\n",
        "plt.plot(x, kde_values2, label='1e-3')\n",
        "plt.ylabel('p')\n",
        "plt.xlabel('loss2')\n",
        "plt.legend()\n",
        "plt.show()"
      ]
    },
    {
      "cell_type": "code",
      "execution_count": null,
      "metadata": {},
      "outputs": [],
      "source": []
    }
  ],
  "metadata": {
    "colab": {
      "collapsed_sections": [],
      "name": "qsvd_toltest.ipynb",
      "provenance": []
    },
    "interpreter": {
      "hash": "363a2faa70e0b51f5ef03eefa8222616879a3cbe854269a79a8bc28e29574681"
    },
    "kernelspec": {
      "display_name": "Python 3.10.1 64-bit ('env': venv)",
      "language": "python",
      "name": "python3"
    },
    "language_info": {
      "codemirror_mode": {
        "name": "ipython",
        "version": 3
      },
      "file_extension": ".py",
      "mimetype": "text/x-python",
      "name": "python",
      "nbconvert_exporter": "python",
      "pygments_lexer": "ipython3",
      "version": "3.10.1"
    },
    "orig_nbformat": 4
  },
  "nbformat": 4,
  "nbformat_minor": 0
}
