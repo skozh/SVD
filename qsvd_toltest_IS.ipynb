{
 "cells": [
  {
   "cell_type": "code",
   "execution_count": 2,
   "metadata": {
    "id": "7UBBRLTJF2nO"
   },
   "outputs": [],
   "source": [
    "import numpy as np\n",
    "import pandas as pd\n",
    "import scipy.optimize as optimize\n",
    "import matplotlib\n",
    "#matplotlib.use('TkAgg')\n",
    "%matplotlib inline\n",
    "import matplotlib.pyplot as plt\n",
    "import seaborn as sns\n",
    "import scipy.stats as stats\n",
    "plt.rcParams[\"figure.figsize\"] = (15,10)"
   ]
  },
  {
   "cell_type": "code",
   "execution_count": null,
   "metadata": {
    "id": "i943BCAvF2nS"
   },
   "outputs": [],
   "source": [
    "\"\"\" Optimization Algorithm \"\"\"\n",
    "\"\"\" New Matrix \"\"\"\n",
    "def newMat_2(x, Ut,Lt,Vt):\n",
    "    l0,l1 = Lt[0], Lt[1]\n",
    "    U_new = np.zeros((Ut.shape), dtype=np.cfloat)\n",
    "    for i in range(Ut.shape[0]):\n",
    "      U_new[i][0] = np.cos(x[i]) / l0\n",
    "      U_new[i][1] = (np.sin(x[i]) / l1) * np.exp(1j*x[i+Ut.shape[0]])\n",
    "    return np.dot(np.dot(U_new,np.diag(Lt)), Vt)\n",
    "\n",
    "\n",
    "def newMat_3(x, Ut,Lt,Vt):\n",
    "    l0,l1,l2 = Lt[0], Lt[1], Lt[2]\n",
    "    U_new = np.zeros((Ut.shape), dtype=np.cfloat)\n",
    "    for i in range(Ut.shape[0]):\n",
    "      U_new[i][0] = np.cos(x[i]) / l0\n",
    "      U_new[i][1] = (np.sin(x[i]) / l1) * (np.cos(x[i+Ut.shape[0]])) * np.exp(1j*x[i+2*Ut.shape[0]])\n",
    "      U_new[i][2] = (np.sin(x[i]) / l2) * (np.sin(x[i+Ut.shape[0]])) * np.exp(1j*x[i+3*Ut.shape[0]])\n",
    "    return np.dot(np.dot(U_new,np.diag(Lt)), Vt)\n",
    "\n",
    "\n",
    "def newMat_4(x, Ut,Lt,Vt):\n",
    "    l0,l1,l2,l3 = Lt[0], Lt[1], Lt[2], Lt[3]\n",
    "    U_new = np.zeros((Ut.shape), dtype=np.cfloat)\n",
    "    for i in range(Ut.shape[0]):\n",
    "      U_new[i][0] = (np.cos(x[i]) / l0) * (np.cos(x[i+Ut.shape[0]]))\n",
    "      U_new[i][1] = (np.cos(x[i]) / l1) * (np.sin(x[i+Ut.shape[0]])) * np.exp(1j*x[i+3*Ut.shape[0]])\n",
    "      U_new[i][2] = (np.sin(x[i]) / l2) * (np.cos(x[i+2*Ut.shape[0]])) * np.exp(1j*x[i+4*Ut.shape[0]])\n",
    "      U_new[i][3] = (np.sin(x[i]) / l3) * (np.sin(x[i+2*Ut.shape[0]])) * np.exp(1j*x[i+5*Ut.shape[0]])\n",
    "    return np.dot(np.dot(U_new,np.diag(Lt)), Vt)\n",
    "\n",
    "\"\"\" Cost Function \"\"\"\n",
    "def costFn(x, Ut,Lt,Vt,B,k):\n",
    "    if k==2:\n",
    "      Bp = newMat_2(x, Ut, Lt, Vt)\n",
    "    elif k==3:\n",
    "      Bp = newMat_3(x, Ut, Lt, Vt)\n",
    "    elif k==4:\n",
    "      Bp = newMat_4(x, Ut, Lt, Vt)\n",
    "    else:\n",
    "      return 0\n",
    "    loss = np.linalg.norm(B**2 - np.abs(Bp)**2)\n",
    "    return (loss)"
   ]
  },
  {
   "cell_type": "code",
   "execution_count": null,
   "metadata": {
    "colab": {
     "base_uri": "https://localhost:8080/"
    },
    "id": "RFV8Tn_0F2nW",
    "outputId": "c1e1fa69-9e75-4c3e-baa3-f5267369c131"
   },
   "outputs": [],
   "source": [
    "\"\"\" Calculating losses when k is in (2,3) and tol is in (1e-10, 1e-5, 1e-3)\n",
    "a 3x3 matrix is used for experiment k=2 and tol in (1e-10, 1e-5, 1e-3)\n",
    "a 4x4 matrix is used for the experiment k=3 and tol in (1e-10, 1e-5, 1e-3) \"\"\"\n",
    "\n",
    "res = np.zeros((2400,4))\n",
    "count = 0\n",
    "for k in [2,3,4]:\n",
    "    print('\\n')\n",
    "    print(\"k = \", k)\n",
    "    for i in range(100):\n",
    "      if(i%10==0):\n",
    "        print('\\n')\n",
    "        print(i, \" \", end='')\n",
    "      A = np.random.rand(k+1, k+1)\n",
    "      for j in range(k+1): A[j] /= sum(A[j])\n",
    "      B = np.sqrt(A)\n",
    "      U, L, V = np.linalg.svd(B, full_matrices=False)\n",
    "      initial_guess = np.ones((2*(k+1)*(k-1),), dtype=np.longdouble)\n",
    "      Ut = U[:, :k]\n",
    "      Vt = V[:k]\n",
    "      Lt = L[:k]\n",
    "      Bt = np.dot(np.dot(Ut,np.diag(Lt)), Vt)\n",
    "      for tol in ([1e-10, 1e-9, 1e-8, 1e-7, 1e-6, 1e-5, 1e-4, 1e-3]):\n",
    "        if(i%10==0): print(tol, \" \", end=' ')        \n",
    "        result = optimize.minimize(fun=costFn, x0=initial_guess, args=(Ut,Lt,Vt,B,k),\n",
    "                                            tol=tol, method='Nelder-Mead', options={'maxiter':1e+10})\n",
    "        res[count][0] = k\n",
    "        res[count][1] = tol\n",
    "        res[count][2] = (np.linalg.norm(B**2 - Bt**2))\n",
    "        res[count][3] = costFn(result.x,Ut,Lt,Vt,B,k)\n",
    "        count+=1"
   ]
  },
  {
   "cell_type": "code",
   "execution_count": 3,
   "metadata": {
    "id": "ClTyEQjtF2nm"
   },
   "outputs": [
    {
     "data": {
      "text/plain": [
       "array([[2.00000000e+00, 1.00000000e-10, 3.80198052e-01, 2.51752487e-01],\n",
       "       [2.00000000e+00, 1.00000000e-09, 3.80198052e-01, 2.51752487e-01],\n",
       "       [2.00000000e+00, 1.00000000e-08, 3.80198052e-01, 2.51752487e-01],\n",
       "       ...,\n",
       "       [4.00000000e+00, 1.00000000e-05, 9.54130942e-03, 5.07100107e-03],\n",
       "       [4.00000000e+00, 1.00000000e-04, 9.54130942e-03, 1.49142229e-02],\n",
       "       [4.00000000e+00, 1.00000000e-03, 9.54130942e-03, 1.49241305e-02]])"
      ]
     },
     "execution_count": 3,
     "metadata": {},
     "output_type": "execute_result"
    }
   ],
   "source": [
    "#np.save('toltest_detail_2.npy',res)\n",
    "res = np.load('toltest_detail_2.npy')\n",
    "res"
   ]
  },
  {
   "cell_type": "code",
   "execution_count": 70,
   "metadata": {
    "id": "PPKPPGcvF2np"
   },
   "outputs": [
    {
     "data": {
      "text/html": [
       "<div>\n",
       "<style scoped>\n",
       "    .dataframe tbody tr th:only-of-type {\n",
       "        vertical-align: middle;\n",
       "    }\n",
       "\n",
       "    .dataframe tbody tr th {\n",
       "        vertical-align: top;\n",
       "    }\n",
       "\n",
       "    .dataframe thead th {\n",
       "        text-align: right;\n",
       "    }\n",
       "</style>\n",
       "<table border=\"1\" class=\"dataframe\">\n",
       "  <thead>\n",
       "    <tr style=\"text-align: right;\">\n",
       "      <th></th>\n",
       "      <th>k</th>\n",
       "      <th>tol</th>\n",
       "      <th>loss1</th>\n",
       "      <th>loss2</th>\n",
       "      <th>RI</th>\n",
       "    </tr>\n",
       "  </thead>\n",
       "  <tbody>\n",
       "    <tr>\n",
       "      <th>0</th>\n",
       "      <td>2.0</td>\n",
       "      <td>1.000000e-10</td>\n",
       "      <td>0.380198</td>\n",
       "      <td>0.251752</td>\n",
       "      <td>0.337839</td>\n",
       "    </tr>\n",
       "    <tr>\n",
       "      <th>1</th>\n",
       "      <td>2.0</td>\n",
       "      <td>1.000000e-09</td>\n",
       "      <td>0.380198</td>\n",
       "      <td>0.251752</td>\n",
       "      <td>0.337839</td>\n",
       "    </tr>\n",
       "    <tr>\n",
       "      <th>2</th>\n",
       "      <td>2.0</td>\n",
       "      <td>1.000000e-08</td>\n",
       "      <td>0.380198</td>\n",
       "      <td>0.251752</td>\n",
       "      <td>0.337839</td>\n",
       "    </tr>\n",
       "    <tr>\n",
       "      <th>3</th>\n",
       "      <td>2.0</td>\n",
       "      <td>1.000000e-07</td>\n",
       "      <td>0.380198</td>\n",
       "      <td>0.251752</td>\n",
       "      <td>0.337839</td>\n",
       "    </tr>\n",
       "    <tr>\n",
       "      <th>4</th>\n",
       "      <td>2.0</td>\n",
       "      <td>1.000000e-06</td>\n",
       "      <td>0.380198</td>\n",
       "      <td>0.251752</td>\n",
       "      <td>0.337839</td>\n",
       "    </tr>\n",
       "  </tbody>\n",
       "</table>\n",
       "</div>"
      ],
      "text/plain": [
       "     k           tol     loss1     loss2        RI\n",
       "0  2.0  1.000000e-10  0.380198  0.251752  0.337839\n",
       "1  2.0  1.000000e-09  0.380198  0.251752  0.337839\n",
       "2  2.0  1.000000e-08  0.380198  0.251752  0.337839\n",
       "3  2.0  1.000000e-07  0.380198  0.251752  0.337839\n",
       "4  2.0  1.000000e-06  0.380198  0.251752  0.337839"
      ]
     },
     "execution_count": 70,
     "metadata": {},
     "output_type": "execute_result"
    }
   ],
   "source": [
    "df = pd.DataFrame(res, columns=['k', 'tol', 'loss1', 'loss2'])\n",
    "df['RI'] = (df['loss1']-df['loss2'])/df['loss1']\n",
    "df.head()"
   ]
  },
  {
   "cell_type": "code",
   "execution_count": null,
   "metadata": {},
   "outputs": [],
   "source": [
    "df"
   ]
  },
  {
   "cell_type": "code",
   "execution_count": 71,
   "metadata": {
    "id": "uSVufB6lF2n5"
   },
   "outputs": [
    {
     "data": {
      "text/html": [
       "<div>\n",
       "<style scoped>\n",
       "    .dataframe tbody tr th:only-of-type {\n",
       "        vertical-align: middle;\n",
       "    }\n",
       "\n",
       "    .dataframe tbody tr th {\n",
       "        vertical-align: top;\n",
       "    }\n",
       "\n",
       "    .dataframe thead th {\n",
       "        text-align: right;\n",
       "    }\n",
       "</style>\n",
       "<table border=\"1\" class=\"dataframe\">\n",
       "  <thead>\n",
       "    <tr style=\"text-align: right;\">\n",
       "      <th></th>\n",
       "      <th></th>\n",
       "      <th>loss1</th>\n",
       "      <th>loss2</th>\n",
       "      <th>RI</th>\n",
       "    </tr>\n",
       "    <tr>\n",
       "      <th>k</th>\n",
       "      <th>tol</th>\n",
       "      <th></th>\n",
       "      <th></th>\n",
       "      <th></th>\n",
       "    </tr>\n",
       "  </thead>\n",
       "  <tbody>\n",
       "    <tr>\n",
       "      <th rowspan=\"8\" valign=\"top\">2.0</th>\n",
       "      <th>1.000000e-10</th>\n",
       "      <td>0.124278</td>\n",
       "      <td>0.085782</td>\n",
       "      <td>0.322729</td>\n",
       "    </tr>\n",
       "    <tr>\n",
       "      <th>1.000000e-09</th>\n",
       "      <td>0.124278</td>\n",
       "      <td>0.085782</td>\n",
       "      <td>0.322729</td>\n",
       "    </tr>\n",
       "    <tr>\n",
       "      <th>1.000000e-08</th>\n",
       "      <td>0.124278</td>\n",
       "      <td>0.085782</td>\n",
       "      <td>0.322729</td>\n",
       "    </tr>\n",
       "    <tr>\n",
       "      <th>1.000000e-07</th>\n",
       "      <td>0.124278</td>\n",
       "      <td>0.085782</td>\n",
       "      <td>0.322729</td>\n",
       "    </tr>\n",
       "    <tr>\n",
       "      <th>1.000000e-06</th>\n",
       "      <td>0.124278</td>\n",
       "      <td>0.085782</td>\n",
       "      <td>0.322726</td>\n",
       "    </tr>\n",
       "    <tr>\n",
       "      <th>1.000000e-05</th>\n",
       "      <td>0.124278</td>\n",
       "      <td>0.085884</td>\n",
       "      <td>0.321681</td>\n",
       "    </tr>\n",
       "    <tr>\n",
       "      <th>1.000000e-04</th>\n",
       "      <td>0.124278</td>\n",
       "      <td>0.085931</td>\n",
       "      <td>0.318369</td>\n",
       "    </tr>\n",
       "    <tr>\n",
       "      <th>1.000000e-03</th>\n",
       "      <td>0.124278</td>\n",
       "      <td>0.086215</td>\n",
       "      <td>0.304712</td>\n",
       "    </tr>\n",
       "    <tr>\n",
       "      <th rowspan=\"8\" valign=\"top\">3.0</th>\n",
       "      <th>1.000000e-10</th>\n",
       "      <td>0.067737</td>\n",
       "      <td>0.024480</td>\n",
       "      <td>0.532505</td>\n",
       "    </tr>\n",
       "    <tr>\n",
       "      <th>1.000000e-09</th>\n",
       "      <td>0.067737</td>\n",
       "      <td>0.024481</td>\n",
       "      <td>0.532500</td>\n",
       "    </tr>\n",
       "    <tr>\n",
       "      <th>1.000000e-08</th>\n",
       "      <td>0.067737</td>\n",
       "      <td>0.024697</td>\n",
       "      <td>0.531160</td>\n",
       "    </tr>\n",
       "    <tr>\n",
       "      <th>1.000000e-07</th>\n",
       "      <td>0.067737</td>\n",
       "      <td>0.025662</td>\n",
       "      <td>0.511930</td>\n",
       "    </tr>\n",
       "    <tr>\n",
       "      <th>1.000000e-06</th>\n",
       "      <td>0.067737</td>\n",
       "      <td>0.027239</td>\n",
       "      <td>0.487745</td>\n",
       "    </tr>\n",
       "    <tr>\n",
       "      <th>1.000000e-05</th>\n",
       "      <td>0.067737</td>\n",
       "      <td>0.028408</td>\n",
       "      <td>0.453803</td>\n",
       "    </tr>\n",
       "    <tr>\n",
       "      <th>1.000000e-04</th>\n",
       "      <td>0.067737</td>\n",
       "      <td>0.032178</td>\n",
       "      <td>0.399311</td>\n",
       "    </tr>\n",
       "    <tr>\n",
       "      <th>1.000000e-03</th>\n",
       "      <td>0.067737</td>\n",
       "      <td>0.037167</td>\n",
       "      <td>0.185170</td>\n",
       "    </tr>\n",
       "    <tr>\n",
       "      <th rowspan=\"8\" valign=\"top\">4.0</th>\n",
       "      <th>1.000000e-10</th>\n",
       "      <td>0.050423</td>\n",
       "      <td>0.014653</td>\n",
       "      <td>-1.808309</td>\n",
       "    </tr>\n",
       "    <tr>\n",
       "      <th>1.000000e-09</th>\n",
       "      <td>0.050423</td>\n",
       "      <td>0.014653</td>\n",
       "      <td>-1.808309</td>\n",
       "    </tr>\n",
       "    <tr>\n",
       "      <th>1.000000e-08</th>\n",
       "      <td>0.050423</td>\n",
       "      <td>0.014653</td>\n",
       "      <td>-1.808309</td>\n",
       "    </tr>\n",
       "    <tr>\n",
       "      <th>1.000000e-07</th>\n",
       "      <td>0.050423</td>\n",
       "      <td>0.017150</td>\n",
       "      <td>-2.019344</td>\n",
       "    </tr>\n",
       "    <tr>\n",
       "      <th>1.000000e-06</th>\n",
       "      <td>0.050423</td>\n",
       "      <td>0.020216</td>\n",
       "      <td>-3.198765</td>\n",
       "    </tr>\n",
       "    <tr>\n",
       "      <th>1.000000e-05</th>\n",
       "      <td>0.050423</td>\n",
       "      <td>0.022377</td>\n",
       "      <td>-3.290430</td>\n",
       "    </tr>\n",
       "    <tr>\n",
       "      <th>1.000000e-04</th>\n",
       "      <td>0.050423</td>\n",
       "      <td>0.027340</td>\n",
       "      <td>-3.702704</td>\n",
       "    </tr>\n",
       "    <tr>\n",
       "      <th>1.000000e-03</th>\n",
       "      <td>0.050423</td>\n",
       "      <td>0.033714</td>\n",
       "      <td>-4.582293</td>\n",
       "    </tr>\n",
       "  </tbody>\n",
       "</table>\n",
       "</div>"
      ],
      "text/plain": [
       "                     loss1     loss2        RI\n",
       "k   tol                                       \n",
       "2.0 1.000000e-10  0.124278  0.085782  0.322729\n",
       "    1.000000e-09  0.124278  0.085782  0.322729\n",
       "    1.000000e-08  0.124278  0.085782  0.322729\n",
       "    1.000000e-07  0.124278  0.085782  0.322729\n",
       "    1.000000e-06  0.124278  0.085782  0.322726\n",
       "    1.000000e-05  0.124278  0.085884  0.321681\n",
       "    1.000000e-04  0.124278  0.085931  0.318369\n",
       "    1.000000e-03  0.124278  0.086215  0.304712\n",
       "3.0 1.000000e-10  0.067737  0.024480  0.532505\n",
       "    1.000000e-09  0.067737  0.024481  0.532500\n",
       "    1.000000e-08  0.067737  0.024697  0.531160\n",
       "    1.000000e-07  0.067737  0.025662  0.511930\n",
       "    1.000000e-06  0.067737  0.027239  0.487745\n",
       "    1.000000e-05  0.067737  0.028408  0.453803\n",
       "    1.000000e-04  0.067737  0.032178  0.399311\n",
       "    1.000000e-03  0.067737  0.037167  0.185170\n",
       "4.0 1.000000e-10  0.050423  0.014653 -1.808309\n",
       "    1.000000e-09  0.050423  0.014653 -1.808309\n",
       "    1.000000e-08  0.050423  0.014653 -1.808309\n",
       "    1.000000e-07  0.050423  0.017150 -2.019344\n",
       "    1.000000e-06  0.050423  0.020216 -3.198765\n",
       "    1.000000e-05  0.050423  0.022377 -3.290430\n",
       "    1.000000e-04  0.050423  0.027340 -3.702704\n",
       "    1.000000e-03  0.050423  0.033714 -4.582293"
      ]
     },
     "execution_count": 71,
     "metadata": {},
     "output_type": "execute_result"
    }
   ],
   "source": [
    "gdf = df.groupby(['k', 'tol']).mean()\n",
    "gdf"
   ]
  },
  {
   "cell_type": "code",
   "execution_count": null,
   "metadata": {},
   "outputs": [],
   "source": []
  },
  {
   "cell_type": "code",
   "execution_count": 72,
   "metadata": {
    "id": "XfWBXWCyF2n6"
   },
   "outputs": [
    {
     "data": {
      "image/png": "[encoded data removed]",
      "text/plain": [
       "<Figure size 1080x720 with 1 Axes>"
      ]
     },
     "metadata": {
      "needs_background": "light"
     },
     "output_type": "display_data"
    }
   ],
   "source": [
    "ax = gdf[['loss1','loss2']].plot(figsize=(15,10), kind='bar')\n",
    "plt.show()"
   ]
  },
  {
   "cell_type": "code",
   "execution_count": 73,
   "metadata": {
    "id": "lSOL5btHF2n8"
   },
   "outputs": [
    {
     "data": {
      "image/png": "[encoded data removed]",
      "text/plain": [
       "<Figure size 1080x720 with 1 Axes>"
      ]
     },
     "metadata": {
      "needs_background": "light"
     },
     "output_type": "display_data"
    }
   ],
   "source": [
    "ax = gdf[['RI']].plot(figsize=(15,10), kind='bar')\n",
    "plt.show()"
   ]
  },
  {
   "cell_type": "code",
   "execution_count": 65,
   "metadata": {},
   "outputs": [
    {
     "data": {
      "image/png": "[encoded data removed]",
      "text/plain": [
       "<Figure size 216x288 with 1 Axes>"
      ]
     },
     "metadata": {
      "needs_background": "light"
     },
     "output_type": "display_data"
    }
   ],
   "source": [
    "plt.figure(figsize=(3,4))\n",
    "plt.title(\"k=2 initial\")\n",
    "sns.histplot(df.loc[(df.k==2)]['loss1'], bins=10, color='y')\n",
    "plt.ylabel('p')\n",
    "plt.xlabel('Loss1')\n",
    "plt.xlim([0,0.4])\n",
    "plt.show();"
   ]
  },
  {
   "cell_type": "code",
   "execution_count": 48,
   "metadata": {},
   "outputs": [
    {
     "data": {
      "text/plain": [
       "array([0.  , 0.04, 0.08, 0.12, 0.16, 0.2 , 0.24, 0.28, 0.32, 0.36, 0.4 ])"
      ]
     },
     "execution_count": 48,
     "metadata": {},
     "output_type": "execute_result"
    }
   ],
   "source": [
    "bns = np.linspace(0,0.4,11)\n",
    "bns"
   ]
  },
  {
   "cell_type": "code",
   "execution_count": 56,
   "metadata": {
    "id": "Z2TYmcwt3x1-"
   },
   "outputs": [
    {
     "data": {
      "image/png": "[encoded data removed]",
      "text/plain": [
       "<Figure size 1080x720 with 8 Axes>"
      ]
     },
     "metadata": {
      "needs_background": "light"
     },
     "output_type": "display_data"
    }
   ],
   "source": [
    "tollist = [1e-10, 1e-9, 1e-8, 1e-7, 1e-6, 1e-5, 1e-4, 1e-3]\n",
    "plt.figure(figsize=(15,10))\n",
    "for i in range(8):\n",
    "  plt.title(\"k=2\")\n",
    "  plt.subplot(2,4,i+1)\n",
    "  sns.histplot(df.loc[(df.k==2) & (df.tol == tollist[i])]['loss2'], kde=False, stat='probability', label=str(tollist[i]), bins=bns)\n",
    "  sns.histplot(df.loc[(df.k==2)]['loss1'], bins=bns, stat='probability', alpha=0.5, color='y')\n",
    "  plt.ylabel('p')\n",
    "  plt.xlabel('Loss2')\n",
    "  plt.xlim([0,0.4])\n",
    "  plt.legend()\n",
    "plt.show()"
   ]
  },
  {
   "cell_type": "code",
   "execution_count": 66,
   "metadata": {},
   "outputs": [
    {
     "data": {
      "image/png": "[encoded data removed]",
      "text/plain": [
       "<Figure size 216x288 with 1 Axes>"
      ]
     },
     "metadata": {
      "needs_background": "light"
     },
     "output_type": "display_data"
    }
   ],
   "source": [
    "plt.figure(figsize=(3,4))\n",
    "plt.title(\"k=3 initial\")\n",
    "sns.histplot(df.loc[(df.k==3)]['loss1'], bins=10, color='y')\n",
    "plt.ylabel('p')\n",
    "plt.xlabel('Loss1')\n",
    "plt.xlim([0,0.3])\n",
    "plt.show();"
   ]
  },
  {
   "cell_type": "code",
   "execution_count": 59,
   "metadata": {
    "id": "vU9zL6-Q3x18"
   },
   "outputs": [
    {
     "data": {
      "image/png": "[encoded data removed]",
      "text/plain": [
       "<Figure size 1080x720 with 8 Axes>"
      ]
     },
     "metadata": {
      "needs_background": "light"
     },
     "output_type": "display_data"
    }
   ],
   "source": [
    "bns = np.linspace(0,0.3,11)\n",
    "plt.figure(figsize=(15,10))\n",
    "for i in range(8):\n",
    "  plt.title(\"k=3\")\n",
    "  plt.subplot(2,4,i+1)\n",
    "  sns.histplot(df.loc[(df.k==3) & (df.tol == tollist[i])]['loss2'], kde=False, stat='probability', label=str(tollist[i]), bins=bns)\n",
    "  sns.histplot(df.loc[(df.k==3)]['loss1'], bins=bns, stat='probability', alpha=0.5, color='y')\n",
    "  plt.ylabel('p')\n",
    "  plt.xlabel('Loss2')\n",
    "  plt.xlim([0,0.3])\n",
    "  plt.legend()\n",
    "plt.show()"
   ]
  },
  {
   "cell_type": "code",
   "execution_count": 67,
   "metadata": {},
   "outputs": [
    {
     "data": {
      "image/png": "[encoded data removed]",
      "text/plain": [
       "<Figure size 216x288 with 1 Axes>"
      ]
     },
     "metadata": {
      "needs_background": "light"
     },
     "output_type": "display_data"
    }
   ],
   "source": [
    "plt.figure(figsize=(3,4))\n",
    "plt.title(\"k=4 initial\")\n",
    "sns.histplot(df.loc[(df.k==4)]['loss1'], bins=10, color='y')\n",
    "plt.ylabel('p')\n",
    "plt.xlabel('Loss1')\n",
    "plt.xlim([0,0.25])\n",
    "plt.show();"
   ]
  },
  {
   "cell_type": "code",
   "execution_count": 64,
   "metadata": {},
   "outputs": [
    {
     "data": {
      "image/png": "[encoded data removed]",
      "text/plain": [
       "<Figure size 1080x720 with 8 Axes>"
      ]
     },
     "metadata": {
      "needs_background": "light"
     },
     "output_type": "display_data"
    }
   ],
   "source": [
    "bns = np.linspace(0,0.25,11)\n",
    "plt.figure(figsize=(15,10))\n",
    "for i in range(8):\n",
    "  plt.title(\"k=4\")\n",
    "  plt.subplot(2,4,i+1)\n",
    "  sns.histplot(df.loc[(df.k==2) & (df.tol == tollist[i])]['loss2'], kde=False, stat='probability', label=str(tollist[i]), bins=bns)\n",
    "  sns.histplot(df.loc[(df.k==2)]['loss1'], bins=bns, stat='probability', alpha=0.5, color='y')\n",
    "  plt.ylabel('p')\n",
    "  plt.xlabel('Loss2')\n",
    "  plt.xlim([0,0.25])\n",
    "  plt.legend()\n",
    "plt.show()"
   ]
  },
  {
   "cell_type": "markdown",
   "metadata": {},
   "source": [
    "## Testing negative RI for k=4"
   ]
  },
  {
   "cell_type": "code",
   "execution_count": 15,
   "metadata": {},
   "outputs": [
    {
     "data": {
      "text/html": [
       "<div>\n",
       "<style scoped>\n",
       "    .dataframe tbody tr th:only-of-type {\n",
       "        vertical-align: middle;\n",
       "    }\n",
       "\n",
       "    .dataframe tbody tr th {\n",
       "        vertical-align: top;\n",
       "    }\n",
       "\n",
       "    .dataframe thead th {\n",
       "        text-align: right;\n",
       "    }\n",
       "</style>\n",
       "<table border=\"1\" class=\"dataframe\">\n",
       "  <thead>\n",
       "    <tr style=\"text-align: right;\">\n",
       "      <th></th>\n",
       "      <th>k</th>\n",
       "      <th>tol</th>\n",
       "      <th>loss1</th>\n",
       "      <th>loss2</th>\n",
       "      <th>RI</th>\n",
       "    </tr>\n",
       "  </thead>\n",
       "  <tbody>\n",
       "    <tr>\n",
       "      <th>1600</th>\n",
       "      <td>4.0</td>\n",
       "      <td>1.000000e-10</td>\n",
       "      <td>0.005085</td>\n",
       "      <td>4.379146e-02</td>\n",
       "      <td>-7.612508</td>\n",
       "    </tr>\n",
       "    <tr>\n",
       "      <th>1601</th>\n",
       "      <td>4.0</td>\n",
       "      <td>1.000000e-09</td>\n",
       "      <td>0.005085</td>\n",
       "      <td>4.379146e-02</td>\n",
       "      <td>-7.612508</td>\n",
       "    </tr>\n",
       "    <tr>\n",
       "      <th>1602</th>\n",
       "      <td>4.0</td>\n",
       "      <td>1.000000e-08</td>\n",
       "      <td>0.005085</td>\n",
       "      <td>4.379146e-02</td>\n",
       "      <td>-7.612508</td>\n",
       "    </tr>\n",
       "    <tr>\n",
       "      <th>1603</th>\n",
       "      <td>4.0</td>\n",
       "      <td>1.000000e-07</td>\n",
       "      <td>0.005085</td>\n",
       "      <td>5.214026e-02</td>\n",
       "      <td>-9.254473</td>\n",
       "    </tr>\n",
       "    <tr>\n",
       "      <th>1604</th>\n",
       "      <td>4.0</td>\n",
       "      <td>1.000000e-06</td>\n",
       "      <td>0.005085</td>\n",
       "      <td>7.605612e-02</td>\n",
       "      <td>-13.958028</td>\n",
       "    </tr>\n",
       "    <tr>\n",
       "      <th>1605</th>\n",
       "      <td>4.0</td>\n",
       "      <td>1.000000e-05</td>\n",
       "      <td>0.005085</td>\n",
       "      <td>7.605612e-02</td>\n",
       "      <td>-13.958028</td>\n",
       "    </tr>\n",
       "    <tr>\n",
       "      <th>1606</th>\n",
       "      <td>4.0</td>\n",
       "      <td>1.000000e-04</td>\n",
       "      <td>0.005085</td>\n",
       "      <td>7.645147e-02</td>\n",
       "      <td>-14.035782</td>\n",
       "    </tr>\n",
       "    <tr>\n",
       "      <th>1607</th>\n",
       "      <td>4.0</td>\n",
       "      <td>1.000000e-03</td>\n",
       "      <td>0.005085</td>\n",
       "      <td>8.499573e-02</td>\n",
       "      <td>-15.716189</td>\n",
       "    </tr>\n",
       "    <tr>\n",
       "      <th>1608</th>\n",
       "      <td>4.0</td>\n",
       "      <td>1.000000e-10</td>\n",
       "      <td>0.051404</td>\n",
       "      <td>5.031179e-12</td>\n",
       "      <td>1.000000</td>\n",
       "    </tr>\n",
       "    <tr>\n",
       "      <th>1609</th>\n",
       "      <td>4.0</td>\n",
       "      <td>1.000000e-09</td>\n",
       "      <td>0.051404</td>\n",
       "      <td>2.382974e-11</td>\n",
       "      <td>1.000000</td>\n",
       "    </tr>\n",
       "    <tr>\n",
       "      <th>1610</th>\n",
       "      <td>4.0</td>\n",
       "      <td>1.000000e-08</td>\n",
       "      <td>0.051404</td>\n",
       "      <td>2.903074e-10</td>\n",
       "      <td>1.000000</td>\n",
       "    </tr>\n",
       "    <tr>\n",
       "      <th>1611</th>\n",
       "      <td>4.0</td>\n",
       "      <td>1.000000e-07</td>\n",
       "      <td>0.051404</td>\n",
       "      <td>5.086628e-03</td>\n",
       "      <td>0.901045</td>\n",
       "    </tr>\n",
       "    <tr>\n",
       "      <th>1612</th>\n",
       "      <td>4.0</td>\n",
       "      <td>1.000000e-06</td>\n",
       "      <td>0.051404</td>\n",
       "      <td>5.086628e-03</td>\n",
       "      <td>0.901045</td>\n",
       "    </tr>\n",
       "    <tr>\n",
       "      <th>1613</th>\n",
       "      <td>4.0</td>\n",
       "      <td>1.000000e-05</td>\n",
       "      <td>0.051404</td>\n",
       "      <td>7.220582e-03</td>\n",
       "      <td>0.859532</td>\n",
       "    </tr>\n",
       "    <tr>\n",
       "      <th>1614</th>\n",
       "      <td>4.0</td>\n",
       "      <td>1.000000e-04</td>\n",
       "      <td>0.051404</td>\n",
       "      <td>7.220597e-03</td>\n",
       "      <td>0.859531</td>\n",
       "    </tr>\n",
       "    <tr>\n",
       "      <th>1615</th>\n",
       "      <td>4.0</td>\n",
       "      <td>1.000000e-03</td>\n",
       "      <td>0.051404</td>\n",
       "      <td>4.114088e-02</td>\n",
       "      <td>0.199649</td>\n",
       "    </tr>\n",
       "    <tr>\n",
       "      <th>1616</th>\n",
       "      <td>4.0</td>\n",
       "      <td>1.000000e-10</td>\n",
       "      <td>0.028761</td>\n",
       "      <td>3.540385e-02</td>\n",
       "      <td>-0.230986</td>\n",
       "    </tr>\n",
       "    <tr>\n",
       "      <th>1617</th>\n",
       "      <td>4.0</td>\n",
       "      <td>1.000000e-09</td>\n",
       "      <td>0.028761</td>\n",
       "      <td>3.540385e-02</td>\n",
       "      <td>-0.230986</td>\n",
       "    </tr>\n",
       "    <tr>\n",
       "      <th>1618</th>\n",
       "      <td>4.0</td>\n",
       "      <td>1.000000e-08</td>\n",
       "      <td>0.028761</td>\n",
       "      <td>3.540385e-02</td>\n",
       "      <td>-0.230986</td>\n",
       "    </tr>\n",
       "    <tr>\n",
       "      <th>1619</th>\n",
       "      <td>4.0</td>\n",
       "      <td>1.000000e-07</td>\n",
       "      <td>0.028761</td>\n",
       "      <td>3.540385e-02</td>\n",
       "      <td>-0.230986</td>\n",
       "    </tr>\n",
       "  </tbody>\n",
       "</table>\n",
       "</div>"
      ],
      "text/plain": [
       "        k           tol     loss1         loss2         RI\n",
       "1600  4.0  1.000000e-10  0.005085  4.379146e-02  -7.612508\n",
       "1601  4.0  1.000000e-09  0.005085  4.379146e-02  -7.612508\n",
       "1602  4.0  1.000000e-08  0.005085  4.379146e-02  -7.612508\n",
       "1603  4.0  1.000000e-07  0.005085  5.214026e-02  -9.254473\n",
       "1604  4.0  1.000000e-06  0.005085  7.605612e-02 -13.958028\n",
       "1605  4.0  1.000000e-05  0.005085  7.605612e-02 -13.958028\n",
       "1606  4.0  1.000000e-04  0.005085  7.645147e-02 -14.035782\n",
       "1607  4.0  1.000000e-03  0.005085  8.499573e-02 -15.716189\n",
       "1608  4.0  1.000000e-10  0.051404  5.031179e-12   1.000000\n",
       "1609  4.0  1.000000e-09  0.051404  2.382974e-11   1.000000\n",
       "1610  4.0  1.000000e-08  0.051404  2.903074e-10   1.000000\n",
       "1611  4.0  1.000000e-07  0.051404  5.086628e-03   0.901045\n",
       "1612  4.0  1.000000e-06  0.051404  5.086628e-03   0.901045\n",
       "1613  4.0  1.000000e-05  0.051404  7.220582e-03   0.859532\n",
       "1614  4.0  1.000000e-04  0.051404  7.220597e-03   0.859531\n",
       "1615  4.0  1.000000e-03  0.051404  4.114088e-02   0.199649\n",
       "1616  4.0  1.000000e-10  0.028761  3.540385e-02  -0.230986\n",
       "1617  4.0  1.000000e-09  0.028761  3.540385e-02  -0.230986\n",
       "1618  4.0  1.000000e-08  0.028761  3.540385e-02  -0.230986\n",
       "1619  4.0  1.000000e-07  0.028761  3.540385e-02  -0.230986"
      ]
     },
     "execution_count": 15,
     "metadata": {},
     "output_type": "execute_result"
    }
   ],
   "source": [
    "(df.loc[(df.k==4)]).head(n=20)"
   ]
  },
  {
   "cell_type": "code",
   "execution_count": 16,
   "metadata": {},
   "outputs": [
    {
     "data": {
      "text/plain": [
       "k        4.000000\n",
       "tol      0.000139\n",
       "loss1    0.050423\n",
       "loss2    0.020594\n",
       "RI      -2.777308\n",
       "dtype: float64"
      ]
     },
     "execution_count": 16,
     "metadata": {},
     "output_type": "execute_result"
    }
   ],
   "source": [
    "df.loc[(df.k==4)].mean()"
   ]
  },
  {
   "cell_type": "code",
   "execution_count": 74,
   "metadata": {},
   "outputs": [
    {
     "data": {
      "text/html": [
       "<div>\n",
       "<style scoped>\n",
       "    .dataframe tbody tr th:only-of-type {\n",
       "        vertical-align: middle;\n",
       "    }\n",
       "\n",
       "    .dataframe tbody tr th {\n",
       "        vertical-align: top;\n",
       "    }\n",
       "\n",
       "    .dataframe thead th {\n",
       "        text-align: right;\n",
       "    }\n",
       "</style>\n",
       "<table border=\"1\" class=\"dataframe\">\n",
       "  <thead>\n",
       "    <tr style=\"text-align: right;\">\n",
       "      <th></th>\n",
       "      <th></th>\n",
       "      <th>loss1</th>\n",
       "      <th>loss2</th>\n",
       "      <th>RI</th>\n",
       "      <th>RI2</th>\n",
       "    </tr>\n",
       "    <tr>\n",
       "      <th>k</th>\n",
       "      <th>tol</th>\n",
       "      <th></th>\n",
       "      <th></th>\n",
       "      <th></th>\n",
       "      <th></th>\n",
       "    </tr>\n",
       "  </thead>\n",
       "  <tbody>\n",
       "    <tr>\n",
       "      <th rowspan=\"8\" valign=\"top\">2.0</th>\n",
       "      <th>1.000000e-10</th>\n",
       "      <td>0.124278</td>\n",
       "      <td>0.085782</td>\n",
       "      <td>0.322729</td>\n",
       "      <td>0.309759</td>\n",
       "    </tr>\n",
       "    <tr>\n",
       "      <th>1.000000e-09</th>\n",
       "      <td>0.124278</td>\n",
       "      <td>0.085782</td>\n",
       "      <td>0.322729</td>\n",
       "      <td>0.309759</td>\n",
       "    </tr>\n",
       "    <tr>\n",
       "      <th>1.000000e-08</th>\n",
       "      <td>0.124278</td>\n",
       "      <td>0.085782</td>\n",
       "      <td>0.322729</td>\n",
       "      <td>0.309759</td>\n",
       "    </tr>\n",
       "    <tr>\n",
       "      <th>1.000000e-07</th>\n",
       "      <td>0.124278</td>\n",
       "      <td>0.085782</td>\n",
       "      <td>0.322729</td>\n",
       "      <td>0.309759</td>\n",
       "    </tr>\n",
       "    <tr>\n",
       "      <th>1.000000e-06</th>\n",
       "      <td>0.124278</td>\n",
       "      <td>0.085782</td>\n",
       "      <td>0.322726</td>\n",
       "      <td>0.309756</td>\n",
       "    </tr>\n",
       "    <tr>\n",
       "      <th>1.000000e-05</th>\n",
       "      <td>0.124278</td>\n",
       "      <td>0.085884</td>\n",
       "      <td>0.321681</td>\n",
       "      <td>0.308938</td>\n",
       "    </tr>\n",
       "    <tr>\n",
       "      <th>1.000000e-04</th>\n",
       "      <td>0.124278</td>\n",
       "      <td>0.085931</td>\n",
       "      <td>0.318369</td>\n",
       "      <td>0.308560</td>\n",
       "    </tr>\n",
       "    <tr>\n",
       "      <th>1.000000e-03</th>\n",
       "      <td>0.124278</td>\n",
       "      <td>0.086215</td>\n",
       "      <td>0.304712</td>\n",
       "      <td>0.306269</td>\n",
       "    </tr>\n",
       "    <tr>\n",
       "      <th rowspan=\"8\" valign=\"top\">3.0</th>\n",
       "      <th>1.000000e-10</th>\n",
       "      <td>0.067737</td>\n",
       "      <td>0.024480</td>\n",
       "      <td>0.532505</td>\n",
       "      <td>0.638611</td>\n",
       "    </tr>\n",
       "    <tr>\n",
       "      <th>1.000000e-09</th>\n",
       "      <td>0.067737</td>\n",
       "      <td>0.024481</td>\n",
       "      <td>0.532500</td>\n",
       "      <td>0.638594</td>\n",
       "    </tr>\n",
       "    <tr>\n",
       "      <th>1.000000e-08</th>\n",
       "      <td>0.067737</td>\n",
       "      <td>0.024697</td>\n",
       "      <td>0.531160</td>\n",
       "      <td>0.635404</td>\n",
       "    </tr>\n",
       "    <tr>\n",
       "      <th>1.000000e-07</th>\n",
       "      <td>0.067737</td>\n",
       "      <td>0.025662</td>\n",
       "      <td>0.511930</td>\n",
       "      <td>0.621155</td>\n",
       "    </tr>\n",
       "    <tr>\n",
       "      <th>1.000000e-06</th>\n",
       "      <td>0.067737</td>\n",
       "      <td>0.027239</td>\n",
       "      <td>0.487745</td>\n",
       "      <td>0.597874</td>\n",
       "    </tr>\n",
       "    <tr>\n",
       "      <th>1.000000e-05</th>\n",
       "      <td>0.067737</td>\n",
       "      <td>0.028408</td>\n",
       "      <td>0.453803</td>\n",
       "      <td>0.580617</td>\n",
       "    </tr>\n",
       "    <tr>\n",
       "      <th>1.000000e-04</th>\n",
       "      <td>0.067737</td>\n",
       "      <td>0.032178</td>\n",
       "      <td>0.399311</td>\n",
       "      <td>0.524961</td>\n",
       "    </tr>\n",
       "    <tr>\n",
       "      <th>1.000000e-03</th>\n",
       "      <td>0.067737</td>\n",
       "      <td>0.037167</td>\n",
       "      <td>0.185170</td>\n",
       "      <td>0.451302</td>\n",
       "    </tr>\n",
       "    <tr>\n",
       "      <th rowspan=\"8\" valign=\"top\">4.0</th>\n",
       "      <th>1.000000e-10</th>\n",
       "      <td>0.050423</td>\n",
       "      <td>0.014653</td>\n",
       "      <td>-1.808309</td>\n",
       "      <td>0.709407</td>\n",
       "    </tr>\n",
       "    <tr>\n",
       "      <th>1.000000e-09</th>\n",
       "      <td>0.050423</td>\n",
       "      <td>0.014653</td>\n",
       "      <td>-1.808309</td>\n",
       "      <td>0.709407</td>\n",
       "    </tr>\n",
       "    <tr>\n",
       "      <th>1.000000e-08</th>\n",
       "      <td>0.050423</td>\n",
       "      <td>0.014653</td>\n",
       "      <td>-1.808309</td>\n",
       "      <td>0.709407</td>\n",
       "    </tr>\n",
       "    <tr>\n",
       "      <th>1.000000e-07</th>\n",
       "      <td>0.050423</td>\n",
       "      <td>0.017150</td>\n",
       "      <td>-2.019344</td>\n",
       "      <td>0.659875</td>\n",
       "    </tr>\n",
       "    <tr>\n",
       "      <th>1.000000e-06</th>\n",
       "      <td>0.050423</td>\n",
       "      <td>0.020216</td>\n",
       "      <td>-3.198765</td>\n",
       "      <td>0.599076</td>\n",
       "    </tr>\n",
       "    <tr>\n",
       "      <th>1.000000e-05</th>\n",
       "      <td>0.050423</td>\n",
       "      <td>0.022377</td>\n",
       "      <td>-3.290430</td>\n",
       "      <td>0.556220</td>\n",
       "    </tr>\n",
       "    <tr>\n",
       "      <th>1.000000e-04</th>\n",
       "      <td>0.050423</td>\n",
       "      <td>0.027340</td>\n",
       "      <td>-3.702704</td>\n",
       "      <td>0.457788</td>\n",
       "    </tr>\n",
       "    <tr>\n",
       "      <th>1.000000e-03</th>\n",
       "      <td>0.050423</td>\n",
       "      <td>0.033714</td>\n",
       "      <td>-4.582293</td>\n",
       "      <td>0.331385</td>\n",
       "    </tr>\n",
       "  </tbody>\n",
       "</table>\n",
       "</div>"
      ],
      "text/plain": [
       "                     loss1     loss2        RI       RI2\n",
       "k   tol                                                 \n",
       "2.0 1.000000e-10  0.124278  0.085782  0.322729  0.309759\n",
       "    1.000000e-09  0.124278  0.085782  0.322729  0.309759\n",
       "    1.000000e-08  0.124278  0.085782  0.322729  0.309759\n",
       "    1.000000e-07  0.124278  0.085782  0.322729  0.309759\n",
       "    1.000000e-06  0.124278  0.085782  0.322726  0.309756\n",
       "    1.000000e-05  0.124278  0.085884  0.321681  0.308938\n",
       "    1.000000e-04  0.124278  0.085931  0.318369  0.308560\n",
       "    1.000000e-03  0.124278  0.086215  0.304712  0.306269\n",
       "3.0 1.000000e-10  0.067737  0.024480  0.532505  0.638611\n",
       "    1.000000e-09  0.067737  0.024481  0.532500  0.638594\n",
       "    1.000000e-08  0.067737  0.024697  0.531160  0.635404\n",
       "    1.000000e-07  0.067737  0.025662  0.511930  0.621155\n",
       "    1.000000e-06  0.067737  0.027239  0.487745  0.597874\n",
       "    1.000000e-05  0.067737  0.028408  0.453803  0.580617\n",
       "    1.000000e-04  0.067737  0.032178  0.399311  0.524961\n",
       "    1.000000e-03  0.067737  0.037167  0.185170  0.451302\n",
       "4.0 1.000000e-10  0.050423  0.014653 -1.808309  0.709407\n",
       "    1.000000e-09  0.050423  0.014653 -1.808309  0.709407\n",
       "    1.000000e-08  0.050423  0.014653 -1.808309  0.709407\n",
       "    1.000000e-07  0.050423  0.017150 -2.019344  0.659875\n",
       "    1.000000e-06  0.050423  0.020216 -3.198765  0.599076\n",
       "    1.000000e-05  0.050423  0.022377 -3.290430  0.556220\n",
       "    1.000000e-04  0.050423  0.027340 -3.702704  0.457788\n",
       "    1.000000e-03  0.050423  0.033714 -4.582293  0.331385"
      ]
     },
     "execution_count": 74,
     "metadata": {},
     "output_type": "execute_result"
    }
   ],
   "source": [
    "# Now a trick\n",
    "gdf['RI2'] = (gdf['loss1']-gdf['loss2'])/gdf['loss1']\n",
    "gdf"
   ]
  },
  {
   "cell_type": "code",
   "execution_count": 75,
   "metadata": {},
   "outputs": [
    {
     "data": {
      "image/png": "[encoded data removed]",
      "text/plain": [
       "<Figure size 1080x720 with 1 Axes>"
      ]
     },
     "metadata": {
      "needs_background": "light"
     },
     "output_type": "display_data"
    }
   ],
   "source": [
    "ax = gdf[['RI2']].plot(figsize=(15,10), kind='bar')\n",
    "plt.show()"
   ]
  },
  {
   "cell_type": "code",
   "execution_count": null,
   "metadata": {},
   "outputs": [],
   "source": []
  }
 ],
 "metadata": {
  "colab": {
   "collapsed_sections": [],
   "name": "qsvd_toltest.ipynb",
   "provenance": []
  },
  "interpreter": {
   "hash": "363a2faa70e0b51f5ef03eefa8222616879a3cbe854269a79a8bc28e29574681"
  },
  "kernelspec": {
   "display_name": "Python 3",
   "language": "python",
   "name": "python3"
  },
  "language_info": {
   "codemirror_mode": {
    "name": "ipython",
    "version": 3
   },
   "file_extension": ".py",
   "mimetype": "text/x-python",
   "name": "python",
   "nbconvert_exporter": "python",
   "pygments_lexer": "ipython3",
   "version": "3.8.8"
  }
 },
 "nbformat": 4,
 "nbformat_minor": 1
}
