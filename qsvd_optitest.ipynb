{
 "cells": [
  {
   "cell_type": "code",
   "execution_count": 1,
   "metadata": {},
   "outputs": [],
   "source": [
    "import numpy as np\n",
    "import scipy.optimize as optimize\n",
    "import time"
   ]
  },
  {
   "cell_type": "code",
   "execution_count": 2,
   "metadata": {},
   "outputs": [],
   "source": [
    "\"\"\" Optimization Algorithm \"\"\"\n",
    "\"\"\" New Matrix \"\"\"\n",
    "def newMat_2(x, Ut,Lt,Vt):\n",
    "    l0,l1 = Lt[0], Lt[1]\n",
    "    U_new = np.zeros((Ut.shape), dtype=np.cfloat)\n",
    "    for i in range(Ut.shape[0]):\n",
    "      U_new[i][0] = np.cos(x[i]) / l0\n",
    "      U_new[i][1] = (np.sin(x[i]) / l1) * np.exp(1j*x[i+Ut.shape[0]])\n",
    "    return np.dot(np.dot(U_new,np.diag(Lt)), Vt)\n",
    "\n",
    "\n",
    "def newMat_3(x, Ut,Lt,Vt):\n",
    "    l0,l1,l2 = Lt[0], Lt[1], Lt[2]\n",
    "    U_new = np.zeros((Ut.shape), dtype=np.cfloat)\n",
    "    for i in range(Ut.shape[0]):\n",
    "      U_new[i][0] = np.cos(x[i]) / l0\n",
    "      U_new[i][1] = (np.sin(x[i]) / l1) * (np.cos(x[i+Ut.shape[0]])) * np.exp(1j*x[i+2*Ut.shape[0]])\n",
    "      U_new[i][2] = (np.sin(x[i]) / l2) * (np.sin(x[i+Ut.shape[0]])) * np.exp(1j*x[i+3*Ut.shape[0]])\n",
    "    return np.dot(np.dot(U_new,np.diag(Lt)), Vt)\n",
    "\n",
    "\n",
    "def newMat_4(x, Ut,Lt,Vt):\n",
    "    l0,l1,l2,l3 = Lt[0], Lt[1], Lt[2], Lt[3]\n",
    "    U_new = np.zeros((Ut.shape), dtype=np.cfloat)\n",
    "    for i in range(Ut.shape[0]):\n",
    "      U_new[i][0] = (np.cos(x[i]) / l0) * (np.cos(x[i+Ut.shape[0]]))\n",
    "      U_new[i][1] = (np.cos(x[i]) / l1) * (np.sin(x[i+Ut.shape[0]])) * np.exp(1j*x[i+3*Ut.shape[0]])\n",
    "      U_new[i][2] = (np.sin(x[i]) / l2) * (np.cos(x[i+2*Ut.shape[0]])) * np.exp(1j*x[i+4*Ut.shape[0]])\n",
    "      U_new[i][3] = (np.sin(x[i]) / l3) * (np.sin(x[i+2*Ut.shape[0]])) * np.exp(1j*x[i+5*Ut.shape[0]])\n",
    "    return np.dot(np.dot(U_new,np.diag(Lt)), Vt)\n",
    "\n",
    "\n",
    "\"\"\" Cost Function \"\"\"\n",
    "def costFn(x, Ut,Lt,Vt,B,k):\n",
    "    if k==2:\n",
    "      Bp = newMat_2(x, Ut, Lt, Vt)\n",
    "    elif k==3:\n",
    "      Bp = newMat_3(x, Ut, Lt, Vt)\n",
    "    elif k==4:\n",
    "      Bp = newMat_4(x, Ut, Lt, Vt)\n",
    "    else:\n",
    "      return 0\n",
    "    loss = np.linalg.norm(B**2 - np.abs(Bp)**2)\n",
    "    return (loss)"
   ]
  },
  {
   "cell_type": "code",
   "execution_count": 3,
   "metadata": {},
   "outputs": [],
   "source": [
    "\"\"\" Calculate Results \"\"\"\n",
    "def calcResults(k, m ,n):\n",
    "    res = []\n",
    "    times = []\n",
    "    print(\"K = \", k, \", M = \", m, \", N = \", n)\n",
    "    for i in range(10):\n",
    "        A = np.random.rand(m, n)\n",
    "        for j in range(m): A[j] /= sum(A[j])\n",
    "        B = np.sqrt(A)\n",
    "        U, L, V = np.linalg.svd(B, full_matrices=False)\n",
    "        size = (2*m*(k-1))\n",
    "        initial_guess = np.ones((size,), dtype=np.longdouble)\n",
    "        Ut = U[:, :k]\n",
    "        Vt = V[:k]\n",
    "        Lt = L[:k]\n",
    "        Bt = np.dot(np.dot(Ut,np.diag(Lt)), Vt)\n",
    "        bounds = []\n",
    "        for _ in range(size): bounds.append((-np.pi, np.pi))\n",
    "\n",
    "        start1 = time.time()\n",
    "        result = optimize.minimize(fun=costFn, x0=initial_guess, args=(Ut,Lt,Vt,B,k),\n",
    "                                    tol=1e-7, method='Nelder-Mead', options={'maxiter':1e+10})\n",
    "        time1 = time.time()-start1\n",
    "        start2 = time.time()\n",
    "        result2 = optimize.differential_evolution(func=costFn, args=(Ut,Lt,Vt,B,k), bounds=bounds, seed=0, tol=1e-7)\n",
    "        time2 = time.time()-start2\n",
    "        \n",
    "        res.append([np.linalg.norm(B**2 - Bt**2), costFn(result.x,Ut,Lt,Vt,B,k), costFn(result2.x,Ut,Lt,Vt,B,k)])\n",
    "        times.append([time1, time2])\n",
    "        print(i, \" \", end='')\n",
    "    print('\\n')\n",
    "    return np.array(res), np.array(times)"
   ]
  },
  {
   "cell_type": "code",
   "execution_count": 4,
   "metadata": {},
   "outputs": [],
   "source": [
    "def printStatistics(res, times):\n",
    "    print(\"Loss in truncation vs Loss after Nelder-Mead vs Loss after Differential Evolution: \")\n",
    "    print(res)\n",
    "    print(\"\\nTime taken for Nelder-Mead vs Time taken to complete differential evolution: \")\n",
    "    print(times)\n",
    "    print(\"\\nMean Losses: \", res.mean(axis=0))\n",
    "    print(\"\\nMean Execution Times: \", times.mean(axis=0))"
   ]
  },
  {
   "cell_type": "code",
   "execution_count": 5,
   "metadata": {},
   "outputs": [
    {
     "name": "stdout",
     "output_type": "stream",
     "text": [
      "K =  2 , M =  3 , N =  3\n",
      "0  1  2  3  4  5  6  7  8  9  \n",
      "\n",
      "Loss in truncation vs Loss after Nelder-Mead vs Loss after Differential Evolution: \n",
      "[[0.10987973 0.07937117 0.07937117]\n",
      " [0.16342922 0.12411882 0.12411882]\n",
      " [0.11269724 0.07021244 0.07021244]\n",
      " [0.00655305 0.00457533 0.00457533]\n",
      " [0.38978782 0.35230873 0.35230873]\n",
      " [0.10290044 0.09564625 0.09560268]\n",
      " [0.20837867 0.13924786 0.13924787]\n",
      " [0.07403156 0.03438314 0.03438314]\n",
      " [0.03034444 0.02479427 0.02479427]\n",
      " [0.07011035 0.04544871 0.04544871]]\n",
      "\n",
      "Time taken for Nelder-Mead vs Time taken to complete differential evolution: \n",
      "[[ 0.61812377  8.42601848]\n",
      " [ 0.62053442  4.87711215]\n",
      " [ 0.49073052  7.28753495]\n",
      " [ 0.22187138  5.32305574]\n",
      " [ 0.26727152  3.34424806]\n",
      " [ 0.57065034 10.10132623]\n",
      " [ 0.15864682  4.45150781]\n",
      " [ 0.15596533  4.14570761]\n",
      " [ 0.54135251 12.68482852]\n",
      " [ 0.18165469  4.40873408]]\n",
      "\n",
      "Mean Losses:  [0.12681125 0.09701067 0.09700631]\n",
      "\n",
      "Mean Execution Times:  [0.38268013 6.50500736]\n"
     ]
    }
   ],
   "source": [
    "k= 2\n",
    "printStatistics(*calcResults(k, k+1, k+1))"
   ]
  },
  {
   "cell_type": "code",
   "execution_count": 6,
   "metadata": {},
   "outputs": [
    {
     "name": "stdout",
     "output_type": "stream",
     "text": [
      "K =  3 , M =  4 , N =  4\n",
      "0  1  2  3  4  5  6  7  8  9  \n",
      "\n",
      "Loss in truncation vs Loss after Nelder-Mead vs Loss after Differential Evolution: \n",
      "[[1.09781152e-02 3.83175413e-09 3.95438015e-08]\n",
      " [3.43465223e-02 1.57485841e-02 1.95281462e-08]\n",
      " [1.20865147e-01 9.06723146e-02 8.80369326e-02]\n",
      " [9.57381882e-03 4.84791119e-03 6.95613918e-03]\n",
      " [2.20252918e-02 1.68846254e-02 1.68844929e-02]\n",
      " [3.26430744e-02 2.38567729e-02 3.23185905e-08]\n",
      " [8.40399834e-02 1.00338703e-09 1.88205402e-08]\n",
      " [1.42589246e-01 3.36500203e-03 1.49803650e-08]\n",
      " [3.35832754e-02 2.77638876e-02 2.46404901e-08]\n",
      " [4.49191616e-02 3.43639275e-02 3.21647687e-02]]\n",
      "\n",
      "Time taken for Nelder-Mead vs Time taken to complete differential evolution: \n",
      "[[  3.86894107 150.56200266]\n",
      " [  7.09144402 161.66978812]\n",
      " [  7.45628333 150.27913046]\n",
      " [ 14.00636649 155.8259325 ]\n",
      " [ 11.84432006 158.56198382]\n",
      " [  6.44989133 159.66674113]\n",
      " [  6.46204686 156.99303079]\n",
      " [  7.39602804 158.04089403]\n",
      " [  5.02198792 157.36519432]\n",
      " [ 10.16790724 150.84926152]]\n",
      "\n",
      "Mean Losses:  [0.05355636 0.0217503  0.01440425]\n",
      "\n",
      "Mean Execution Times:  [  7.97652164 155.98139594]\n"
     ]
    }
   ],
   "source": [
    "k= 3\n",
    "printStatistics(*calcResults(k, k+1, k+1))"
   ]
  },
  {
   "cell_type": "code",
   "execution_count": 7,
   "metadata": {},
   "outputs": [
    {
     "name": "stdout",
     "output_type": "stream",
     "text": [
      "K =  4 , M =  5 , N =  5\n",
      "0  1  2  3  4  5  6  7  8  9  \n",
      "\n",
      "Loss in truncation vs Loss after Nelder-Mead vs Loss after Differential Evolution: \n",
      "[[3.35303600e-02 3.84582879e-02 5.36842852e-02]\n",
      " [7.22014651e-03 3.87252894e-02 4.84426724e-03]\n",
      " [1.87994621e-02 1.45804634e-09 1.24995131e-07]\n",
      " [1.83041210e-02 1.44404833e-08 2.38608665e-01]\n",
      " [2.07602510e-02 9.89338310e-10 2.94827571e-02]\n",
      " [3.53459182e-02 6.31714362e-04 1.52107445e-02]\n",
      " [1.26158587e-01 4.33017242e-02 2.25875913e-02]\n",
      " [9.66563268e-02 7.08200960e-03 6.16314889e-08]\n",
      " [9.02452546e-02 5.46310294e-02 9.36368781e-02]\n",
      " [2.02110004e-02 3.86695005e-03 3.27808044e-06]]\n",
      "\n",
      "Time taken for Nelder-Mead vs Time taken to complete differential evolution: \n",
      "[[ 38.45283318 440.73033357]\n",
      " [ 43.56033611 425.48212552]\n",
      " [ 21.24414945 484.48989391]\n",
      " [ 23.38868999 489.40111017]\n",
      " [ 35.58993793 449.60278964]\n",
      " [ 66.31484675 433.98526525]\n",
      " [ 36.27268028 437.0058167 ]\n",
      " [ 43.17346644 449.72630405]\n",
      " [ 41.95279717 443.08637452]\n",
      " [ 46.67003846 411.64376855]]\n",
      "\n",
      "Mean Losses:  [0.04672314 0.0186697  0.04580587]\n",
      "\n",
      "Mean Execution Times:  [ 39.66197758 446.51537819]\n"
     ]
    }
   ],
   "source": [
    "k= 4\n",
    "printStatistics(*calcResults(k, k+1, k+1))"
   ]
  }
 ],
 "metadata": {
  "interpreter": {
   "hash": "363a2faa70e0b51f5ef03eefa8222616879a3cbe854269a79a8bc28e29574681"
  },
  "kernelspec": {
   "display_name": "Python 3.10.1 64-bit ('env': venv)",
   "language": "python",
   "name": "python3"
  },
  "language_info": {
   "codemirror_mode": {
    "name": "ipython",
    "version": 3
   },
   "file_extension": ".py",
   "mimetype": "text/x-python",
   "name": "python",
   "nbconvert_exporter": "python",
   "pygments_lexer": "ipython3",
   "version": "3.10.1"
  },
  "orig_nbformat": 4
 },
 "nbformat": 4,
 "nbformat_minor": 2
}
