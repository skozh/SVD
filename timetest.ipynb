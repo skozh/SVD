{
 "cells": [
  {
   "cell_type": "code",
   "execution_count": 1,
   "metadata": {},
   "outputs": [],
   "source": [
    "import numpy as np\n",
    "import pandas as pd\n",
    "import matplotlib.pyplot as plt\n",
    "plt.rcParams[\"figure.figsize\"] = (10,8)"
   ]
  },
  {
   "cell_type": "code",
   "execution_count": 2,
   "metadata": {},
   "outputs": [],
   "source": [
    "def readData(k):\n",
    "    n = 4\n",
    "\n",
    "    total_data = []\n",
    "    for m in range(4, 12):\n",
    "        filename = 'data/k{0}_test/m{1}_n{2}_1.npy'.format(k, m, n)\n",
    "        arr = np.load(filename)\n",
    "        mean_val = (np.mean(arr, axis=0))\n",
    "        total_data.append([m, n, mean_val[0], mean_val[1], mean_val[2]])\n",
    "    \n",
    "    df_k_1 = pd.DataFrame(total_data, columns=['m', 'n', 'loss_initial', 'loss_final', 'time'])\n",
    "\n",
    "    total_data2 = []\n",
    "    for m in range(4, 12):\n",
    "        filename = 'data/k{0}_test/m{1}_n{2}_2.npy'.format(k, m, n)\n",
    "        arr = np.load(filename)\n",
    "        mean_val = (np.mean(arr, axis=0))\n",
    "        total_data2.append([m, n, mean_val[0], mean_val[1], mean_val[2]])\n",
    "        \n",
    "    df_k_2 = pd.DataFrame(total_data2, columns=['m', 'n', 'loss_initial', 'loss_final', 'time'])\n",
    "    return df_k_1, df_k_2"
   ]
  },
  {
   "cell_type": "code",
   "execution_count": 3,
   "metadata": {},
   "outputs": [],
   "source": [
    "\n",
    "df_k2_1, df_k2_2 = readData(k=2)\n",
    "df_k3_1, df_k3_2 = readData(k=3)"
   ]
  },
  {
   "cell_type": "code",
   "execution_count": 4,
   "metadata": {},
   "outputs": [
    {
     "data": {
      "text/html": [
       "<div>\n",
       "<style scoped>\n",
       "    .dataframe tbody tr th:only-of-type {\n",
       "        vertical-align: middle;\n",
       "    }\n",
       "\n",
       "    .dataframe tbody tr th {\n",
       "        vertical-align: top;\n",
       "    }\n",
       "\n",
       "    .dataframe thead th {\n",
       "        text-align: right;\n",
       "    }\n",
       "</style>\n",
       "<table border=\"1\" class=\"dataframe\">\n",
       "  <thead>\n",
       "    <tr style=\"text-align: right;\">\n",
       "      <th></th>\n",
       "      <th>m</th>\n",
       "      <th>n</th>\n",
       "      <th>loss_initial</th>\n",
       "      <th>loss_final</th>\n",
       "      <th>time</th>\n",
       "    </tr>\n",
       "  </thead>\n",
       "  <tbody>\n",
       "    <tr>\n",
       "      <th>0</th>\n",
       "      <td>4</td>\n",
       "      <td>4</td>\n",
       "      <td>0.244954</td>\n",
       "      <td>0.202878</td>\n",
       "      <td>0.858973</td>\n",
       "    </tr>\n",
       "    <tr>\n",
       "      <th>1</th>\n",
       "      <td>5</td>\n",
       "      <td>4</td>\n",
       "      <td>0.317927</td>\n",
       "      <td>0.264139</td>\n",
       "      <td>1.894538</td>\n",
       "    </tr>\n",
       "    <tr>\n",
       "      <th>2</th>\n",
       "      <td>6</td>\n",
       "      <td>4</td>\n",
       "      <td>0.355240</td>\n",
       "      <td>0.299526</td>\n",
       "      <td>3.517682</td>\n",
       "    </tr>\n",
       "    <tr>\n",
       "      <th>3</th>\n",
       "      <td>7</td>\n",
       "      <td>4</td>\n",
       "      <td>0.419803</td>\n",
       "      <td>0.350481</td>\n",
       "      <td>5.240354</td>\n",
       "    </tr>\n",
       "    <tr>\n",
       "      <th>4</th>\n",
       "      <td>8</td>\n",
       "      <td>4</td>\n",
       "      <td>0.468563</td>\n",
       "      <td>0.399654</td>\n",
       "      <td>7.097689</td>\n",
       "    </tr>\n",
       "  </tbody>\n",
       "</table>\n",
       "</div>"
      ],
      "text/plain": [
       "   m  n  loss_initial  loss_final      time\n",
       "0  4  4      0.244954    0.202878  0.858973\n",
       "1  5  4      0.317927    0.264139  1.894538\n",
       "2  6  4      0.355240    0.299526  3.517682\n",
       "3  7  4      0.419803    0.350481  5.240354\n",
       "4  8  4      0.468563    0.399654  7.097689"
      ]
     },
     "execution_count": 4,
     "metadata": {},
     "output_type": "execute_result"
    }
   ],
   "source": [
    "df_k2_1.head()"
   ]
  },
  {
   "cell_type": "code",
   "execution_count": 5,
   "metadata": {},
   "outputs": [
    {
     "data": {
      "text/html": [
       "<div>\n",
       "<style scoped>\n",
       "    .dataframe tbody tr th:only-of-type {\n",
       "        vertical-align: middle;\n",
       "    }\n",
       "\n",
       "    .dataframe tbody tr th {\n",
       "        vertical-align: top;\n",
       "    }\n",
       "\n",
       "    .dataframe thead th {\n",
       "        text-align: right;\n",
       "    }\n",
       "</style>\n",
       "<table border=\"1\" class=\"dataframe\">\n",
       "  <thead>\n",
       "    <tr style=\"text-align: right;\">\n",
       "      <th></th>\n",
       "      <th>m</th>\n",
       "      <th>n</th>\n",
       "      <th>loss_initial</th>\n",
       "      <th>loss_final</th>\n",
       "      <th>time</th>\n",
       "    </tr>\n",
       "  </thead>\n",
       "  <tbody>\n",
       "    <tr>\n",
       "      <th>0</th>\n",
       "      <td>4</td>\n",
       "      <td>4</td>\n",
       "      <td>0.226214</td>\n",
       "      <td>0.190712</td>\n",
       "      <td>0.212514</td>\n",
       "    </tr>\n",
       "    <tr>\n",
       "      <th>1</th>\n",
       "      <td>5</td>\n",
       "      <td>4</td>\n",
       "      <td>0.297673</td>\n",
       "      <td>0.251129</td>\n",
       "      <td>0.267761</td>\n",
       "    </tr>\n",
       "    <tr>\n",
       "      <th>2</th>\n",
       "      <td>6</td>\n",
       "      <td>4</td>\n",
       "      <td>0.373528</td>\n",
       "      <td>0.314757</td>\n",
       "      <td>0.277189</td>\n",
       "    </tr>\n",
       "    <tr>\n",
       "      <th>3</th>\n",
       "      <td>7</td>\n",
       "      <td>4</td>\n",
       "      <td>0.417488</td>\n",
       "      <td>0.350387</td>\n",
       "      <td>0.271417</td>\n",
       "    </tr>\n",
       "    <tr>\n",
       "      <th>4</th>\n",
       "      <td>8</td>\n",
       "      <td>4</td>\n",
       "      <td>0.477305</td>\n",
       "      <td>0.407409</td>\n",
       "      <td>0.315222</td>\n",
       "    </tr>\n",
       "  </tbody>\n",
       "</table>\n",
       "</div>"
      ],
      "text/plain": [
       "   m  n  loss_initial  loss_final      time\n",
       "0  4  4      0.226214    0.190712  0.212514\n",
       "1  5  4      0.297673    0.251129  0.267761\n",
       "2  6  4      0.373528    0.314757  0.277189\n",
       "3  7  4      0.417488    0.350387  0.271417\n",
       "4  8  4      0.477305    0.407409  0.315222"
      ]
     },
     "execution_count": 5,
     "metadata": {},
     "output_type": "execute_result"
    }
   ],
   "source": [
    "df_k2_2.head()"
   ]
  },
  {
   "cell_type": "code",
   "execution_count": 6,
   "metadata": {},
   "outputs": [
    {
     "data": {
      "text/plain": [
       "<matplotlib.legend.Legend at 0x7f50c7387130>"
      ]
     },
     "execution_count": 6,
     "metadata": {},
     "output_type": "execute_result"
    },
    {
     "data": {
      "image/png": "[encoded data removed]",
      "text/plain": [
       "<Figure size 720x576 with 1 Axes>"
      ]
     },
     "metadata": {
      "needs_background": "light"
     },
     "output_type": "display_data"
    }
   ],
   "source": [
    "x = df_k2_1['m']\n",
    "y1 = df_k2_1['time']\n",
    "y2 = df_k2_2['time']\n",
    "plt.plot(x, y1, label='Method 1')\n",
    "plt.plot(x, y2, label='Method 2')\n",
    "plt.xlabel('M')\n",
    "plt.ylabel('Time')\n",
    "plt.title(\"M vs time for k=2\")\n",
    "plt.legend()"
   ]
  },
  {
   "cell_type": "code",
   "execution_count": 7,
   "metadata": {},
   "outputs": [
    {
     "data": {
      "text/plain": [
       "<matplotlib.legend.Legend at 0x7f50c524c0a0>"
      ]
     },
     "execution_count": 7,
     "metadata": {},
     "output_type": "execute_result"
    },
    {
     "data": {
      "image/png": "[encoded data removed]",
      "text/plain": [
       "<Figure size 720x576 with 1 Axes>"
      ]
     },
     "metadata": {
      "needs_background": "light"
     },
     "output_type": "display_data"
    }
   ],
   "source": [
    "x = df_k3_1['m']\n",
    "y1 = df_k3_1['time']\n",
    "y2 = df_k3_2['time']\n",
    "plt.plot(x, y1, label='Method 1')\n",
    "plt.plot(x, y2, label='Method 2')\n",
    "plt.xlabel('M')\n",
    "plt.ylabel('Time')\n",
    "plt.title(\"M vs time for k=3\")\n",
    "plt.legend()"
   ]
  },
  {
   "cell_type": "code",
   "execution_count": null,
   "metadata": {},
   "outputs": [],
   "source": []
  }
 ],
 "metadata": {
  "interpreter": {
   "hash": "363a2faa70e0b51f5ef03eefa8222616879a3cbe854269a79a8bc28e29574681"
  },
  "kernelspec": {
   "display_name": "Python 3.10.2 ('env': venv)",
   "language": "python",
   "name": "python3"
  },
  "language_info": {
   "codemirror_mode": {
    "name": "ipython",
    "version": 3
   },
   "file_extension": ".py",
   "mimetype": "text/x-python",
   "name": "python",
   "nbconvert_exporter": "python",
   "pygments_lexer": "ipython3",
   "version": "3.10.2"
  },
  "orig_nbformat": 4
 },
 "nbformat": 4,
 "nbformat_minor": 2
}
