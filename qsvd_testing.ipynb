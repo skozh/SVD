{
  "cells": [
    {
      "cell_type": "markdown",
      "metadata": {
        "id": "xsKyUrPuD6WM"
      },
      "source": [
        "## Import Libraries"
      ]
    },
    {
      "cell_type": "code",
      "execution_count": 1,
      "metadata": {
        "id": "8EzMaAJVDqsK"
      },
      "outputs": [],
      "source": [
        "import numpy as np\n",
        "import pandas as pd\n",
        "import scipy.optimize as optimize\n",
        "import matplotlib.pyplot as plt"
      ]
    },
    {
      "cell_type": "code",
      "execution_count": 2,
      "metadata": {
        "id": "uJ90iMxAD05j"
      },
      "outputs": [],
      "source": [
        "# A = Original matrix\n",
        "# B = Square root of Matrix A\n",
        "# U, V, L = Matrices obtained after SVD\n",
        "# Ut, Vt, Lt = Truncated U, V, L matrices\n",
        "# Bnp = Matrix obtained from U, V, L with no phase added or truncation done\n",
        "# Bp = Matrix obtained from U, V, L after truncation and phase added\n",
        "# Bt = Matrix obtained from U, V, L after truncation, no phase added"
      ]
    },
    {
      "cell_type": "markdown",
      "metadata": {
        "id": "nIdksDkMD9bs"
      },
      "source": [
        "## Optimization Algorithm"
      ]
    },
    {
      "cell_type": "code",
      "execution_count": 3,
      "metadata": {
        "id": "zScRFfIMD1n4"
      },
      "outputs": [],
      "source": [
        "def newMat_2(x):\n",
        "    l0,l1 = Lt[0], Lt[1]\n",
        "    U_new = np.zeros((Ut.shape), dtype=np.cfloat)\n",
        "    for i in range(Ut.shape[0]):\n",
        "      U_new[i][0] = np.cos(x[i]) / l0\n",
        "      U_new[i][1] = (np.sin(x[i]) / l1) * np.exp(1j*x[i+Ut.shape[0]])\n",
        "    return np.dot(np.dot(U_new,np.diag(Lt)), Vt)\n",
        "\n",
        "\n",
        "def newMat_3(x):\n",
        "    l0,l1,l2 = Lt[0], Lt[1], Lt[2]\n",
        "    U_new = np.zeros((Ut.shape), dtype=np.cfloat)\n",
        "    for i in range(Ut.shape[0]):\n",
        "      U_new[i][0] = np.cos(x[i]) / l0\n",
        "      U_new[i][1] = (np.sin(x[i]) / l1) * (np.cos(x[i+Ut.shape[0]])) * np.exp(1j*x[i+2*Ut.shape[0]])\n",
        "      U_new[i][2] = (np.sin(x[i]) / l2) * (np.sin(x[i+Ut.shape[0]])) * np.exp(1j*x[i+3*Ut.shape[0]])\n",
        "    return np.dot(np.dot(U_new,np.diag(Lt)), Vt)\n",
        "\n",
        "\n",
        "def newMat_4(x):\n",
        "    l0,l1,l2,l3 = Lt[0], Lt[1], Lt[2], Lt[3]\n",
        "    U_new = np.zeros((Ut.shape), dtype=np.cfloat)\n",
        "    for i in range(Ut.shape[0]):\n",
        "      U_new[i][0] = (np.cos(x[i]) / l0) * (np.cos(x[i+Ut.shape[0]]))\n",
        "      U_new[i][1] = (np.cos(x[i]) / l1) * (np.sin(x[i+Ut.shape[0]])) * np.exp(1j*x[i+2*Ut.shape[0]])\n",
        "      U_new[i][2] = (np.sin(x[i]) / l2) * (np.cos(x[i+Ut.shape[0]])) * np.exp(1j*x[i+3*Ut.shape[0]])\n",
        "      U_new[i][3] = (np.sin(x[i]) / l3) * (np.sin(x[i+Ut.shape[0]])) * np.exp(1j*x[i+4*Ut.shape[0]])\n",
        "    return np.dot(np.dot(U_new,np.diag(Lt)), Vt)\n",
        "\n",
        "\n",
        "def costFn(x):\n",
        "    Bp = newMat_3(x)\n",
        "    loss = np.linalg.norm(B**2 - np.abs(Bp)**2)\n",
        "    return (loss)"
      ]
    },
    {
      "cell_type": "code",
      "execution_count": 4,
      "metadata": {
        "colab": {
          "base_uri": "https://localhost:8080/"
        },
        "id": "L4evSTViESo6",
        "outputId": "a871233c-5919-46f7-8c82-cab742ec7a7e"
      },
      "outputs": [
        {
          "output_type": "stream",
          "name": "stdout",
          "text": [
            "k =  3  m =  6 , n =  7\n",
            "1  2  3  4  5  6  7  8  9  10  \n",
            "\n"
          ]
        }
      ],
      "source": [
        "final_arr = pd.DataFrame(columns=[\"m\", \"n\", \n",
        "                                  \"mean_initial_dist\", \"mean_final_dist\", \"mean_RI\", \"std_RI\"])\n",
        "\n",
        "m,n=6,7\n",
        "k=3\n",
        "print(\"k = \",k,\" m = \",m,\", n = \",n)\n",
        "res = np.zeros((10,2))\n",
        "for i in range(10):\n",
        "    A = np.random.rand(m, n)\n",
        "    for j in range(m): A[j] /= sum(A[j])\n",
        "    B = np.sqrt(A)\n",
        "    U, L, V = np.linalg.svd(B, full_matrices=False)\n",
        "    Bnp = np.dot(np.dot(U,np.diag(L)), V)\n",
        "    Ut = U[:, :k]\n",
        "    Vt = V[:k]\n",
        "    Lt = L[:k]\n",
        "    Bt = np.dot(np.dot(Ut,np.diag(Lt)), Vt)\n",
        "    initial_guess = np.ones((2*m*(k-1),), dtype=np.longdouble)\n",
        "    result = optimize.minimize(fun=costFn, x0=initial_guess, tol=1e-10, method='Nelder-Mead', options={'maxiter':1e+10})\n",
        "    res[i][0] = (np.linalg.norm(B**2 - Bt**2))\n",
        "    res[i][1] = costFn(result.x)\n",
        "    if ((i+1)%1==0):\n",
        "      print(i+1, \" \", end='')\n",
        "mean_initial, mean_final = res.mean(axis=0)\n",
        "ri_mean= ((mean_initial - mean_final)*100/mean_initial)\n",
        "ri_std = np.mean(np.std(res[:,0]-res[:,1]))\n",
        "data = {\"m\": m, \"n\": n, \n",
        "        \"mean_initial_dist\": mean_initial, \"mean_final_dist\": mean_final,\n",
        "        \"mean_RI\": ri_mean, \"std_RI\": ri_std}\n",
        "final_arr = final_arr.append(data, ignore_index=True)\n",
        "print(\"\\n\")"
      ]
    },
    {
      "cell_type": "code",
      "execution_count": 5,
      "metadata": {
        "id": "-LDvMNcNFYHT",
        "outputId": "0823d646-ec98-4980-d0d7-3a960e351d49",
        "colab": {
          "base_uri": "https://localhost:8080/"
        }
      },
      "outputs": [
        {
          "output_type": "execute_result",
          "data": {
            "text/plain": [
              "array([[0.23429708, 0.20247729, 0.03181978],\n",
              "       [0.22585416, 0.18774791, 0.03810625],\n",
              "       [0.16715465, 0.13088077, 0.03627389],\n",
              "       [0.1730655 , 0.15375501, 0.01931049],\n",
              "       [0.26928974, 0.22211368, 0.04717607],\n",
              "       [0.24651781, 0.21273732, 0.03378049],\n",
              "       [0.28253998, 0.25384003, 0.02869996],\n",
              "       [0.26344075, 0.24087288, 0.02256787],\n",
              "       [0.22909785, 0.18742934, 0.0416685 ],\n",
              "       [0.13530595, 0.11889808, 0.01640787]])"
            ]
          },
          "metadata": {},
          "execution_count": 5
        }
      ],
      "source": [
        "np.column_stack((res, res[:,0]-res[:,1]))"
      ]
    },
    {
      "cell_type": "code",
      "execution_count": 6,
      "metadata": {
        "colab": {
          "base_uri": "https://localhost:8080/",
          "height": 81
        },
        "id": "VvWsdC2sPreC",
        "outputId": "a4b2db0d-8c9a-43c8-af6c-4bf913b26acb"
      },
      "outputs": [
        {
          "output_type": "execute_result",
          "data": {
            "text/html": [
              "\n",
              "  <div id=\"df-c14dfe5a-ee8c-4912-bb8f-ef1e3d2ff21a\">\n",
              "    <div class=\"colab-df-container\">\n",
              "      <div>\n",
              "<style scoped>\n",
              "    .dataframe tbody tr th:only-of-type {\n",
              "        vertical-align: middle;\n",
              "    }\n",
              "\n",
              "    .dataframe tbody tr th {\n",
              "        vertical-align: top;\n",
              "    }\n",
              "\n",
              "    .dataframe thead th {\n",
              "        text-align: right;\n",
              "    }\n",
              "</style>\n",
              "<table border=\"1\" class=\"dataframe\">\n",
              "  <thead>\n",
              "    <tr style=\"text-align: right;\">\n",
              "      <th></th>\n",
              "      <th>m</th>\n",
              "      <th>n</th>\n",
              "      <th>mean_initial_dist</th>\n",
              "      <th>mean_final_dist</th>\n",
              "      <th>mean_RI</th>\n",
              "      <th>std_RI</th>\n",
              "    </tr>\n",
              "  </thead>\n",
              "  <tbody>\n",
              "    <tr>\n",
              "      <th>0</th>\n",
              "      <td>6.0</td>\n",
              "      <td>7.0</td>\n",
              "      <td>0.222656</td>\n",
              "      <td>0.191075</td>\n",
              "      <td>14.183793</td>\n",
              "      <td>0.009406</td>\n",
              "    </tr>\n",
              "  </tbody>\n",
              "</table>\n",
              "</div>\n",
              "      <button class=\"colab-df-convert\" onclick=\"convertToInteractive('df-c14dfe5a-ee8c-4912-bb8f-ef1e3d2ff21a')\"\n",
              "              title=\"Convert this dataframe to an interactive table.\"\n",
              "              style=\"display:none;\">\n",
              "        \n",
              "  <svg xmlns=\"http://www.w3.org/2000/svg\" height=\"24px\"viewBox=\"0 0 24 24\"\n",
              "       width=\"24px\">\n",
              "    <path d=\"M0 0h24v24H0V0z\" fill=\"none\"/>\n",
              "    <path d=\"M18.56 5.44l.94 2.06.94-2.06 2.06-.94-2.06-.94-.94-2.06-.94 2.06-2.06.94zm-11 1L8.5 8.5l.94-2.06 2.06-.94-2.06-.94L8.5 2.5l-.94 2.06-2.06.94zm10 10l.94 2.06.94-2.06 2.06-.94-2.06-.94-.94-2.06-.94 2.06-2.06.94z\"/><path d=\"M17.41 7.96l-1.37-1.37c-.4-.4-.92-.59-1.43-.59-.52 0-1.04.2-1.43.59L10.3 9.45l-7.72 7.72c-.78.78-.78 2.05 0 2.83L4 21.41c.39.39.9.59 1.41.59.51 0 1.02-.2 1.41-.59l7.78-7.78 2.81-2.81c.8-.78.8-2.07 0-2.86zM5.41 20L4 18.59l7.72-7.72 1.47 1.35L5.41 20z\"/>\n",
              "  </svg>\n",
              "      </button>\n",
              "      \n",
              "  <style>\n",
              "    .colab-df-container {\n",
              "      display:flex;\n",
              "      flex-wrap:wrap;\n",
              "      gap: 12px;\n",
              "    }\n",
              "\n",
              "    .colab-df-convert {\n",
              "      background-color: #E8F0FE;\n",
              "      border: none;\n",
              "      border-radius: 50%;\n",
              "      cursor: pointer;\n",
              "      display: none;\n",
              "      fill: #1967D2;\n",
              "      height: 32px;\n",
              "      padding: 0 0 0 0;\n",
              "      width: 32px;\n",
              "    }\n",
              "\n",
              "    .colab-df-convert:hover {\n",
              "      background-color: #E2EBFA;\n",
              "      box-shadow: 0px 1px 2px rgba(60, 64, 67, 0.3), 0px 1px 3px 1px rgba(60, 64, 67, 0.15);\n",
              "      fill: #174EA6;\n",
              "    }\n",
              "\n",
              "    [theme=dark] .colab-df-convert {\n",
              "      background-color: #3B4455;\n",
              "      fill: #D2E3FC;\n",
              "    }\n",
              "\n",
              "    [theme=dark] .colab-df-convert:hover {\n",
              "      background-color: #434B5C;\n",
              "      box-shadow: 0px 1px 3px 1px rgba(0, 0, 0, 0.15);\n",
              "      filter: drop-shadow(0px 1px 2px rgba(0, 0, 0, 0.3));\n",
              "      fill: #FFFFFF;\n",
              "    }\n",
              "  </style>\n",
              "\n",
              "      <script>\n",
              "        const buttonEl =\n",
              "          document.querySelector('#df-c14dfe5a-ee8c-4912-bb8f-ef1e3d2ff21a button.colab-df-convert');\n",
              "        buttonEl.style.display =\n",
              "          google.colab.kernel.accessAllowed ? 'block' : 'none';\n",
              "\n",
              "        async function convertToInteractive(key) {\n",
              "          const element = document.querySelector('#df-c14dfe5a-ee8c-4912-bb8f-ef1e3d2ff21a');\n",
              "          const dataTable =\n",
              "            await google.colab.kernel.invokeFunction('convertToInteractive',\n",
              "                                                     [key], {});\n",
              "          if (!dataTable) return;\n",
              "\n",
              "          const docLinkHtml = 'Like what you see? Visit the ' +\n",
              "            '<a target=\"_blank\" href=https://colab.research.google.com/notebooks/data_table.ipynb>data table notebook</a>'\n",
              "            + ' to learn more about interactive tables.';\n",
              "          element.innerHTML = '';\n",
              "          dataTable['output_type'] = 'display_data';\n",
              "          await google.colab.output.renderOutput(dataTable, element);\n",
              "          const docLink = document.createElement('div');\n",
              "          docLink.innerHTML = docLinkHtml;\n",
              "          element.appendChild(docLink);\n",
              "        }\n",
              "      </script>\n",
              "    </div>\n",
              "  </div>\n",
              "  "
            ],
            "text/plain": [
              "     m    n  mean_initial_dist  mean_final_dist    mean_RI    std_RI\n",
              "0  6.0  7.0           0.222656         0.191075  14.183793  0.009406"
            ]
          },
          "metadata": {},
          "execution_count": 6
        }
      ],
      "source": [
        "final_arr"
      ]
    }
  ],
  "metadata": {
    "colab": {
      "collapsed_sections": [],
      "name": "qsvd-v3.1.ipynb",
      "provenance": []
    },
    "kernelspec": {
      "display_name": "Python 3",
      "name": "python3"
    },
    "language_info": {
      "codemirror_mode": {
        "name": "ipython",
        "version": 3
      },
      "file_extension": ".py",
      "mimetype": "text/x-python",
      "name": "python",
      "nbconvert_exporter": "python",
      "pygments_lexer": "ipython3",
      "version": "3.10.1"
    }
  },
  "nbformat": 4,
  "nbformat_minor": 0
}