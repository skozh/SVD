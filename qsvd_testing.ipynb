{
  "cells": [
    {
      "cell_type": "markdown",
      "metadata": {
        "id": "xsKyUrPuD6WM"
      },
      "source": [
        "## Import Libraries"
      ]
    },
    {
      "cell_type": "code",
      "execution_count": 1,
      "metadata": {
        "id": "8EzMaAJVDqsK"
      },
      "outputs": [],
      "source": [
        "import numpy as np\n",
        "import pandas as pd\n",
        "import scipy.optimize as optimize\n",
        "import matplotlib.pyplot as plt"
      ]
    },
    {
      "cell_type": "code",
      "execution_count": 2,
      "metadata": {
        "id": "uJ90iMxAD05j"
      },
      "outputs": [],
      "source": [
        "# A = Original matrix\n",
        "# B = Square root of Matrix A\n",
        "# U, V, L = Matrices obtained after SVD\n",
        "# Ut, Vt, Lt = Truncated U, V, L matrices\n",
        "# Bnp = Matrix obtained from U, V, L with no phase added or truncation done\n",
        "# Bp = Matrix obtained from U, V, L after truncation and phase added\n",
        "# Bt = Matrix obtained from U, V, L after truncation, no phase added"
      ]
    },
    {
      "cell_type": "markdown",
      "metadata": {
        "id": "nIdksDkMD9bs"
      },
      "source": [
        "## Optimization Algorithm"
      ]
    },
    {
      "cell_type": "code",
      "execution_count": 3,
      "metadata": {
        "id": "zScRFfIMD1n4"
      },
      "outputs": [],
      "source": [
        "def newMat_2(x):\n",
        "    l0,l1 = Lt[0], Lt[1]\n",
        "    U_new = np.zeros((Ut.shape), dtype=np.cfloat)\n",
        "    for i in range(Ut.shape[0]):\n",
        "      U_new[i][0] = np.cos(x[i]) / l0\n",
        "      U_new[i][1] = (np.sin(x[i]) / l1) * np.exp(1j*x[i+Ut.shape[0]])\n",
        "    return np.dot(np.dot(U_new,np.diag(Lt)), Vt)\n",
        "\n",
        "\n",
        "def newMat_3(x):\n",
        "    l0,l1,l2 = Lt[0], Lt[1], Lt[2]\n",
        "    U_new = np.zeros((Ut.shape), dtype=np.cfloat)\n",
        "    for i in range(Ut.shape[0]):\n",
        "      U_new[i][0] = np.cos(x[i]) / l0\n",
        "      U_new[i][1] = (np.sin(x[i]) / l1) * (np.cos(x[i+Ut.shape[0]])) * np.exp(1j*x[i+2*Ut.shape[0]])\n",
        "      U_new[i][2] = (np.sin(x[i]) / l2) * (np.sin(x[i+Ut.shape[0]])) * np.exp(1j*x[i+3*Ut.shape[0]])\n",
        "    return np.dot(np.dot(U_new,np.diag(Lt)), Vt)\n",
        "\n",
        "\n",
        "def newMat_4(x):\n",
        "    l0,l1,l2,l3 = Lt[0], Lt[1], Lt[2], Lt[3]\n",
        "    U_new = np.zeros((Ut.shape), dtype=np.cfloat)\n",
        "    for i in range(Ut.shape[0]):\n",
        "      U_new[i][0] = (np.cos(x[i]) / l0) * (np.cos(x[i+Ut.shape[0]]))\n",
        "      U_new[i][1] = (np.cos(x[i]) / l1) * (np.sin(x[i+Ut.shape[0]])) * np.exp(1j*x[i+3*Ut.shape[0]])\n",
        "      U_new[i][2] = (np.sin(x[i]) / l2) * (np.cos(x[i+2*Ut.shape[0]])) * np.exp(1j*x[i+4*Ut.shape[0]])\n",
        "      U_new[i][3] = (np.sin(x[i]) / l3) * (np.sin(x[i+2*Ut.shape[0]])) * np.exp(1j*x[i+5*Ut.shape[0]])\n",
        "    return np.dot(np.dot(U_new,np.diag(Lt)), Vt)\n",
        "\n",
        "\n",
        "def costFn(x):\n",
        "    Bp = newMat_4(x)\n",
        "    loss = np.linalg.norm(B**2 - np.abs(Bp)**2)\n",
        "    return (loss)"
      ]
    },
    {
      "cell_type": "code",
      "execution_count": 4,
      "metadata": {
        "colab": {
          "base_uri": "https://localhost:8080/"
        },
        "id": "L4evSTViESo6",
        "outputId": "a871233c-5919-46f7-8c82-cab742ec7a7e"
      },
      "outputs": [
        {
          "name": "stdout",
          "output_type": "stream",
          "text": [
            "k =  4  m =  6 , n =  7\n",
            "1  2  3  4  5  6  7  8  9  10  \n",
            "\n"
          ]
        }
      ],
      "source": [
        "final_arr = pd.DataFrame(columns=[\"m\", \"n\", \n",
        "                                  \"mean_initial_dist\", \"mean_final_dist\", \"mean_RI\", \"std_RI\"])\n",
        "\n",
        "m,n=6,7\n",
        "k=4\n",
        "print(\"k = \",k,\" m = \",m,\", n = \",n)\n",
        "res = np.zeros((10,2))\n",
        "for i in range(10):\n",
        "    A = np.random.rand(m, n)\n",
        "    for j in range(m): A[j] /= sum(A[j])\n",
        "    B = np.sqrt(A)\n",
        "    U, L, V = np.linalg.svd(B, full_matrices=False)\n",
        "    Bnp = np.dot(np.dot(U,np.diag(L)), V)\n",
        "    Ut = U[:, :k]\n",
        "    Vt = V[:k]\n",
        "    Lt = L[:k]\n",
        "    Bt = np.dot(np.dot(Ut,np.diag(Lt)), Vt)\n",
        "    initial_guess = np.ones((2*m*(k-1),), dtype=np.longdouble)\n",
        "    result = optimize.minimize(fun=costFn, x0=initial_guess, tol=1e-10, method='Nelder-Mead', options={'maxiter':1e+10})\n",
        "    res[i][0] = (np.linalg.norm(B**2 - Bt**2))\n",
        "    res[i][1] = costFn(result.x)\n",
        "    if ((i+1)%1==0):\n",
        "      print(i+1, \" \", end='')\n",
        "mean_initial, mean_final = res.mean(axis=0)\n",
        "ri_mean= ((mean_initial - mean_final)*100/mean_initial)\n",
        "ri_std = np.mean(np.std(res[:,0]-res[:,1]))\n",
        "data = {\"m\": m, \"n\": n, \n",
        "        \"mean_initial_dist\": mean_initial, \"mean_final_dist\": mean_final,\n",
        "        \"mean_RI\": ri_mean, \"std_RI\": ri_std}\n",
        "final_arr = final_arr.append(data, ignore_index=True)\n",
        "print(\"\\n\")"
      ]
    },
    {
      "cell_type": "code",
      "execution_count": 5,
      "metadata": {
        "colab": {
          "base_uri": "https://localhost:8080/"
        },
        "id": "-LDvMNcNFYHT",
        "outputId": "0823d646-ec98-4980-d0d7-3a960e351d49"
      },
      "outputs": [
        {
          "data": {
            "text/plain": [
              "array([[0.11763471, 0.11037307, 0.00726165],\n",
              "       [0.11447594, 0.04278161, 0.07169434],\n",
              "       [0.10609207, 0.06340887, 0.0426832 ],\n",
              "       [0.15085229, 0.11096272, 0.03988957],\n",
              "       [0.08879711, 0.04307915, 0.04571796],\n",
              "       [0.22859983, 0.15763723, 0.0709626 ],\n",
              "       [0.2421922 , 0.15813531, 0.08405689],\n",
              "       [0.20227742, 0.1357922 , 0.06648522],\n",
              "       [0.12787456, 0.06555133, 0.06232322],\n",
              "       [0.09814341, 0.07544765, 0.02269576]])"
            ]
          },
          "execution_count": 5,
          "metadata": {},
          "output_type": "execute_result"
        }
      ],
      "source": [
        "np.column_stack((res, res[:,0]-res[:,1]))"
      ]
    },
    {
      "cell_type": "code",
      "execution_count": 6,
      "metadata": {
        "colab": {
          "base_uri": "https://localhost:8080/",
          "height": 81
        },
        "id": "VvWsdC2sPreC",
        "outputId": "a4b2db0d-8c9a-43c8-af6c-4bf913b26acb"
      },
      "outputs": [
        {
          "data": {
            "text/html": [
              "<div>\n",
              "<style scoped>\n",
              "    .dataframe tbody tr th:only-of-type {\n",
              "        vertical-align: middle;\n",
              "    }\n",
              "\n",
              "    .dataframe tbody tr th {\n",
              "        vertical-align: top;\n",
              "    }\n",
              "\n",
              "    .dataframe thead th {\n",
              "        text-align: right;\n",
              "    }\n",
              "</style>\n",
              "<table border=\"1\" class=\"dataframe\">\n",
              "  <thead>\n",
              "    <tr style=\"text-align: right;\">\n",
              "      <th></th>\n",
              "      <th>m</th>\n",
              "      <th>n</th>\n",
              "      <th>mean_initial_dist</th>\n",
              "      <th>mean_final_dist</th>\n",
              "      <th>mean_RI</th>\n",
              "      <th>std_RI</th>\n",
              "    </tr>\n",
              "  </thead>\n",
              "  <tbody>\n",
              "    <tr>\n",
              "      <th>0</th>\n",
              "      <td>6.0</td>\n",
              "      <td>7.0</td>\n",
              "      <td>0.147694</td>\n",
              "      <td>0.096317</td>\n",
              "      <td>34.78615</td>\n",
              "      <td>0.022849</td>\n",
              "    </tr>\n",
              "  </tbody>\n",
              "</table>\n",
              "</div>"
            ],
            "text/plain": [
              "     m    n  mean_initial_dist  mean_final_dist   mean_RI    std_RI\n",
              "0  6.0  7.0           0.147694         0.096317  34.78615  0.022849"
            ]
          },
          "execution_count": 6,
          "metadata": {},
          "output_type": "execute_result"
        }
      ],
      "source": [
        "final_arr"
      ]
    }
  ],
  "metadata": {
    "colab": {
      "collapsed_sections": [],
      "name": "qsvd-v3.1.ipynb",
      "provenance": []
    },
    "kernelspec": {
      "display_name": "Python 3",
      "name": "python3"
    },
    "language_info": {
      "codemirror_mode": {
        "name": "ipython",
        "version": 3
      },
      "file_extension": ".py",
      "mimetype": "text/x-python",
      "name": "python",
      "nbconvert_exporter": "python",
      "pygments_lexer": "ipython3",
      "version": "3.10.1"
    }
  },
  "nbformat": 4,
  "nbformat_minor": 0
}
