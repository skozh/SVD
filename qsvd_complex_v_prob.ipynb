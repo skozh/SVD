{
 "cells": [
  {
   "cell_type": "code",
   "execution_count": 1,
   "metadata": {},
   "outputs": [],
   "source": [
    "import numpy as np\n",
    "import scipy.optimize as optimize"
   ]
  },
  {
   "cell_type": "code",
   "execution_count": 2,
   "metadata": {},
   "outputs": [],
   "source": [
    "\"\"\" Optimization Algorithm \"\"\"\n",
    "\"\"\" New Matrix \"\"\"\n",
    "def newMat(x, Ut, Lt, Vt, k):\n",
    "  V_new = np.zeros((Vt.shape), dtype=np.cfloat)\n",
    "  if k==2:\n",
    "    l0,l1 = Lt[0], Lt[1]\n",
    "    V_new[0] = np.cos(x[0]) / l0\n",
    "    V_new[1] = (np.sin(x[0]) / l1) * np.exp(1j*x[1])\n",
    "  elif k==3:\n",
    "    l0,l1,l2 = Lt[0], Lt[1], Lt[2]\n",
    "    V_new[0] = np.cos(x[0]) / l0\n",
    "    V_new[1] = (np.sin(x[0]) / l1) * (np.cos(x[1])) * np.exp(1j*x[2])\n",
    "    V_new[2] = (np.sin(x[0]) / l2) * (np.sin(x[1])) * np.exp(1j*x[3])\n",
    "  else:\n",
    "    l0,l1,l2,l3 = Lt[0], Lt[1], Lt[2], Lt[3]\n",
    "    V_new[0] = (np.cos(x[0]) / l0) * (np.cos(x[1]))\n",
    "    V_new[1] = (np.cos(x[0]) / l1) * (np.sin(x[1])) * np.exp(1j*x[3])\n",
    "    V_new[2] = (np.sin(x[0]) / l2) * (np.cos(x[2])) * np.exp(1j*x[4])\n",
    "    V_new[3] = (np.sin(x[0]) / l3) * (np.sin(x[2])) * np.exp(1j*x[5])\n",
    "  return V_new\n",
    "\n",
    "\n",
    "\"\"\" Cost Function \"\"\"\n",
    "def costFn(x, Ut, Lt, Vt, A, k):\n",
    "    V_new = newMat(x, Ut, Lt, Vt, k)\n",
    "    Bp = np.dot(np.dot(Ut,np.diag(Lt)), V_new) \n",
    "    loss = np.linalg.norm(A - Bp**2)\n",
    "    return (loss)\n"
   ]
  },
  {
   "cell_type": "code",
   "execution_count": 3,
   "metadata": {},
   "outputs": [],
   "source": [
    "def calcResults(k, m, n):\n",
    "    print (\"m = \",m,\", n = \",n)\n",
    "    res = np.zeros((100,2))\n",
    "    for i in range(100):\n",
    "        A = np.random.rand(m, n)\n",
    "        A = A/A.sum(axis=0)         # Optimize column-wise\n",
    "        B = np.sqrt(A)\n",
    "        U, L, V = np.linalg.svd(A, full_matrices=False)\n",
    "        Ut = U[:, :k]\n",
    "        Vt = V[:k]\n",
    "        Lt = L[:k]\n",
    "        Bt = np.dot(np.dot(Ut,np.diag(Lt)), Vt)\n",
    "\n",
    "        U, L, V = np.linalg.svd(B, full_matrices=False)\n",
    "        Ut = U[:, :k]\n",
    "        Vt = V[:k]\n",
    "        Lt = L[:k]\n",
    "\n",
    "        initial_guess = np.ones((2*n*(k-1),), dtype=np.longdouble)\n",
    "        V_new = np.zeros(Vt.shape, dtype=np.cfloat)\n",
    "        for col in range(Vt.shape[1]):\n",
    "            result = optimize.minimize(fun=costFn, x0=initial_guess, args=(Ut,Lt,Vt[:, col],A[:,col],k),\n",
    "                                    tol=1e-7, method='Nelder-Mead', options={'maxiter':1e+10})\n",
    "            V_new[:,col] = newMat(result.x, Ut,Lt,Vt[:, col],k)\n",
    "        res[i][0] = (np.linalg.norm(A - Bt**2))\n",
    "        Bp = np.dot(np.dot(Ut,np.diag(Lt)), V_new) \n",
    "        res[i][1] = (np.linalg.norm(A - Bp**2))\n",
    "        if i%10==0: print(i, end=' ')\n",
    "    print('\\n')\n",
    "    return res"
   ]
  },
  {
   "cell_type": "code",
   "execution_count": 4,
   "metadata": {},
   "outputs": [
    {
     "name": "stdout",
     "output_type": "stream",
     "text": [
      "m =  3 , n =  3\n",
      "0 10 20 30 40 50 60 70 80 90 \n",
      "\n"
     ]
    }
   ],
   "source": [
    "res = calcResults(k=2, m=3, n=3)"
   ]
  },
  {
   "cell_type": "code",
   "execution_count": 5,
   "metadata": {},
   "outputs": [
    {
     "data": {
      "text/plain": [
       "array([[0.65111438, 0.14338615],\n",
       "       [0.63165587, 0.17415625],\n",
       "       [0.64614684, 0.18519253],\n",
       "       [0.59998169, 0.07806319],\n",
       "       [0.60698411, 0.12886196],\n",
       "       [0.61840219, 0.03452388],\n",
       "       [0.6768866 , 0.32269423],\n",
       "       [0.64294626, 0.11425314],\n",
       "       [0.66081408, 0.17660097],\n",
       "       [0.66373893, 0.00365293],\n",
       "       [0.5221207 , 0.29537755],\n",
       "       [0.46530037, 0.0807345 ],\n",
       "       [0.52798528, 0.07180441],\n",
       "       [0.685821  , 0.30756657],\n",
       "       [0.55515842, 0.14047427],\n",
       "       [0.63543201, 0.11853699],\n",
       "       [0.64399809, 0.23456275],\n",
       "       [0.61540981, 0.09365397],\n",
       "       [0.63119594, 0.01234268],\n",
       "       [0.61329381, 0.15305528],\n",
       "       [0.62690388, 0.0521286 ],\n",
       "       [0.63461976, 0.15772127],\n",
       "       [0.63831394, 0.04308435],\n",
       "       [0.66227662, 0.21139394],\n",
       "       [0.63886947, 0.06476477],\n",
       "       [0.63548952, 0.06847111],\n",
       "       [0.63937821, 0.17466509],\n",
       "       [0.62837431, 0.114945  ],\n",
       "       [0.6428993 , 0.04789497],\n",
       "       [0.58104234, 0.05483239],\n",
       "       [0.52255441, 0.17257543],\n",
       "       [0.61315964, 0.09803543],\n",
       "       [0.63402631, 0.19227116],\n",
       "       [0.63661527, 0.19705225],\n",
       "       [0.61408894, 0.01819799],\n",
       "       [0.65796432, 0.05691392],\n",
       "       [0.55437586, 0.1519649 ],\n",
       "       [0.65977526, 0.22186312],\n",
       "       [0.67623031, 0.21198038],\n",
       "       [0.58768112, 0.03256305],\n",
       "       [0.65314773, 0.11805777],\n",
       "       [0.45713799, 0.06678687],\n",
       "       [0.66359605, 0.15548542],\n",
       "       [0.60981298, 0.14938033],\n",
       "       [0.64571831, 0.03281411],\n",
       "       [0.581424  , 0.1555201 ],\n",
       "       [0.63790902, 0.07326736],\n",
       "       [0.57957548, 0.12983527],\n",
       "       [0.61804729, 0.14954149],\n",
       "       [0.62034977, 0.01346881],\n",
       "       [0.65109408, 0.05686092],\n",
       "       [0.62836004, 0.03946925],\n",
       "       [0.62037171, 0.08692115],\n",
       "       [0.61554286, 0.19892234],\n",
       "       [0.56842866, 0.25779444],\n",
       "       [0.62847001, 0.22185604],\n",
       "       [0.63153425, 0.09385597],\n",
       "       [0.56466747, 0.12340908],\n",
       "       [0.66165736, 0.02576954],\n",
       "       [0.62898167, 0.04773937],\n",
       "       [0.59934648, 0.09201893],\n",
       "       [0.64625138, 0.07223057],\n",
       "       [0.6480627 , 0.20889701],\n",
       "       [0.59179409, 0.0127311 ],\n",
       "       [0.65907832, 0.18096322],\n",
       "       [0.52175493, 0.02245877],\n",
       "       [0.61918232, 0.02516725],\n",
       "       [0.55959088, 0.05806823],\n",
       "       [0.56585926, 0.11167192],\n",
       "       [0.6171399 , 0.0115597 ],\n",
       "       [0.64425259, 0.03668671],\n",
       "       [0.65372536, 0.06147307],\n",
       "       [0.58472496, 0.17886967],\n",
       "       [0.55803886, 0.16786522],\n",
       "       [0.62514418, 0.16192523],\n",
       "       [0.65508741, 0.07557728],\n",
       "       [0.56165318, 0.06063112],\n",
       "       [0.56913172, 0.03642238],\n",
       "       [0.61857083, 0.02441859],\n",
       "       [0.59061262, 0.00466865],\n",
       "       [0.71722423, 0.25171385],\n",
       "       [0.55982952, 0.0216881 ],\n",
       "       [0.49302419, 0.01648816],\n",
       "       [0.65010154, 0.01265524],\n",
       "       [0.67423281, 0.23298328],\n",
       "       [0.59657854, 0.04496961],\n",
       "       [0.5673955 , 0.11669136],\n",
       "       [0.70265312, 0.30883741],\n",
       "       [0.62474915, 0.06279354],\n",
       "       [0.62730008, 0.13045421],\n",
       "       [0.64146624, 0.09927694],\n",
       "       [0.65075916, 0.08983326],\n",
       "       [0.5509997 , 0.1072323 ],\n",
       "       [0.5470298 , 0.01644038],\n",
       "       [0.59353764, 0.02891872],\n",
       "       [0.5968751 , 0.09922584],\n",
       "       [0.60020161, 0.10305305],\n",
       "       [0.59817581, 0.31184771],\n",
       "       [0.62859933, 0.05236402],\n",
       "       [0.47414966, 0.13612495]])"
      ]
     },
     "execution_count": 5,
     "metadata": {},
     "output_type": "execute_result"
    }
   ],
   "source": [
    "res"
   ]
  },
  {
   "cell_type": "code",
   "execution_count": null,
   "metadata": {},
   "outputs": [],
   "source": []
  }
 ],
 "metadata": {
  "interpreter": {
   "hash": "363a2faa70e0b51f5ef03eefa8222616879a3cbe854269a79a8bc28e29574681"
  },
  "kernelspec": {
   "display_name": "Python 3.10.2 ('env': venv)",
   "language": "python",
   "name": "python3"
  },
  "language_info": {
   "codemirror_mode": {
    "name": "ipython",
    "version": 3
   },
   "file_extension": ".py",
   "mimetype": "text/x-python",
   "name": "python",
   "nbconvert_exporter": "python",
   "pygments_lexer": "ipython3",
   "version": "3.10.2"
  },
  "orig_nbformat": 4
 },
 "nbformat": 4,
 "nbformat_minor": 2
}
