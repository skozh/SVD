{
 "cells": [
  {
   "cell_type": "code",
   "execution_count": 1,
   "metadata": {},
   "outputs": [],
   "source": [
    "import numpy as np\n",
    "import scipy.optimize as optimize"
   ]
  },
  {
   "cell_type": "code",
   "execution_count": 2,
   "metadata": {},
   "outputs": [],
   "source": [
    "\"\"\" Optimization Algorithm \"\"\"\n",
    "\"\"\" New Matrix \"\"\"\n",
    "def newMat(x, Ut, Lt, Vt, k):\n",
    "  V_new = np.zeros((Vt.shape), dtype=np.cfloat)\n",
    "  if k==2:\n",
    "    l0,l1 = Lt[0], Lt[1]\n",
    "    V_new[0] = np.cos(x[0]) / l0\n",
    "    V_new[1] = (np.sin(x[0]) / l1) * np.exp(1j*x[1])\n",
    "  elif k==3:\n",
    "    l0,l1,l2 = Lt[0], Lt[1], Lt[2]\n",
    "    V_new[0] = np.cos(x[0]) / l0\n",
    "    V_new[1] = (np.sin(x[0]) / l1) * (np.cos(x[1])) * np.exp(1j*x[2])\n",
    "    V_new[2] = (np.sin(x[0]) / l2) * (np.sin(x[1])) * np.exp(1j*x[3])\n",
    "  else:\n",
    "    l0,l1,l2,l3 = Lt[0], Lt[1], Lt[2], Lt[3]\n",
    "    V_new[0] = (np.cos(x[0]) / l0) * (np.cos(x[1]))\n",
    "    V_new[1] = (np.cos(x[0]) / l1) * (np.sin(x[1])) * np.exp(1j*x[3])\n",
    "    V_new[2] = (np.sin(x[0]) / l2) * (np.cos(x[2])) * np.exp(1j*x[4])\n",
    "    V_new[3] = (np.sin(x[0]) / l3) * (np.sin(x[2])) * np.exp(1j*x[5])\n",
    "  return V_new\n",
    "\n",
    "\n",
    "\"\"\" Cost Function \"\"\"\n",
    "def costFn(x, Ut, Lt, Vt, A, k):\n",
    "    V_new = newMat(x, Ut, Lt, Vt, k)\n",
    "    Bp = np.dot(np.dot(Ut,np.diag(Lt)), V_new) \n",
    "    loss = np.linalg.norm(A - Bp*np.conjugate(Bp))\n",
    "    return (loss)\n"
   ]
  },
  {
   "cell_type": "code",
   "execution_count": 3,
   "metadata": {},
   "outputs": [],
   "source": [
    "def calcResults(k, m, n):\n",
    "    print (\"m = \",m,\", n = \",n)\n",
    "    res = np.zeros((100,2))\n",
    "    for i in range(100):\n",
    "        A = np.random.rand(m, n)\n",
    "        A = A/A.sum(axis=0)         # Optimize column-wise\n",
    "        B = np.sqrt(A)\n",
    "        U, L, V = np.linalg.svd(A, full_matrices=False)\n",
    "        Ut = U[:, :k]\n",
    "        Vt = V[:k]\n",
    "        Lt = L[:k]\n",
    "        At = np.dot(np.dot(Ut,np.diag(Lt)), Vt)\n",
    "\n",
    "        U, L, V = np.linalg.svd(B, full_matrices=False)\n",
    "        Ut = U[:, :k]\n",
    "        Vt = V[:k]\n",
    "        Lt = L[:k]\n",
    "\n",
    "        initial_guess = np.ones((2*n*(k-1),), dtype=np.longdouble)\n",
    "        V_new = np.zeros(Vt.shape, dtype=np.cfloat)\n",
    "        for col in range(Vt.shape[1]):\n",
    "            result = optimize.minimize(fun=costFn, x0=initial_guess, args=(Ut,Lt,Vt[:, col],A[:,col],k),\n",
    "                                    tol=1e-7, method='Nelder-Mead', options={'maxiter':1e+10})\n",
    "            V_new[:,col] = newMat(result.x, Ut,Lt,Vt[:, col],k)\n",
    "        res[i][0] = (np.linalg.norm(A - At))\n",
    "        Bp = np.dot(np.dot(Ut,np.diag(Lt)), V_new) \n",
    "        res[i][1] = (np.linalg.norm(A - np.conjugate(Bp)*Bp))\n",
    "        if i%10==0: print(i, end=' ')\n",
    "    print('\\n')\n",
    "    return res"
   ]
  },
  {
   "cell_type": "code",
   "execution_count": 4,
   "metadata": {},
   "outputs": [
    {
     "name": "stdout",
     "output_type": "stream",
     "text": [
      "m =  3 , n =  3\n",
      "0 10 20 30 40 50 60 70 80 90 \n",
      "\n"
     ]
    }
   ],
   "source": [
    "res = calcResults(k=2, m=3, n=3)"
   ]
  },
  {
   "cell_type": "code",
   "execution_count": 5,
   "metadata": {},
   "outputs": [
    {
     "data": {
      "text/plain": [
       "array([[0.23275754, 0.14890146],\n",
       "       [0.05587526, 0.04241637],\n",
       "       [0.06969944, 0.05200485],\n",
       "       [0.15114031, 0.10244163],\n",
       "       [0.05818908, 0.03872328],\n",
       "       [0.01151359, 0.01927294],\n",
       "       [0.13944358, 0.11557651],\n",
       "       [0.18833081, 0.15838497],\n",
       "       [0.01647215, 0.01616826],\n",
       "       [0.00936046, 0.00635926],\n",
       "       [0.0350174 , 0.00479874],\n",
       "       [0.01741609, 0.01092263],\n",
       "       [0.02967082, 0.0212926 ],\n",
       "       [0.0756725 , 0.0534855 ],\n",
       "       [0.02012286, 0.01264875],\n",
       "       [0.18822738, 0.13243927],\n",
       "       [0.06088316, 0.04140264],\n",
       "       [0.09807618, 0.0751078 ],\n",
       "       [0.01294334, 0.0091893 ],\n",
       "       [0.09753904, 0.06982086],\n",
       "       [0.07713303, 0.06097829],\n",
       "       [0.11854859, 0.10308388],\n",
       "       [0.07437259, 0.04941894],\n",
       "       [0.18814903, 0.12112228],\n",
       "       [0.28495315, 0.19092412],\n",
       "       [0.13584164, 0.13149977],\n",
       "       [0.20111258, 0.13626622],\n",
       "       [0.06492262, 0.04102278],\n",
       "       [0.17486829, 0.12282008],\n",
       "       [0.00780075, 0.00085478],\n",
       "       [0.34021998, 0.30929911],\n",
       "       [0.01194569, 0.00960457],\n",
       "       [0.02249599, 0.00162267],\n",
       "       [0.00128272, 0.00087244],\n",
       "       [0.17095994, 0.13262369],\n",
       "       [0.04146993, 0.04326775],\n",
       "       [0.1265691 , 0.08927676],\n",
       "       [0.09176752, 0.03559863],\n",
       "       [0.06401065, 0.0351754 ],\n",
       "       [0.01833456, 0.02655447],\n",
       "       [0.08304237, 0.05342953],\n",
       "       [0.27758382, 0.26748332],\n",
       "       [0.05423849, 0.03744806],\n",
       "       [0.02546928, 0.00119869],\n",
       "       [0.15857807, 0.12533466],\n",
       "       [0.32521249, 0.24468681],\n",
       "       [0.19511956, 0.1127428 ],\n",
       "       [0.16664218, 0.10843334],\n",
       "       [0.14770482, 0.09281828],\n",
       "       [0.10927245, 0.08226358],\n",
       "       [0.1074    , 0.08591761],\n",
       "       [0.18801949, 0.17641541],\n",
       "       [0.19597798, 0.12500912],\n",
       "       [0.06729155, 0.04592063],\n",
       "       [0.11285868, 0.07308976],\n",
       "       [0.07148632, 0.05615345],\n",
       "       [0.04408764, 0.02937004],\n",
       "       [0.1275695 , 0.08322019],\n",
       "       [0.10500449, 0.09505923],\n",
       "       [0.06385718, 0.02508511],\n",
       "       [0.02733333, 0.01798735],\n",
       "       [0.15743857, 0.11694596],\n",
       "       [0.38043246, 0.40201424],\n",
       "       [0.12035254, 0.09897246],\n",
       "       [0.00918927, 0.00668306],\n",
       "       [0.00641405, 0.01897471],\n",
       "       [0.05735422, 0.03505437],\n",
       "       [0.0595308 , 0.03631354],\n",
       "       [0.11925456, 0.07409721],\n",
       "       [0.03743259, 0.02535623],\n",
       "       [0.23762154, 0.21623111],\n",
       "       [0.12612823, 0.08024104],\n",
       "       [0.00809763, 0.00644088],\n",
       "       [0.08212559, 0.05647941],\n",
       "       [0.17423803, 0.1179402 ],\n",
       "       [0.07220293, 0.05606979],\n",
       "       [0.1550009 , 0.17299794],\n",
       "       [0.25000146, 0.1865568 ],\n",
       "       [0.10526261, 0.10441102],\n",
       "       [0.23263015, 0.14769136],\n",
       "       [0.04325081, 0.03344132],\n",
       "       [0.01874988, 0.01821784],\n",
       "       [0.04756785, 0.03085823],\n",
       "       [0.17970826, 0.17575989],\n",
       "       [0.12735828, 0.08867106],\n",
       "       [0.08233324, 0.05680437],\n",
       "       [0.26218108, 0.17874015],\n",
       "       [0.21070463, 0.15060323],\n",
       "       [0.09500686, 0.07619354],\n",
       "       [0.31217448, 0.23249168],\n",
       "       [0.22385634, 0.139157  ],\n",
       "       [0.27885347, 0.20016455],\n",
       "       [0.22601533, 0.16478257],\n",
       "       [0.2208684 , 0.17091502],\n",
       "       [0.11488149, 0.09527875],\n",
       "       [0.02931476, 0.02121335],\n",
       "       [0.11389372, 0.11624667],\n",
       "       [0.15925319, 0.14565236],\n",
       "       [0.07268906, 0.04801516],\n",
       "       [0.27861082, 0.18919182]])"
      ]
     },
     "execution_count": 5,
     "metadata": {},
     "output_type": "execute_result"
    }
   ],
   "source": [
    "res"
   ]
  },
  {
   "cell_type": "code",
   "execution_count": 6,
   "metadata": {},
   "outputs": [
    {
     "data": {
      "text/plain": [
       "array([0.11926839, 0.09004181])"
      ]
     },
     "execution_count": 6,
     "metadata": {},
     "output_type": "execute_result"
    }
   ],
   "source": [
    "res.mean(axis=0)"
   ]
  },
  {
   "cell_type": "code",
   "execution_count": null,
   "metadata": {},
   "outputs": [],
   "source": []
  }
 ],
 "metadata": {
  "interpreter": {
   "hash": "363a2faa70e0b51f5ef03eefa8222616879a3cbe854269a79a8bc28e29574681"
  },
  "kernelspec": {
   "display_name": "Python 3.10.2 ('env': venv)",
   "language": "python",
   "name": "python3"
  },
  "language_info": {
   "codemirror_mode": {
    "name": "ipython",
    "version": 3
   },
   "file_extension": ".py",
   "mimetype": "text/x-python",
   "name": "python",
   "nbconvert_exporter": "python",
   "pygments_lexer": "ipython3",
   "version": "3.10.2"
  },
  "orig_nbformat": 4
 },
 "nbformat": 4,
 "nbformat_minor": 2
}
