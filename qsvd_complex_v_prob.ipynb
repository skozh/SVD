{
 "cells": [
  {
   "cell_type": "code",
   "execution_count": 1,
   "metadata": {},
   "outputs": [],
   "source": [
    "import numpy as np\n",
    "import scipy.optimize as optimize"
   ]
  },
  {
   "cell_type": "code",
   "execution_count": 2,
   "metadata": {},
   "outputs": [],
   "source": [
    "\"\"\" Optimization Algorithm \"\"\"\n",
    "\"\"\" New Matrix \"\"\"\n",
    "def newMat(x, Ut, Lt, Vt, k):\n",
    "  V_new = np.zeros((Vt.shape), dtype=np.cfloat)\n",
    "  if k==2:\n",
    "    l0,l1 = Lt[0], Lt[1]\n",
    "    V_new[0] = np.cos(x[0]) / l0\n",
    "    V_new[1] = (np.sin(x[0]) / l1) * np.exp(1j*x[1])\n",
    "  elif k==3:\n",
    "    l0,l1,l2 = Lt[0], Lt[1], Lt[2]\n",
    "    V_new[0] = np.cos(x[0]) / l0\n",
    "    V_new[1] = (np.sin(x[0]) / l1) * (np.cos(x[1])) * np.exp(1j*x[2])\n",
    "    V_new[2] = (np.sin(x[0]) / l2) * (np.sin(x[1])) * np.exp(1j*x[3])\n",
    "  else:\n",
    "    l0,l1,l2,l3 = Lt[0], Lt[1], Lt[2], Lt[3]\n",
    "    V_new[0] = (np.cos(x[0]) / l0) * (np.cos(x[1]))\n",
    "    V_new[1] = (np.cos(x[0]) / l1) * (np.sin(x[1])) * np.exp(1j*x[3])\n",
    "    V_new[2] = (np.sin(x[0]) / l2) * (np.cos(x[2])) * np.exp(1j*x[4])\n",
    "    V_new[3] = (np.sin(x[0]) / l3) * (np.sin(x[2])) * np.exp(1j*x[5])\n",
    "  return V_new\n",
    "\n",
    "\n",
    "\"\"\" Cost Function \"\"\"\n",
    "def costFn(x, Ut, Lt, Vt, A, k):\n",
    "    V_new = newMat(x, Ut, Lt, Vt, k)\n",
    "    Bp = np.dot(np.dot(Ut,np.diag(Lt)), V_new) \n",
    "    loss = np.linalg.norm(A - Bp**2)\n",
    "    return (loss)\n"
   ]
  },
  {
   "cell_type": "code",
   "execution_count": 3,
   "metadata": {},
   "outputs": [],
   "source": [
    "def calcResults(k, m, n):\n",
    "    print (\"m = \",m,\", n = \",n)\n",
    "    res = np.zeros((100,2))\n",
    "    for i in range(100):\n",
    "        A = np.random.rand(m, n)\n",
    "        A = A/A.sum(axis=0)         # Optimize column-wise\n",
    "        B = np.sqrt(A)\n",
    "        U, L, V = np.linalg.svd(A, full_matrices=False)\n",
    "        Ut = U[:, :k]\n",
    "        Vt = V[:k]\n",
    "        Lt = L[:k]\n",
    "        At = np.dot(np.dot(Ut,np.diag(Lt)), Vt)\n",
    "\n",
    "        U, L, V = np.linalg.svd(B, full_matrices=False)\n",
    "        Ut = U[:, :k]\n",
    "        Vt = V[:k]\n",
    "        Lt = L[:k]\n",
    "\n",
    "        initial_guess = np.ones((2*n*(k-1),), dtype=np.longdouble)\n",
    "        V_new = np.zeros(Vt.shape, dtype=np.cfloat)\n",
    "        for col in range(Vt.shape[1]):\n",
    "            result = optimize.minimize(fun=costFn, x0=initial_guess, args=(Ut,Lt,Vt[:, col],A[:,col],k),\n",
    "                                    tol=1e-7, method='Nelder-Mead', options={'maxiter':1e+10})\n",
    "            V_new[:,col] = newMat(result.x, Ut,Lt,Vt[:, col],k)\n",
    "        res[i][0] = (np.linalg.norm(A - At))\n",
    "        Bp = np.dot(np.dot(Ut,np.diag(Lt)), V_new) \n",
    "        res[i][1] = (np.linalg.norm(A - Bp**2))\n",
    "        if i%10==0: print(i, end=' ')\n",
    "    print('\\n')\n",
    "    return res"
   ]
  },
  {
   "cell_type": "code",
   "execution_count": 4,
   "metadata": {},
   "outputs": [
    {
     "name": "stdout",
     "output_type": "stream",
     "text": [
      "m =  3 , n =  3\n",
      "0 10 20 30 40 50 60 70 80 90 \n",
      "\n"
     ]
    }
   ],
   "source": [
    "res = calcResults(k=2, m=3, n=3)"
   ]
  },
  {
   "cell_type": "code",
   "execution_count": 5,
   "metadata": {},
   "outputs": [
    {
     "data": {
      "text/plain": [
       "array([[0.05405502, 0.05721382],\n",
       "       [0.00664233, 0.00715592],\n",
       "       [0.00418077, 0.16187386],\n",
       "       [0.1147447 , 0.12855927],\n",
       "       [0.06201036, 0.05266059],\n",
       "       [0.02364537, 0.02236005],\n",
       "       [0.08696134, 0.09629035],\n",
       "       [0.10418059, 0.20988772],\n",
       "       [0.1571052 , 0.18261013],\n",
       "       [0.11513032, 0.08128058],\n",
       "       [0.01621499, 0.01540715],\n",
       "       [0.13815419, 0.12836785],\n",
       "       [0.06329067, 0.03178659],\n",
       "       [0.49561969, 0.40180161],\n",
       "       [0.11905983, 0.0890443 ],\n",
       "       [0.14980446, 0.11991484],\n",
       "       [0.21433   , 0.23903833],\n",
       "       [0.07231891, 0.10495253],\n",
       "       [0.29610086, 0.2660992 ],\n",
       "       [0.24208158, 0.24678048],\n",
       "       [0.05269333, 0.0525051 ],\n",
       "       [0.18315556, 0.21236379],\n",
       "       [0.07013185, 0.10562849],\n",
       "       [0.03322414, 0.04216138],\n",
       "       [0.12043525, 0.11736969],\n",
       "       [0.11584811, 0.11335133],\n",
       "       [0.06687581, 0.09601841],\n",
       "       [0.01333335, 0.02148557],\n",
       "       [0.21654053, 0.17590338],\n",
       "       [0.07369528, 0.04376342],\n",
       "       [0.00463221, 0.01156236],\n",
       "       [0.14789663, 0.15949024],\n",
       "       [0.05527002, 0.06187676],\n",
       "       [0.01096018, 0.00804172],\n",
       "       [0.09823235, 0.10950328],\n",
       "       [0.13209524, 0.12400146],\n",
       "       [0.07819706, 0.06961812],\n",
       "       [0.17598923, 0.22295397],\n",
       "       [0.09272758, 0.01572367],\n",
       "       [0.02858373, 0.10931371],\n",
       "       [0.04552317, 0.01849009],\n",
       "       [0.29341562, 0.26798361],\n",
       "       [0.12251114, 0.20771998],\n",
       "       [0.06573491, 0.06162987],\n",
       "       [0.01044949, 0.04050606],\n",
       "       [0.18714032, 0.2622936 ],\n",
       "       [0.0314185 , 0.05159051],\n",
       "       [0.03093652, 0.02556759],\n",
       "       [0.0760186 , 0.10734628],\n",
       "       [0.08789562, 0.09030415],\n",
       "       [0.01885165, 0.03529312],\n",
       "       [0.05152433, 0.06727149],\n",
       "       [0.19251788, 0.20355404],\n",
       "       [0.03287663, 0.04022119],\n",
       "       [0.04679796, 0.07772623],\n",
       "       [0.25517627, 0.23164426],\n",
       "       [0.05358618, 0.02628178],\n",
       "       [0.08254455, 0.11105846],\n",
       "       [0.30230342, 0.31528598],\n",
       "       [0.05055934, 0.0637895 ],\n",
       "       [0.28381204, 0.29306655],\n",
       "       [0.05656838, 0.08950426],\n",
       "       [0.02724241, 0.02507023],\n",
       "       [0.027738  , 0.02609347],\n",
       "       [0.02694855, 0.02890939],\n",
       "       [0.11495643, 0.11784326],\n",
       "       [0.13595707, 0.15548068],\n",
       "       [0.12555654, 0.1153857 ],\n",
       "       [0.0548162 , 0.04639459],\n",
       "       [0.16635021, 0.17254401],\n",
       "       [0.21684825, 0.21910487],\n",
       "       [0.08443845, 0.12936271],\n",
       "       [0.21183339, 0.22443973],\n",
       "       [0.17318316, 0.11224652],\n",
       "       [0.02606288, 0.03609881],\n",
       "       [0.00309319, 0.03582871],\n",
       "       [0.01061011, 0.04130476],\n",
       "       [0.02300287, 0.01613421],\n",
       "       [0.10802508, 0.0950015 ],\n",
       "       [0.0163453 , 0.01481552],\n",
       "       [0.0409086 , 0.02294589],\n",
       "       [0.17490927, 0.17930848],\n",
       "       [0.24018128, 0.19314776],\n",
       "       [0.15144582, 0.14599469],\n",
       "       [0.04223116, 0.04120513],\n",
       "       [0.18695824, 0.21389838],\n",
       "       [0.25768042, 0.28298699],\n",
       "       [0.1729452 , 0.25959615],\n",
       "       [0.05175541, 0.04542406],\n",
       "       [0.08969558, 0.10198062],\n",
       "       [0.21842344, 0.21565326],\n",
       "       [0.13025354, 0.07317106],\n",
       "       [0.17930794, 0.19744964],\n",
       "       [0.2068577 , 0.20053202],\n",
       "       [0.0483528 , 0.04131671],\n",
       "       [0.14149777, 0.14307221],\n",
       "       [0.00480504, 0.00511272],\n",
       "       [0.11860022, 0.10014108],\n",
       "       [0.10752182, 0.11918103],\n",
       "       [0.0625767 , 0.06422641]])"
      ]
     },
     "execution_count": 5,
     "metadata": {},
     "output_type": "execute_result"
    }
   ],
   "source": [
    "res"
   ]
  },
  {
   "cell_type": "code",
   "execution_count": null,
   "metadata": {},
   "outputs": [],
   "source": []
  }
 ],
 "metadata": {
  "interpreter": {
   "hash": "363a2faa70e0b51f5ef03eefa8222616879a3cbe854269a79a8bc28e29574681"
  },
  "kernelspec": {
   "display_name": "Python 3.10.2 ('env': venv)",
   "language": "python",
   "name": "python3"
  },
  "language_info": {
   "codemirror_mode": {
    "name": "ipython",
    "version": 3
   },
   "file_extension": ".py",
   "mimetype": "text/x-python",
   "name": "python",
   "nbconvert_exporter": "python",
   "pygments_lexer": "ipython3",
   "version": "3.10.2"
  },
  "orig_nbformat": 4
 },
 "nbformat": 4,
 "nbformat_minor": 2
}
