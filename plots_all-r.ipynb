{
 "cells": [
  {
   "cell_type": "code",
   "execution_count": 1,
   "id": "cbc3eb52",
   "metadata": {},
   "outputs": [],
   "source": [
    "import numpy as np\n",
    "import matplotlib\n",
    "import matplotlib.pyplot as plt\n",
    "import pandas as pd\n",
    "from mpl_toolkits.axes_grid1 import make_axes_locatable\n",
    "from numpy import array\n",
    "\n",
    "import matplotlib\n",
    "font = {'size'   : 12}\n",
    "matplotlib.rc('font', **font)"
   ]
  },
  {
   "cell_type": "code",
   "execution_count": 2,
   "id": "ae7e92e2",
   "metadata": {},
   "outputs": [],
   "source": [
    "ri2 = np.load('data/ri/ri2_r.npy')\n",
    "\n",
    "rim2 = np.mean(ri2, axis=1)\n",
    "\n",
    "ri3 = np.load('data/ri/ri3_r.npy')\n",
    "\n",
    "rim3 = np.mean(ri3, axis=1)\n",
    "\n",
    "ri4 = np.load('data/ri/ri4_r.npy')\n",
    "\n",
    "rim4 = np.mean(ri4, axis=1)"
   ]
  },
  {
   "cell_type": "code",
   "execution_count": 3,
   "id": "0840b260",
   "metadata": {},
   "outputs": [
    {
     "data": {
      "text/plain": [
       "-1.0499752784231404"
      ]
     },
     "execution_count": 3,
     "metadata": {},
     "output_type": "execute_result"
    }
   ],
   "source": [
    "np.mean(np.hstack((ri2,ri3,ri4)))"
   ]
  },
  {
   "cell_type": "code",
   "execution_count": 4,
   "id": "c27ebe85",
   "metadata": {},
   "outputs": [
    {
     "data": {
      "image/png": "[encoded data removed]",
      "text/plain": [
       "<Figure size 864x432 with 12 Axes>"
      ]
     },
     "metadata": {
      "needs_background": "light"
     },
     "output_type": "display_data"
    }
   ],
   "source": [
    "fig, ax = plt.subplots(2,3,figsize=(12,6), gridspec_kw={'height_ratios': [3, 1]})\n",
    "\n",
    "im2 = ax[0,0].imshow(ri2, cmap='binary', vmin=-3, vmax=0.5, origin='lower')\n",
    "ax[0,0].set_title('k=2');\n",
    "im3 = ax[0,1].imshow(ri3, cmap='binary', vmin=-3, vmax=0.5, origin='lower')\n",
    "ax[0,1].set_title('k=3');\n",
    "im4 = ax[0,2].imshow(ri4, cmap='binary', vmin=-4, vmax=0.5, origin='lower')\n",
    "ax[0,2].set_title('k=4');\n",
    "\n",
    "\n",
    "iml = [im2,im3,im4]\n",
    "tk = 1+np.arange(0,8)\n",
    "for i in range(3):\n",
    "    a = ax[0,i]\n",
    "    a.set_xticks(np.arange(0,8))\n",
    "    a.set_yticks(np.arange(0,8))\n",
    "    a.set_xticklabels(tk)\n",
    "    a.set_yticklabels(tk);\n",
    "    a.set_xlabel('N')\n",
    "        \n",
    "    div = make_axes_locatable(a)\n",
    "    cax = div.append_axes(\"right\", size=\"3%\", pad=0.1)\n",
    "    plt.colorbar(iml[i], cax=cax);\n",
    "\n",
    "ax[0,0].set_ylabel('M')\n",
    "    \n",
    "\n",
    "ax[1,0].plot(tk, np.mean(ri2, axis=1), color = 'k', lw=3)\n",
    "ax[1,1].plot(tk, np.mean(ri3, axis=1), color = 'k', lw=3)\n",
    "ax[1,2].plot(tk, np.mean(ri4, axis=1), color = 'k', lw=3)\n",
    "\n",
    "\n",
    "for i in range(3):\n",
    "    a = ax[1,i]\n",
    "    a.set_ylim(-4,1);\n",
    "    a.set_xlabel('M-K');\n",
    "    a.set_xticks(tk)\n",
    "    a.grid(axis='y', ls='--')\n",
    "    div = make_axes_locatable(a)\n",
    "    cax = div.append_axes(\"right\", size=\"3%\", pad=0.1)\n",
    "    cax.set_visible(0)\n",
    "\n",
    "#fig.tight_layout()\n",
    "\n",
    "plt.subplots_adjust(top=1.05, left=0.05, right=0.95, bottom=0.1, wspace=0.4, hspace=0.1)"
   ]
  },
  {
   "cell_type": "code",
   "execution_count": 5,
   "id": "927d82fe",
   "metadata": {},
   "outputs": [],
   "source": [
    "fig.savefig('figures/all-data-3r.jpg', dpi=150)"
   ]
  }
 ],
 "metadata": {
  "kernelspec": {
   "display_name": "Python 3",
   "language": "python",
   "name": "python3"
  },
  "language_info": {
   "codemirror_mode": {
    "name": "ipython",
    "version": 3
   },
   "file_extension": ".py",
   "mimetype": "text/x-python",
   "name": "python",
   "nbconvert_exporter": "python",
   "pygments_lexer": "ipython3",
   "version": "3.10.2"
  }
 },
 "nbformat": 4,
 "nbformat_minor": 5
}
