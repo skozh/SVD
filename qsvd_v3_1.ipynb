{
  "nbformat": 4,
  "nbformat_minor": 0,
  "metadata": {
    "colab": {
      "name": "qsvd-v3.1.ipynb",
      "provenance": [],
      "collapsed_sections": []
    },
    "kernelspec": {
      "name": "python3",
      "display_name": "Python 3"
    },
    "language_info": {
      "name": "python"
    }
  },
  "cells": [
    {
      "cell_type": "markdown",
      "source": [
        "## Import Libraries"
      ],
      "metadata": {
        "id": "xsKyUrPuD6WM"
      }
    },
    {
      "cell_type": "code",
      "execution_count": 1,
      "metadata": {
        "id": "8EzMaAJVDqsK"
      },
      "outputs": [],
      "source": [
        "import numpy as np\n",
        "import pandas as pd\n",
        "import scipy.optimize as optimize\n",
        "import matplotlib.pyplot as plt"
      ]
    },
    {
      "cell_type": "code",
      "source": [
        "# A = Original matrix\n",
        "# B = Square root of Matrix A\n",
        "# U, V, L = Matrices obtained after SVD\n",
        "# Ut, Vt, Lt = Truncated U, V, L matrices\n",
        "# Bnp = Matrix obtained from U, V, L with no phase added or truncation done\n",
        "# Bp = Matrix obtained from U, V, L after truncation and phase added\n",
        "# Bt = Matrix obtained from U, V, L after truncation, no phase added"
      ],
      "metadata": {
        "id": "uJ90iMxAD05j"
      },
      "execution_count": 2,
      "outputs": []
    },
    {
      "cell_type": "markdown",
      "source": [
        "## Optimization Algorithm"
      ],
      "metadata": {
        "id": "nIdksDkMD9bs"
      }
    },
    {
      "cell_type": "code",
      "source": [
        "def newMat(x):\n",
        "    l0,l1 = Lt[0], Lt[1]\n",
        "    U_new = np.zeros((Ut.shape), dtype=np.cfloat)\n",
        "    for i in range(Ut.shape[0]):\n",
        "      r = x[i+2*Ut.shape[0]]\n",
        "      U_new[i][0] = r*np.cos(x[i]) / l0\n",
        "      U_new[i][1] = r*(np.sin(x[i]) / l1) * np.exp(1j*x[i+Ut.shape[0]])\n",
        "    return np.dot(np.dot(U_new,np.diag(Lt)), Vt)\n",
        "\n",
        "\n",
        "def costFn(x):\n",
        "    Bp = newMat(x)\n",
        "    loss = np.linalg.norm(B**2 - np.abs(Bp)**2)\n",
        "    return (loss)"
      ],
      "metadata": {
        "id": "zScRFfIMD1n4"
      },
      "execution_count": 3,
      "outputs": []
    },
    {
      "cell_type": "code",
      "source": [
        "final_arr = pd.DataFrame(columns=[\"m\", \"n\", \n",
        "                                  \"mean_initial_dist\", \"mean_final_dist\", \"mean_RI\", \"std_RI\"])\n",
        "\n",
        "m,n=3,5\n",
        "r_val = np.zeros((100,3))\n",
        "print(\"m = \",m,\", n = \",n)\n",
        "res = np.zeros((100,2))\n",
        "for i in range(100):\n",
        "    A = np.random.rand(m, n)\n",
        "    for j in range(m): A[j] /= sum(A[j])\n",
        "    B = np.sqrt(A)\n",
        "    U, L, V = np.linalg.svd(B, full_matrices=False)\n",
        "    Bnp = np.dot(np.dot(U,np.diag(L)), V)\n",
        "    Ut = U[:,[0,1]]\n",
        "    Vt = V[[0,1]]\n",
        "    Lt = L[[0,1]]\n",
        "    Bt = np.dot(np.dot(Ut,np.diag(Lt)), Vt)\n",
        "    initial_guess = np.ones((m*3,), dtype=np.longdouble)\n",
        "    result = optimize.minimize(fun=costFn, x0=initial_guess, tol=1e-10, method='Nelder-Mead', options={'maxiter':1e+10})\n",
        "    res[i][0] = (np.linalg.norm(B**2 - Bt**2))\n",
        "    res[i][1] = costFn(result.x)\n",
        "    r_val[i] = result.x[-Ut.shape[0]:]\n",
        "    if ((i+1)%10==0):\n",
        "      print(i+1, \" \", end='')\n",
        "mean_initial, mean_final = res.mean(axis=0)\n",
        "ri_mean= ((mean_initial - mean_final)*100/mean_initial)\n",
        "ri_std = np.mean(np.std(res[:,0]-res[:,1]))\n",
        "data = {\"m\": m, \"n\": n, \n",
        "        \"mean_initial_dist\": mean_initial, \"mean_final_dist\": mean_final,\n",
        "        \"mean_RI\": ri_mean, \"std_RI\": ri_std}\n",
        "final_arr = final_arr.append(data, ignore_index=True)\n",
        "print(\"\\n\")"
      ],
      "metadata": {
        "colab": {
          "base_uri": "https://localhost:8080/"
        },
        "id": "L4evSTViESo6",
        "outputId": "21b6ca56-159f-41b6-b14f-2aac4f47d645"
      },
      "execution_count": 4,
      "outputs": [
        {
          "output_type": "stream",
          "name": "stdout",
          "text": [
            "m =  3 , n =  5\n",
            "10  20  30  40  50  60  70  80  90  100  \n",
            "\n"
          ]
        }
      ]
    },
    {
      "cell_type": "code",
      "source": [
        "r_val"
      ],
      "metadata": {
        "colab": {
          "base_uri": "https://localhost:8080/"
        },
        "id": "RZ_6ipktrnye",
        "outputId": "66bce0ff-9fd1-445a-bf22-4851a1684b94"
      },
      "execution_count": 5,
      "outputs": [
        {
          "output_type": "execute_result",
          "data": {
            "text/plain": [
              "array([[ 1.00316481,  0.95849917,  1.03191106],\n",
              "       [ 0.99031035,  1.01848289,  0.99615452],\n",
              "       [ 1.00393011,  1.0020732 ,  0.99558925],\n",
              "       [ 1.00048449,  1.0012703 ,  1.00248008],\n",
              "       [ 1.00084465,  0.99760423,  1.00131152],\n",
              "       [ 0.99480691,  1.00678591,  1.00093363],\n",
              "       [ 1.04407002,  0.9885927 ,  1.01324873],\n",
              "       [ 1.02102789,  0.98892811,  0.9806615 ],\n",
              "       [ 0.99913605,  0.99922316,  1.00140959],\n",
              "       [ 0.99607838,  1.01593914,  0.98757151],\n",
              "       [ 1.05098939,  0.99975638,  0.9280609 ],\n",
              "       [ 1.00785367,  1.00251581,  0.99981157],\n",
              "       [ 1.01215346,  0.98557958,  0.99852606],\n",
              "       [ 0.98941124,  1.01262687,  1.00609546],\n",
              "       [ 1.00012072,  1.00061609,  1.00399492],\n",
              "       [ 0.99561988,  0.99894035,  1.01404105],\n",
              "       [ 0.98665677,  0.99906715,  1.02497307],\n",
              "       [ 1.00082693,  1.0033894 ,  0.99596043],\n",
              "       [ 0.98632165,  1.00202747,  1.00714777],\n",
              "       [ 1.00244444,  0.99871498,  0.99932003],\n",
              "       [ 1.0038918 ,  0.99726885,  1.00336625],\n",
              "       [ 1.00730175,  1.00183741,  1.00090937],\n",
              "       [ 0.98918184,  1.00303875,  0.99240692],\n",
              "       [ 1.00311884,  1.0059312 ,  1.00250806],\n",
              "       [ 0.95612153,  1.04383578,  1.02090552],\n",
              "       [-1.0038959 ,  1.00171675,  1.0099078 ],\n",
              "       [ 0.99893129,  0.98737078,  1.01420878],\n",
              "       [ 1.01036352,  0.9983275 ,  0.98750517],\n",
              "       [ 0.99977401,  1.00401817,  1.00120991],\n",
              "       [ 0.99691203,  0.99638057,  1.00034871],\n",
              "       [ 1.0110222 ,  1.00022529,  0.97504922],\n",
              "       [ 0.97159317,  1.00317908,  1.01891794],\n",
              "       [ 0.97938401,  0.99462316,  1.02824031],\n",
              "       [ 0.99735987,  1.00628262,  0.99365284],\n",
              "       [ 1.00822554,  1.02580972,  0.99018614],\n",
              "       [ 0.98711294,  1.01441481,  1.01444792],\n",
              "       [ 1.01023533,  0.99944577,  0.99175246],\n",
              "       [ 1.01197627,  1.00098064,  0.99883089],\n",
              "       [ 1.01939321,  1.01736984,  0.96944266],\n",
              "       [ 1.00526581,  1.00621119,  1.00628158],\n",
              "       [ 1.01304594,  1.02615538,  1.00181535],\n",
              "       [ 1.00819133,  1.0149604 ,  0.98262043],\n",
              "       [ 0.98929221,  0.99986803,  1.00298008],\n",
              "       [ 0.99997393,  1.00795006,  0.99938578],\n",
              "       [ 0.99947632,  1.00399601,  1.00513622],\n",
              "       [ 1.04484357,  1.06499189,  0.99958068],\n",
              "       [ 1.00175236,  1.00009343,  0.99655761],\n",
              "       [ 1.01071612,  0.99887252,  1.00066503],\n",
              "       [ 0.99063796,  1.03404314,  0.99697768],\n",
              "       [ 1.0002477 ,  1.01852427,  0.9922822 ],\n",
              "       [ 0.95055834,  1.01900033,  1.02418662],\n",
              "       [ 0.98344651,  1.00710942,  1.00529755],\n",
              "       [ 0.98846012,  0.99860722,  1.00858901],\n",
              "       [ 0.99111922,  0.99903487,  1.01592055],\n",
              "       [ 1.0083616 ,  0.98995852,  1.00850631],\n",
              "       [ 0.99666987,  1.01190244,  0.99856702],\n",
              "       [ 0.99789849,  1.00207657,  1.00131065],\n",
              "       [ 1.01062642,  0.99943699,  0.99725016],\n",
              "       [ 1.00592086,  1.00690141,  0.99237263],\n",
              "       [ 1.00597191,  1.000652  ,  0.98817934],\n",
              "       [ 0.99108221,  1.00954114,  0.99758386],\n",
              "       [ 1.00995201,  1.00102071,  1.00321279],\n",
              "       [ 0.98283299,  0.98631959,  1.03448353],\n",
              "       [ 1.0130437 ,  1.00509263,  0.99749642],\n",
              "       [ 1.00002144,  0.98437477,  1.01156157],\n",
              "       [ 1.00575446,  0.99589402, -1.00035658],\n",
              "       [ 1.00370287,  0.99609078,  1.0001732 ],\n",
              "       [ 0.99255108,  1.01468913,  1.00076766],\n",
              "       [ 1.00415148,  1.00635037,  0.98532568],\n",
              "       [ 1.00830557,  0.99434408,  0.99900119],\n",
              "       [ 1.01436581,  0.99361233,  1.0036922 ],\n",
              "       [ 0.95703898,  1.03722554,  1.02014276],\n",
              "       [ 1.00261292,  0.99978169,  0.9974821 ],\n",
              "       [ 1.02208392,  0.97613607,  0.99720541],\n",
              "       [ 1.03695515,  0.98841922,  0.98397533],\n",
              "       [ 1.00626827,  0.99524256,  1.00243227],\n",
              "       [ 0.99656669,  0.98910696,  1.01456184],\n",
              "       [ 0.97972615,  0.99189393,  1.03167888],\n",
              "       [ 1.00303422,  1.00074481,  1.01426699],\n",
              "       [ 0.99787596,  0.99685675,  0.99615408],\n",
              "       [ 1.00953364,  1.00652067,  0.98706401],\n",
              "       [ 1.00315035,  1.00041106,  0.9916177 ],\n",
              "       [ 0.95883893,  1.02974392,  0.99338838],\n",
              "       [ 1.0001851 ,  1.00975659,  1.00220575],\n",
              "       [ 1.01260922,  1.00719238,  0.99862589],\n",
              "       [-1.00899975,  1.00717181,  0.96707965],\n",
              "       [ 1.00008249,  1.00166765,  1.00278439],\n",
              "       [ 1.00690667,  0.98776453,  1.01740393],\n",
              "       [ 1.00465866,  0.99978445,  0.99805446],\n",
              "       [ 0.99269019,  1.00053587,  1.00557419],\n",
              "       [ 1.00299937,  0.99816472,  0.99988749],\n",
              "       [ 1.0010896 ,  0.9976826 ,  1.02114687],\n",
              "       [ 1.01127569,  0.98105885,  1.01325404],\n",
              "       [ 0.99683725,  0.99969579,  0.99916414],\n",
              "       [ 0.99991658,  0.99983178,  1.00029369],\n",
              "       [ 1.01080875,  0.99634686,  1.00450483],\n",
              "       [ 1.01618749,  1.00393635,  0.99168176],\n",
              "       [ 0.94907266,  1.02263683,  1.00229458],\n",
              "       [ 0.95297743,  1.0342279 ,  1.00945457],\n",
              "       [ 0.99422716,  1.05434071,  0.95391905]])"
            ]
          },
          "metadata": {},
          "execution_count": 5
        }
      ]
    },
    {
      "cell_type": "code",
      "source": [
        "final_arr"
      ],
      "metadata": {
        "id": "VvWsdC2sPreC",
        "colab": {
          "base_uri": "https://localhost:8080/",
          "height": 81
        },
        "outputId": "a19d2f25-a7b8-45cd-eff2-a27190ec24eb"
      },
      "execution_count": 6,
      "outputs": [
        {
          "output_type": "execute_result",
          "data": {
            "text/html": [
              "\n",
              "  <div id=\"df-11c8c7ef-409c-4227-8a60-03f0f77bc2ee\">\n",
              "    <div class=\"colab-df-container\">\n",
              "      <div>\n",
              "<style scoped>\n",
              "    .dataframe tbody tr th:only-of-type {\n",
              "        vertical-align: middle;\n",
              "    }\n",
              "\n",
              "    .dataframe tbody tr th {\n",
              "        vertical-align: top;\n",
              "    }\n",
              "\n",
              "    .dataframe thead th {\n",
              "        text-align: right;\n",
              "    }\n",
              "</style>\n",
              "<table border=\"1\" class=\"dataframe\">\n",
              "  <thead>\n",
              "    <tr style=\"text-align: right;\">\n",
              "      <th></th>\n",
              "      <th>m</th>\n",
              "      <th>n</th>\n",
              "      <th>mean_initial_dist</th>\n",
              "      <th>mean_final_dist</th>\n",
              "      <th>mean_RI</th>\n",
              "      <th>std_RI</th>\n",
              "    </tr>\n",
              "  </thead>\n",
              "  <tbody>\n",
              "    <tr>\n",
              "      <th>0</th>\n",
              "      <td>3.0</td>\n",
              "      <td>5.0</td>\n",
              "      <td>0.157927</td>\n",
              "      <td>0.139243</td>\n",
              "      <td>11.831165</td>\n",
              "      <td>0.02222</td>\n",
              "    </tr>\n",
              "  </tbody>\n",
              "</table>\n",
              "</div>\n",
              "      <button class=\"colab-df-convert\" onclick=\"convertToInteractive('df-11c8c7ef-409c-4227-8a60-03f0f77bc2ee')\"\n",
              "              title=\"Convert this dataframe to an interactive table.\"\n",
              "              style=\"display:none;\">\n",
              "        \n",
              "  <svg xmlns=\"http://www.w3.org/2000/svg\" height=\"24px\"viewBox=\"0 0 24 24\"\n",
              "       width=\"24px\">\n",
              "    <path d=\"M0 0h24v24H0V0z\" fill=\"none\"/>\n",
              "    <path d=\"M18.56 5.44l.94 2.06.94-2.06 2.06-.94-2.06-.94-.94-2.06-.94 2.06-2.06.94zm-11 1L8.5 8.5l.94-2.06 2.06-.94-2.06-.94L8.5 2.5l-.94 2.06-2.06.94zm10 10l.94 2.06.94-2.06 2.06-.94-2.06-.94-.94-2.06-.94 2.06-2.06.94z\"/><path d=\"M17.41 7.96l-1.37-1.37c-.4-.4-.92-.59-1.43-.59-.52 0-1.04.2-1.43.59L10.3 9.45l-7.72 7.72c-.78.78-.78 2.05 0 2.83L4 21.41c.39.39.9.59 1.41.59.51 0 1.02-.2 1.41-.59l7.78-7.78 2.81-2.81c.8-.78.8-2.07 0-2.86zM5.41 20L4 18.59l7.72-7.72 1.47 1.35L5.41 20z\"/>\n",
              "  </svg>\n",
              "      </button>\n",
              "      \n",
              "  <style>\n",
              "    .colab-df-container {\n",
              "      display:flex;\n",
              "      flex-wrap:wrap;\n",
              "      gap: 12px;\n",
              "    }\n",
              "\n",
              "    .colab-df-convert {\n",
              "      background-color: #E8F0FE;\n",
              "      border: none;\n",
              "      border-radius: 50%;\n",
              "      cursor: pointer;\n",
              "      display: none;\n",
              "      fill: #1967D2;\n",
              "      height: 32px;\n",
              "      padding: 0 0 0 0;\n",
              "      width: 32px;\n",
              "    }\n",
              "\n",
              "    .colab-df-convert:hover {\n",
              "      background-color: #E2EBFA;\n",
              "      box-shadow: 0px 1px 2px rgba(60, 64, 67, 0.3), 0px 1px 3px 1px rgba(60, 64, 67, 0.15);\n",
              "      fill: #174EA6;\n",
              "    }\n",
              "\n",
              "    [theme=dark] .colab-df-convert {\n",
              "      background-color: #3B4455;\n",
              "      fill: #D2E3FC;\n",
              "    }\n",
              "\n",
              "    [theme=dark] .colab-df-convert:hover {\n",
              "      background-color: #434B5C;\n",
              "      box-shadow: 0px 1px 3px 1px rgba(0, 0, 0, 0.15);\n",
              "      filter: drop-shadow(0px 1px 2px rgba(0, 0, 0, 0.3));\n",
              "      fill: #FFFFFF;\n",
              "    }\n",
              "  </style>\n",
              "\n",
              "      <script>\n",
              "        const buttonEl =\n",
              "          document.querySelector('#df-11c8c7ef-409c-4227-8a60-03f0f77bc2ee button.colab-df-convert');\n",
              "        buttonEl.style.display =\n",
              "          google.colab.kernel.accessAllowed ? 'block' : 'none';\n",
              "\n",
              "        async function convertToInteractive(key) {\n",
              "          const element = document.querySelector('#df-11c8c7ef-409c-4227-8a60-03f0f77bc2ee');\n",
              "          const dataTable =\n",
              "            await google.colab.kernel.invokeFunction('convertToInteractive',\n",
              "                                                     [key], {});\n",
              "          if (!dataTable) return;\n",
              "\n",
              "          const docLinkHtml = 'Like what you see? Visit the ' +\n",
              "            '<a target=\"_blank\" href=https://colab.research.google.com/notebooks/data_table.ipynb>data table notebook</a>'\n",
              "            + ' to learn more about interactive tables.';\n",
              "          element.innerHTML = '';\n",
              "          dataTable['output_type'] = 'display_data';\n",
              "          await google.colab.output.renderOutput(dataTable, element);\n",
              "          const docLink = document.createElement('div');\n",
              "          docLink.innerHTML = docLinkHtml;\n",
              "          element.appendChild(docLink);\n",
              "        }\n",
              "      </script>\n",
              "    </div>\n",
              "  </div>\n",
              "  "
            ],
            "text/plain": [
              "     m    n  mean_initial_dist  mean_final_dist    mean_RI   std_RI\n",
              "0  3.0  5.0           0.157927         0.139243  11.831165  0.02222"
            ]
          },
          "metadata": {},
          "execution_count": 6
        }
      ]
    }
  ]
}