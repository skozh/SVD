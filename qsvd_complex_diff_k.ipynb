{
 "cells": [
  {
   "cell_type": "code",
   "execution_count": 1,
   "metadata": {},
   "outputs": [],
   "source": [
    "import numpy as np\n",
    "import scipy.optimize as optimize"
   ]
  },
  {
   "cell_type": "code",
   "execution_count": 2,
   "metadata": {},
   "outputs": [
    {
     "name": "stdout",
     "output_type": "stream",
     "text": [
      "[[2, 2.0, [3, 3]], [2, 2.0, [3, 4]], [2, 2.0, [3, 5]], [2, 2.0, [3, 6]], [2, 2.0, [3, 7]], [2, 2.0, [3, 8]], [2, 2.0, [3, 9]], [2, 2.0, [3, 10]], [2, 2.0, [4, 3]], [2, 2.0, [4, 4]], [2, 2.0, [4, 5]], [2, 2.0, [4, 6]], [2, 2.0, [4, 7]], [2, 2.0, [4, 8]], [2, 2.0, [4, 9]], [2, 2.0, [4, 10]], [2, 2.0, [5, 3]], [2, 2.0, [5, 4]], [2, 2.0, [5, 5]], [2, 2.0, [5, 6]], [2, 2.0, [5, 7]], [2, 2.0, [5, 8]], [2, 2.0, [5, 9]], [2, 2.0, [5, 10]], [2, 2.0, [6, 3]], [2, 2.0, [6, 4]], [2, 2.0, [6, 5]], [2, 2.0, [6, 6]], [2, 2.0, [6, 7]], [2, 2.0, [6, 8]], [2, 2.0, [6, 9]], [2, 2.0, [6, 10]], [2, 2.0, [7, 3]], [2, 2.0, [7, 4]], [2, 2.0, [7, 5]], [2, 2.0, [7, 6]], [2, 2.0, [7, 7]], [2, 2.0, [7, 8]], [2, 2.0, [7, 9]], [2, 2.0, [7, 10]], [2, 2.0, [8, 3]], [2, 2.0, [8, 4]], [2, 2.0, [8, 5]], [2, 2.0, [8, 6]], [2, 2.0, [8, 7]], [2, 2.0, [8, 8]], [2, 2.0, [8, 9]], [2, 2.0, [8, 10]], [2, 2.0, [9, 3]], [2, 2.0, [9, 4]], [2, 2.0, [9, 5]], [2, 2.0, [9, 6]], [2, 2.0, [9, 7]], [2, 2.0, [9, 8]], [2, 2.0, [9, 9]], [2, 2.0, [9, 10]], [2, 2.0, [10, 3]], [2, 2.0, [10, 4]], [2, 2.0, [10, 5]], [2, 2.0, [10, 6]], [2, 2.0, [10, 7]], [2, 2.0, [10, 8]], [2, 2.0, [10, 9]], [2, 2.0, [10, 10]], [5, 4.0, [7, 6]], [5, 4.0, [8, 7]], [5, 4.0, [9, 8]], [5, 4.0, [10, 9]], [5, 4.0, [11, 10]], [5, 4.0, [12, 11]], [5, 4.0, [13, 12]], [7, 5.0, [8, 14]], [8, 6.0, [10, 9]], [8, 6.0, [11, 10]], [8, 6.0, [12, 11]], [8, 6.0, [13, 12]], [8, 6.0, [14, 13]], [8, 6.0, [15, 14]], [8, 6.0, [16, 15]], [9, 7.0, [16, 10]], [10, 7.0, [11, 15]], [10, 7.0, [13, 18]], [11, 8.0, [13, 12]], [11, 8.0, [14, 13]], [11, 8.0, [15, 14]], [11, 8.0, [16, 15]], [11, 8.0, [17, 16]], [11, 8.0, [18, 17]], [11, 8.0, [19, 18]]]\n"
     ]
    }
   ],
   "source": [
    "combo = []\n",
    "for k1 in range(2, 12):\n",
    "    for m in range(k1+1, k1+9):\n",
    "        for n in range(k1+1, k1+9):\n",
    "            k2 = (k1*(m+n-1)+2*n)/(2*n+m-1)\n",
    "            if (k2%1==0):\n",
    "                if [k1, k2, [m, n]] not in combo: \n",
    "                    combo.append([k1, k2, [m, n]])\n",
    "print(combo)"
   ]
  },
  {
   "cell_type": "code",
   "execution_count": 3,
   "metadata": {},
   "outputs": [
    {
     "data": {
      "text/plain": [
       "array([list([7, 6]), list([8, 7]), list([9, 8]), list([10, 9]),\n",
       "       list([11, 10]), list([12, 11]), list([13, 12])], dtype=object)"
      ]
     },
     "execution_count": 3,
     "metadata": {},
     "output_type": "execute_result"
    }
   ],
   "source": [
    "npc = np.array(combo, dtype=object)\n",
    "mn_comb = npc[npc[:,0]==5][:,2]\n",
    "mn_comb"
   ]
  },
  {
   "cell_type": "code",
   "execution_count": 4,
   "metadata": {},
   "outputs": [],
   "source": [
    "\"\"\" Optimization Algorithm \"\"\"\n",
    "\"\"\" New Matrix \"\"\"\n",
    "def newMat(x, Vt, k):\n",
    "  V_new = np.zeros((Vt.shape), dtype=np.cfloat)\n",
    "  if k==2:\n",
    "    V_new[0] = np.cos(x[0])\n",
    "    V_new[1] = (np.sin(x[0])) * np.exp(1j*x[1])\n",
    "  elif k==3:\n",
    "    V_new[0] = np.cos(x[0])\n",
    "    V_new[1] = (np.sin(x[0])) * (np.cos(x[1])) * np.exp(1j*x[2])\n",
    "    V_new[2] = (np.sin(x[0])) * (np.sin(x[1])) * np.exp(1j*x[3])\n",
    "  else:\n",
    "    V_new[0] = (np.cos(x[0])) * (np.cos(x[1]))\n",
    "    V_new[1] = (np.cos(x[0])) * (np.sin(x[1])) * np.exp(1j*x[3])\n",
    "    V_new[2] = (np.sin(x[0])) * (np.cos(x[2])) * np.exp(1j*x[4])\n",
    "    V_new[3] = (np.sin(x[0])) * (np.sin(x[2])) * np.exp(1j*x[5])\n",
    "  return V_new\n",
    "\n",
    "\n",
    "\"\"\" Cost Function \"\"\"\n",
    "def costFn(x, Ut, Vt, A, k):\n",
    "    V_new = newMat(x, Vt, k)\n",
    "    Bp = np.dot(Ut, V_new) \n",
    "    loss = np.linalg.norm(A - Bp*np.conjugate(Bp))\n",
    "    return (loss)\n"
   ]
  },
  {
   "cell_type": "code",
   "execution_count": 5,
   "metadata": {},
   "outputs": [],
   "source": [
    "def calcResults(k, k_new):\n",
    "    final_res = []\n",
    "    for m, n in mn_comb:\n",
    "        print (\"m = \",m,\", n = \",n)\n",
    "        res = np.zeros((100,3))\n",
    "        for i in range(100):\n",
    "            A = np.random.rand(m, n)\n",
    "            A = A/A.sum(axis=0)         # Optimize column-wise\n",
    "\n",
    "            #Classic Truncated SVD\n",
    "            U, L, V = np.linalg.svd(A, full_matrices=False)\n",
    "            Ut = U[:, :k]\n",
    "            Vt = V[:k]\n",
    "            Lt = L[:k]\n",
    "            At = np.dot(np.dot(Ut,np.diag(Lt)), Vt)\n",
    "            res[i][0] = (np.linalg.norm(A - At))\n",
    "\n",
    "\n",
    "            # Complex SVD\n",
    "            B = np.sqrt(A)\n",
    "            U, L, V = np.linalg.svd(B, full_matrices=False)\n",
    "            # Complex SVD with k\n",
    "            if (k<=4):                                      # Skip when k>4\n",
    "                Ut = U[:, :k]\n",
    "                Vt = V[:k]\n",
    "                Lt = L[:k]\n",
    "                initial_guess = np.ones((2*n*(k-1),), dtype=np.longdouble)\n",
    "                V_new = np.zeros(Vt.shape, dtype=np.cfloat)\n",
    "                for col in range(Vt.shape[1]):\n",
    "                    result = optimize.minimize(fun=costFn, x0=initial_guess, args=(Ut,Vt[:, col],A[:,col],k),\n",
    "                                            tol=1e-7, method='Nelder-Mead', options={'maxiter':1e+10})\n",
    "                    V_new[:,col] = newMat(result.x, Vt[:, col], k)\n",
    "                Bp = np.dot(Ut, V_new)  \n",
    "                res[i][1] = (np.linalg.norm(A - np.conjugate(Bp)*Bp))\n",
    "            else:\n",
    "                res[i][1] = (np.linalg.norm(A - At))\n",
    "\n",
    "            # Complex SVD with k_new\n",
    "            Ut = U[:, :k_new]\n",
    "            Vt = V[:k_new]\n",
    "            Lt = L[:k_new]\n",
    "            initial_guess = np.ones((2*n*(k_new-1),), dtype=np.longdouble)\n",
    "            V_new = np.zeros(Vt.shape, dtype=np.cfloat)\n",
    "            for col in range(Vt.shape[1]):\n",
    "                result = optimize.minimize(fun=costFn, x0=initial_guess, args=(Ut,Vt[:, col],A[:,col],k_new),\n",
    "                                        tol=1e-7, method='Nelder-Mead', options={'maxiter':1e+10})\n",
    "                V_new[:,col] = newMat(result.x, Vt[:, col], k_new)\n",
    "            Bp = np.dot(Ut, V_new)  \n",
    "            res[i][2] = (np.linalg.norm(A - np.conjugate(Bp)*Bp))\n",
    "\n",
    "\n",
    "            if i%10==0: print(i, end=' ')\n",
    "        print('\\n')\n",
    "        final_res.append([m, n, *res.mean(axis=0)])\n",
    "    return final_res"
   ]
  },
  {
   "cell_type": "code",
   "execution_count": 6,
   "metadata": {},
   "outputs": [
    {
     "name": "stdout",
     "output_type": "stream",
     "text": [
      "m =  7 , n =  6\n",
      "0 10 20 30 40 50 60 70 80 90 \n",
      "\n",
      "m =  8 , n =  7\n",
      "0 10 20 30 40 50 60 70 80 90 \n",
      "\n",
      "m =  9 , n =  8\n",
      "0 10 20 30 40 50 60 70 80 90 \n",
      "\n",
      "m =  10 , n =  9\n",
      "0 10 20 30 40 50 60 70 80 90 \n",
      "\n",
      "m =  11 , n =  10\n",
      "0 10 20 30 40 50 60 70 80 90 \n",
      "\n",
      "m =  12 , n =  11\n",
      "0 10 20 30 40 50 60 70 80 90 \n",
      "\n",
      "m =  13 , n =  12\n",
      "0 10 20 30 40 50 60 70 80 90 \n",
      "\n"
     ]
    }
   ],
   "source": [
    "res = calcResults(k=5, k_new=4)"
   ]
  },
  {
   "cell_type": "code",
   "execution_count": 7,
   "metadata": {},
   "outputs": [
    {
     "data": {
      "text/plain": [
       "[[7, 6, 0.04655580837736055, 0.04655580837736055, 0.06228847265417983],\n",
       " [8, 7, 0.09836315509265871, 0.09836315509265871, 0.11267007269478763],\n",
       " [9, 8, 0.13731053269857907, 0.13731053269857907, 0.1563131642443652],\n",
       " [10, 9, 0.175228570350702, 0.175228570350702, 0.19378047645682062],\n",
       " [11, 10, 0.20155311640995482, 0.20155311640995482, 0.22013717339173217],\n",
       " [12, 11, 0.2321292481889817, 0.2321292481889817, 0.24812067115047015],\n",
       " [13, 12, 0.25387064792161373, 0.25387064792161373, 0.26967171803785606]]"
      ]
     },
     "execution_count": 7,
     "metadata": {},
     "output_type": "execute_result"
    }
   ],
   "source": [
    "res"
   ]
  },
  {
   "cell_type": "code",
   "execution_count": null,
   "metadata": {},
   "outputs": [],
   "source": []
  }
 ],
 "metadata": {
  "interpreter": {
   "hash": "363a2faa70e0b51f5ef03eefa8222616879a3cbe854269a79a8bc28e29574681"
  },
  "kernelspec": {
   "display_name": "Python 3.10.2 ('env': venv)",
   "language": "python",
   "name": "python3"
  },
  "language_info": {
   "codemirror_mode": {
    "name": "ipython",
    "version": 3
   },
   "file_extension": ".py",
   "mimetype": "text/x-python",
   "name": "python",
   "nbconvert_exporter": "python",
   "pygments_lexer": "ipython3",
   "version": "3.10.2"
  },
  "orig_nbformat": 4
 },
 "nbformat": 4,
 "nbformat_minor": 2
}
