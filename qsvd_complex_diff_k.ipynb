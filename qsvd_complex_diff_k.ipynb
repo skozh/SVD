{
 "cells": [
  {
   "cell_type": "code",
   "execution_count": 1,
   "metadata": {},
   "outputs": [],
   "source": [
    "import numpy as np\n",
    "import scipy.optimize as optimize"
   ]
  },
  {
   "cell_type": "code",
   "execution_count": 2,
   "metadata": {},
   "outputs": [],
   "source": [
    "\"\"\" Optimization Algorithm \"\"\"\n",
    "\"\"\" New Matrix \"\"\"\n",
    "def newMat(x, Vt, k):\n",
    "  V_new = np.zeros((Vt.shape), dtype=np.cfloat)\n",
    "  if k==2:\n",
    "    V_new[0] = np.cos(x[0])\n",
    "    V_new[1] = (np.sin(x[0])) * np.exp(1j*x[1])\n",
    "  elif k==3:\n",
    "    V_new[0] = np.cos(x[0])\n",
    "    V_new[1] = (np.sin(x[0])) * (np.cos(x[1])) * np.exp(1j*x[2])\n",
    "    V_new[2] = (np.sin(x[0])) * (np.sin(x[1])) * np.exp(1j*x[3])\n",
    "  else:\n",
    "    V_new[0] = (np.cos(x[0])) * (np.cos(x[1]))\n",
    "    V_new[1] = (np.cos(x[0])) * (np.sin(x[1])) * np.exp(1j*x[3])\n",
    "    V_new[2] = (np.sin(x[0])) * (np.cos(x[2])) * np.exp(1j*x[4])\n",
    "    V_new[3] = (np.sin(x[0])) * (np.sin(x[2])) * np.exp(1j*x[5])\n",
    "  return V_new\n",
    "\n",
    "\n",
    "\"\"\" Cost Function \"\"\"\n",
    "def costFn(x, Ut, Vt, A, k):\n",
    "    V_new = newMat(x, Vt, k)\n",
    "    Bp = np.dot(Ut, V_new) \n",
    "    loss = np.linalg.norm(A - Bp*np.conjugate(Bp))\n",
    "    return (loss)\n"
   ]
  },
  {
   "cell_type": "code",
   "execution_count": 3,
   "metadata": {},
   "outputs": [],
   "source": [
    "def calcResults(k, k_new):\n",
    "    final_res = []\n",
    "    m = k+5\n",
    "    for n in range(k+1, k+5):\n",
    "        print (\"m = \",m,\", n = \",n)\n",
    "        res = np.zeros((100,3))\n",
    "        for i in range(100):\n",
    "            A = np.random.rand(m, n)\n",
    "            A = A/A.sum(axis=0)         # Optimize column-wise\n",
    "\n",
    "            #Classic Truncated SVD\n",
    "            U, L, V = np.linalg.svd(A, full_matrices=False)\n",
    "            Ut = U[:, :k]\n",
    "            Vt = V[:k]\n",
    "            Lt = L[:k]\n",
    "            At = np.dot(np.dot(Ut,np.diag(Lt)), Vt)\n",
    "            res[i][0] = (np.linalg.norm(A - At))\n",
    "\n",
    "\n",
    "            # Complex SVD\n",
    "            B = np.sqrt(A)\n",
    "            U, L, V = np.linalg.svd(B, full_matrices=False)\n",
    "            # Complex SVD with k\n",
    "            if (k<=4):                                      # Skip when k>4\n",
    "                Ut = U[:, :k]\n",
    "                Vt = V[:k]\n",
    "                Lt = L[:k]\n",
    "                initial_guess = np.ones((2*n*(k-1),), dtype=np.longdouble)\n",
    "                V_new = np.zeros(Vt.shape, dtype=np.cfloat)\n",
    "                for col in range(Vt.shape[1]):\n",
    "                    result = optimize.minimize(fun=costFn, x0=initial_guess, args=(Ut,Vt[:, col],A[:,col],k),\n",
    "                                            tol=1e-7, method='Nelder-Mead', options={'maxiter':1e+10})\n",
    "                    V_new[:,col] = newMat(result.x, Vt[:, col], k)\n",
    "                Bp = np.dot(Ut, V_new)  \n",
    "                res[i][1] = (np.linalg.norm(A - np.conjugate(Bp)*Bp))\n",
    "            else:\n",
    "                res[i][1] = (np.linalg.norm(A - At))\n",
    "\n",
    "            # Complex SVD with k_new\n",
    "            Ut = U[:, :k_new]\n",
    "            Vt = V[:k_new]\n",
    "            Lt = L[:k_new]\n",
    "            initial_guess = np.ones((2*n*(k_new-1),), dtype=np.longdouble)\n",
    "            V_new = np.zeros(Vt.shape, dtype=np.cfloat)\n",
    "            for col in range(Vt.shape[1]):\n",
    "                result = optimize.minimize(fun=costFn, x0=initial_guess, args=(Ut,Vt[:, col],A[:,col],k_new),\n",
    "                                        tol=1e-7, method='Nelder-Mead', options={'maxiter':1e+10})\n",
    "                V_new[:,col] = newMat(result.x, Vt[:, col], k_new)\n",
    "            Bp = np.dot(Ut, V_new)  \n",
    "            res[i][2] = (np.linalg.norm(A - np.conjugate(Bp)*Bp))\n",
    "\n",
    "\n",
    "            if i%10==0: print(i, end=' ')\n",
    "        print('\\n')\n",
    "        final_res.append([m, n, *res.mean(axis=0)])\n",
    "    return final_res"
   ]
  },
  {
   "cell_type": "code",
   "execution_count": 4,
   "metadata": {},
   "outputs": [
    {
     "name": "stdout",
     "output_type": "stream",
     "text": [
      "m =  10 , n =  6\n",
      "0 10 20 30 40 50 60 70 80 90 \n",
      "\n",
      "m =  10 , n =  7\n",
      "0 10 20 30 40 50 60 70 80 90 \n",
      "\n",
      "m =  10 , n =  8\n",
      "0 10 20 30 40 50 60 70 80 90 \n",
      "\n",
      "m =  10 , n =  9\n",
      "0 10 20 30 40 50 60 70 80 90 \n",
      "\n"
     ]
    }
   ],
   "source": [
    "res = calcResults(k=5, k_new=4)"
   ]
  },
  {
   "cell_type": "code",
   "execution_count": 5,
   "metadata": {},
   "outputs": [
    {
     "data": {
      "text/plain": [
       "[[10, 6, 0.07277964670071375, 0.07277964670071375, 0.11263416005227313],\n",
       " [10, 7, 0.11068679376422773, 0.11068679376422773, 0.14166369846508212],\n",
       " [10, 8, 0.14439628197819115, 0.14439628197819115, 0.1716759823632197],\n",
       " [10, 9, 0.1724780190348054, 0.1724780190348054, 0.19224986759658771]]"
      ]
     },
     "execution_count": 5,
     "metadata": {},
     "output_type": "execute_result"
    }
   ],
   "source": [
    "res"
   ]
  },
  {
   "cell_type": "code",
   "execution_count": 9,
   "metadata": {},
   "outputs": [
    {
     "name": "stdout",
     "output_type": "stream",
     "text": [
      "[[2, 2.0], [5, 4.0], [7, 5.0], [8, 6.0], [9, 7.0], [10, 7.0], [11, 8.0]]\n"
     ]
    }
   ],
   "source": [
    "combo = []\n",
    "for k1 in range(2, 12):\n",
    "    for m in range(k1+1, k1+9):\n",
    "        for n in range(k1+1, k1+9):\n",
    "            k_new = (k1*(m+n-1)+2*n)/(2*n+m-1)\n",
    "            if (k2%1==0):\n",
    "                if [k1, k2] not in combo: \n",
    "                    combo.append([k1, k2])\n",
    "print(combo)"
   ]
  }
 ],
 "metadata": {
  "interpreter": {
   "hash": "363a2faa70e0b51f5ef03eefa8222616879a3cbe854269a79a8bc28e29574681"
  },
  "kernelspec": {
   "display_name": "Python 3.10.2 ('env': venv)",
   "language": "python",
   "name": "python3"
  },
  "language_info": {
   "codemirror_mode": {
    "name": "ipython",
    "version": 3
   },
   "file_extension": ".py",
   "mimetype": "text/x-python",
   "name": "python",
   "nbconvert_exporter": "python",
   "pygments_lexer": "ipython3",
   "version": "3.10.2"
  },
  "orig_nbformat": 4
 },
 "nbformat": 4,
 "nbformat_minor": 2
}
