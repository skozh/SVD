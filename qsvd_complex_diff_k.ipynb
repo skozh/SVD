{
 "cells": [
  {
   "cell_type": "code",
   "execution_count": 1,
   "metadata": {},
   "outputs": [],
   "source": [
    "import numpy as np\n",
    "import scipy.optimize as optimize"
   ]
  },
  {
   "cell_type": "code",
   "execution_count": 2,
   "metadata": {},
   "outputs": [],
   "source": [
    "\"\"\" Optimization Algorithm \"\"\"\n",
    "\"\"\" New Matrix \"\"\"\n",
    "def newMat(x, Vt, k):\n",
    "  V_new = np.zeros((Vt.shape), dtype=np.cfloat)\n",
    "  if k==2:\n",
    "    V_new[0] = np.cos(x[0])\n",
    "    V_new[1] = (np.sin(x[0])) * np.exp(1j*x[1])\n",
    "  elif k==3:\n",
    "    V_new[0] = np.cos(x[0])\n",
    "    V_new[1] = (np.sin(x[0])) * (np.cos(x[1])) * np.exp(1j*x[2])\n",
    "    V_new[2] = (np.sin(x[0])) * (np.sin(x[1])) * np.exp(1j*x[3])\n",
    "  else:\n",
    "    V_new[0] = (np.cos(x[0])) * (np.cos(x[1]))\n",
    "    V_new[1] = (np.cos(x[0])) * (np.sin(x[1])) * np.exp(1j*x[3])\n",
    "    V_new[2] = (np.sin(x[0])) * (np.cos(x[2])) * np.exp(1j*x[4])\n",
    "    V_new[3] = (np.sin(x[0])) * (np.sin(x[2])) * np.exp(1j*x[5])\n",
    "  return V_new\n",
    "\n",
    "\n",
    "\"\"\" Cost Function \"\"\"\n",
    "def costFn(x, Ut, Vt, A, k):\n",
    "    V_new = newMat(x, Vt, k)\n",
    "    Bp = np.dot(Ut, V_new) \n",
    "    loss = np.linalg.norm(A - Bp*np.conjugate(Bp))\n",
    "    return (loss)\n"
   ]
  },
  {
   "cell_type": "code",
   "execution_count": 3,
   "metadata": {},
   "outputs": [],
   "source": [
    "def calcResults(k):\n",
    "    final_res = []\n",
    "    m = k+9\n",
    "    for n in range(k+1, k+9):\n",
    "        print (\"m = \",m,\", n = \",n)\n",
    "        res = np.zeros((100,3))\n",
    "        for i in range(100):\n",
    "            A = np.random.rand(m, n)\n",
    "            A = A/A.sum(axis=0)         # Optimize column-wise\n",
    "\n",
    "            #Classic Truncated SVD\n",
    "            U, L, V = np.linalg.svd(A, full_matrices=False)\n",
    "            Ut = U[:, :k]\n",
    "            Vt = V[:k]\n",
    "            Lt = L[:k]\n",
    "            At = np.dot(np.dot(Ut,np.diag(Lt)), Vt)\n",
    "            res[i][0] = (np.linalg.norm(A - At))\n",
    "\n",
    "            #Complex SVD with k = k_original\n",
    "            B = np.sqrt(A)\n",
    "            U, L, V = np.linalg.svd(B, full_matrices=False)\n",
    "            Ut = U[:, :k]\n",
    "            Vt = V[:k]\n",
    "            Lt = L[:k]\n",
    "            initial_guess = np.ones((2*n*(k-1),), dtype=np.longdouble)\n",
    "            V_new = np.zeros(Vt.shape, dtype=np.cfloat)\n",
    "            for col in range(Vt.shape[1]):\n",
    "                result = optimize.minimize(fun=costFn, x0=initial_guess, args=(Ut,Vt[:, col],A[:,col],k),\n",
    "                                        tol=1e-7, method='Nelder-Mead', options={'maxiter':1e+10})\n",
    "                V_new[:,col] = newMat(result.x, Vt[:, col], k)\n",
    "            Bp = np.dot(Ut, V_new)  \n",
    "            res[i][1] = (np.linalg.norm(A - np.conjugate(Bp)*Bp))\n",
    "\n",
    "            # Complex SVD with k = k_original - 1\n",
    "            k_new = k -1\n",
    "            Ut = U[:, :k_new]\n",
    "            Vt = V[:k_new]\n",
    "            Lt = L[:k_new]\n",
    "            initial_guess = np.ones((2*n*(k_new-1),), dtype=np.longdouble)\n",
    "            V_new = np.zeros(Vt.shape, dtype=np.cfloat)\n",
    "            for col in range(Vt.shape[1]):\n",
    "                result = optimize.minimize(fun=costFn, x0=initial_guess, args=(Ut,Vt[:, col],A[:,col],k_new),\n",
    "                                        tol=1e-7, method='Nelder-Mead', options={'maxiter':1e+10})\n",
    "                V_new[:,col] = newMat(result.x, Vt[:, col], k_new)\n",
    "            Bp = np.dot(Ut, V_new)  \n",
    "            res[i][2] = (np.linalg.norm(A - np.conjugate(Bp)*Bp))\n",
    "\n",
    "\n",
    "            if i%10==0: print(i, end=' ')\n",
    "        print('\\n')\n",
    "        final_res.append([m, n, *res.mean(axis=0)])\n",
    "    return final_res"
   ]
  },
  {
   "cell_type": "code",
   "execution_count": 4,
   "metadata": {},
   "outputs": [
    {
     "name": "stdout",
     "output_type": "stream",
     "text": [
      "m =  12 , n =  4\n",
      "0 10 20 30 40 50 60 70 80 90 \n",
      "\n",
      "m =  12 , n =  5\n",
      "0 10 20 30 40 50 60 70 80 90 \n",
      "\n",
      "m =  12 , n =  6\n",
      "0 10 20 30 40 50 60 70 80 90 \n",
      "\n",
      "m =  12 , n =  7\n",
      "0 10 20 30 40 50 60 70 80 90 \n",
      "\n",
      "m =  12 , n =  8\n",
      "0 10 20 30 40 50 60 70 80 90 \n",
      "\n",
      "m =  12 , n =  9\n",
      "0 10 20 30 40 50 60 70 80 90 \n",
      "\n",
      "m =  12 , n =  10\n",
      "0 10 20 30 40 50 60 70 80 90 \n",
      "\n",
      "m =  12 , n =  11\n",
      "0 10 20 30 40 50 60 70 80 90 \n",
      "\n"
     ]
    }
   ],
   "source": [
    "res = calcResults(k=3)"
   ]
  },
  {
   "cell_type": "code",
   "execution_count": 5,
   "metadata": {},
   "outputs": [
    {
     "data": {
      "text/plain": [
       "[[12, 4, 0.10730643614819792, 0.10132962553801118, 0.19278791055682223],\n",
       " [12, 5, 0.16268263591752166, 0.1542377655459289, 0.23366669715729546],\n",
       " [12, 6, 0.20450972741764642, 0.1925885668873047, 0.2763660492271491],\n",
       " [12, 7, 0.2416552205302714, 0.22733485657087152, 0.3149129499349308],\n",
       " [12, 8, 0.2751859029654912, 0.25799796636134575, 0.34679195708769434],\n",
       " [12, 9, 0.31008530176619087, 0.29078994912690226, 0.3800767171118419],\n",
       " [12, 10, 0.3310821908804019, 0.3091940114946016, 0.40069503116753785],\n",
       " [12, 11, 0.35662806566115357, 0.3325111435920211, 0.42656913599253504]]"
      ]
     },
     "execution_count": 5,
     "metadata": {},
     "output_type": "execute_result"
    }
   ],
   "source": [
    "res"
   ]
  }
 ],
 "metadata": {
  "interpreter": {
   "hash": "363a2faa70e0b51f5ef03eefa8222616879a3cbe854269a79a8bc28e29574681"
  },
  "kernelspec": {
   "display_name": "Python 3.10.2 ('env': venv)",
   "language": "python",
   "name": "python3"
  },
  "language_info": {
   "codemirror_mode": {
    "name": "ipython",
    "version": 3
   },
   "file_extension": ".py",
   "mimetype": "text/x-python",
   "name": "python",
   "nbconvert_exporter": "python",
   "pygments_lexer": "ipython3",
   "version": "3.10.2"
  },
  "orig_nbformat": 4
 },
 "nbformat": 4,
 "nbformat_minor": 2
}
