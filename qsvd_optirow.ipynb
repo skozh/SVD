{
 "cells": [
  {
   "cell_type": "code",
   "execution_count": null,
   "metadata": {},
   "outputs": [],
   "source": [
    "\"\"\"qsvd-v4.py\"\"\"\n",
    "\n",
    "# A = Original matrix\n",
    "# B = Square root of Matrix A\n",
    "# U, V, L = Matrices obtained after SVD\n",
    "# Ut, Vt, Lt = Truncated U, V, L matrices\n",
    "# Bnp = Matrix obtained from U, V, L with no phase added or truncation done\n",
    "# Bp = Matrix obtained from U, V, L after truncation and phase added\n",
    "# Bt = Matrix obtained from U, V, L after truncation, no phase added\n",
    "\n",
    "\"\"\" Import Libraries \"\"\"\n",
    "import numpy as np\n",
    "import scipy.optimize as optimize\n",
    "import time"
   ]
  },
  {
   "cell_type": "markdown",
   "metadata": {},
   "source": [
    "### Method 1"
   ]
  },
  {
   "cell_type": "code",
   "execution_count": null,
   "metadata": {},
   "outputs": [],
   "source": [
    "\"\"\" Optimization Algorithm \"\"\"\n",
    "\"\"\" New Matrix \"\"\"\n",
    "def newMat_1(x, Ut, Lt, Vt, k):\n",
    "  U_new = np.zeros((Ut.shape), dtype=np.cfloat)\n",
    "  if k==2:\n",
    "    l0,l1 = Lt[0], Lt[1]\n",
    "    for i in range(Ut.shape[0]):\n",
    "      U_new[i][0] = np.cos(x[i]) / l0\n",
    "      U_new[i][1] = (np.sin(x[i]) / l1) * np.exp(1j*x[i+Ut.shape[0]])\n",
    "  elif k==3:\n",
    "    l0,l1,l2 = Lt[0], Lt[1], Lt[2]\n",
    "    for i in range(Ut.shape[0]):\n",
    "      U_new[i][0] = np.cos(x[i]) / l0\n",
    "      U_new[i][1] = (np.sin(x[i]) / l1) * (np.cos(x[i+Ut.shape[0]])) * np.exp(1j*x[i+2*Ut.shape[0]])\n",
    "      U_new[i][2] = (np.sin(x[i]) / l2) * (np.sin(x[i+Ut.shape[0]])) * np.exp(1j*x[i+3*Ut.shape[0]])\n",
    "  else:\n",
    "    l0,l1,l2,l3 = Lt[0], Lt[1], Lt[2], Lt[3]\n",
    "    for i in range(Ut.shape[0]):\n",
    "      U_new[i][0] = (np.cos(x[i]) / l0) * (np.cos(x[i+Ut.shape[0]]))\n",
    "      U_new[i][1] = (np.cos(x[i]) / l1) * (np.sin(x[i+Ut.shape[0]])) * np.exp(1j*x[i+3*Ut.shape[0]])\n",
    "      U_new[i][2] = (np.sin(x[i]) / l2) * (np.cos(x[i+2*Ut.shape[0]])) * np.exp(1j*x[i+4*Ut.shape[0]])\n",
    "      U_new[i][3] = (np.sin(x[i]) / l3) * (np.sin(x[i+2*Ut.shape[0]])) * np.exp(1j*x[i+5*Ut.shape[0]])\n",
    "  return U_new\n",
    "\n",
    "\n",
    "\"\"\" Cost Function \"\"\"\n",
    "def costFn(x, Ut, Lt, Vt, B, k):\n",
    "    U_new = newMat_1(x, Ut, Lt, Vt, k)\n",
    "    Bp = np.dot(np.dot(U_new,np.diag(Lt)), Vt)\n",
    "    loss = np.linalg.norm(B**2 - np.abs(Bp)**2)\n",
    "    return (loss)\n",
    "\n",
    "\n",
    "\"\"\" Calculate Results \"\"\"\n",
    "def calcResults(k):\n",
    "  print(\"k = \", str(k))\n",
    "  n = 4\n",
    "  for m in range(4, 12):\n",
    "    print(\"m = \",m,\", n = \",n)\n",
    "    res = np.zeros((100,3))\n",
    "    for i in range(100):\n",
    "        A = np.random.rand(m, n)\n",
    "        for j in range(m): A[j] /= sum(A[j])\n",
    "        B = np.sqrt(A)\n",
    "        U, L, V = np.linalg.svd(B, full_matrices=False)\n",
    "        initial_guess = np.ones((2*m*(k-1),), dtype=np.longdouble)\n",
    "        Ut = U[:, :k]\n",
    "        Vt = V[:k]\n",
    "        Lt = L[:k]\n",
    "        Bt = np.dot(np.dot(Ut,np.diag(Lt)), Vt)\n",
    "        start1 = time.time()\n",
    "        result = optimize.minimize(fun=costFn, x0=initial_guess, args=(Ut,Lt,Vt,B,k),\n",
    "                                    tol=1e-7, method='Nelder-Mead', options={'maxiter':1e+10})\n",
    "        end1 = time.time()\n",
    "        res[i][0] = (np.linalg.norm(B**2 - Bt**2))\n",
    "        res[i][1] = costFn(result.x,Ut,Lt,Vt,B,k)\n",
    "        res[i][2] = end1-start1\n",
    "        if(i%10==0):\n",
    "          print(i, \" \", end='')\n",
    "    print('\\n')\n",
    "    filename= ('data/k{0}_test/m{1}_n{2}_1.npy'.format(str(k),str(m),str(n)))\n",
    "    np.save(filename, res)\n",
    "  return"
   ]
  },
  {
   "cell_type": "code",
   "execution_count": null,
   "metadata": {},
   "outputs": [],
   "source": [
    "calcResults(k=2)"
   ]
  },
  {
   "cell_type": "code",
   "execution_count": null,
   "metadata": {},
   "outputs": [],
   "source": [
    "calcResults(k=3)"
   ]
  },
  {
   "cell_type": "markdown",
   "metadata": {},
   "source": [
    "### Method 2"
   ]
  },
  {
   "cell_type": "code",
   "execution_count": null,
   "metadata": {},
   "outputs": [],
   "source": [
    "\"\"\" Optimization Algorithm \"\"\"\n",
    "\"\"\" New Matrix \"\"\"\n",
    "def newMat_2(x, Ut, Lt, Vt, k):\n",
    "  U_new = np.zeros((Ut.shape), dtype=np.cfloat)\n",
    "  if k==2:\n",
    "    l0,l1 = Lt[0], Lt[1]\n",
    "    U_new[0] = np.cos(x[0]) / l0\n",
    "    U_new[1] = (np.sin(x[0]) / l1) * np.exp(1j*x[1])\n",
    "  elif k==3:\n",
    "    l0,l1,l2 = Lt[0], Lt[1], Lt[2]\n",
    "    U_new[0] = np.cos(x[0]) / l0\n",
    "    U_new[1] = (np.sin(x[0]) / l1) * (np.cos(x[1])) * np.exp(1j*x[2])\n",
    "    U_new[2] = (np.sin(x[0]) / l2) * (np.sin(x[1])) * np.exp(1j*x[3])\n",
    "  else:\n",
    "    l0,l1,l2,l3 = Lt[0], Lt[1], Lt[2], Lt[3]\n",
    "    U_new[0] = (np.cos(x[0]) / l0) * (np.cos(x[1]))\n",
    "    U_new[1] = (np.cos(x[0]) / l1) * (np.sin(x[1])) * np.exp(1j*x[3])\n",
    "    U_new[2] = (np.sin(x[0]) / l2) * (np.cos(x[2])) * np.exp(1j*x[4])\n",
    "    U_new[3] = (np.sin(x[0]) / l3) * (np.sin(x[2])) * np.exp(1j*x[5])\n",
    "  return U_new\n",
    "\n",
    "\n",
    "\"\"\" Cost Function \"\"\"\n",
    "def costFn(x, Ut, Lt, Vt, B, k):\n",
    "    U_new = newMat_2(x, Ut, Lt, Vt, k)\n",
    "    Bp = np.dot(np.dot(U_new,np.diag(Lt)), Vt) \n",
    "    loss = np.linalg.norm(B**2 - np.abs(Bp)**2)\n",
    "    return (loss)\n",
    "\n",
    "\"\"\" Calculate Results \"\"\"\n",
    "def calcResults(k):\n",
    "  print(\"k = \", str(k))\n",
    "  n = 4\n",
    "  for m in range(4, 12):\n",
    "    print(\"m = \",m,\", n = \",n)\n",
    "    res = np.zeros((100, 3))\n",
    "    for i in range(100):\n",
    "      A = np.random.rand(m, n)\n",
    "      for j in range(m): A[j] /= sum(A[j])\n",
    "      B = np.sqrt(A)\n",
    "      U, L, V = np.linalg.svd(B, full_matrices=False)\n",
    "      initial_guess = np.ones((2*(k-1),), dtype=np.longdouble)\n",
    "      Ut = U[:, :k]\n",
    "      Vt = V[:k]\n",
    "      Lt = L[:k]\n",
    "      Bt = np.dot(np.dot(Ut,np.diag(Lt)), Vt)\n",
    "      U_new = np.zeros(Ut.shape, dtype=np.cfloat)\n",
    "      start1 = time.time()\n",
    "      for row in range(Ut.shape[0]):\n",
    "        result = optimize.minimize(fun=costFn, x0=initial_guess, args=(Ut[row, :],Lt,Vt,B[row,:],k),\n",
    "                                  tol=1e-7, method='Nelder-Mead', options={'maxiter':1e+10})\n",
    "        U_new[row,:] = newMat_2(result.x, Ut[row, :],Lt,Vt,k)\n",
    "      end1 = time.time()\n",
    "      Bp = np.dot(np.dot(U_new,np.diag(Lt)), Vt) \n",
    "      \n",
    "      res[i][0] = (np.linalg.norm(B**2 - Bt**2))\n",
    "      res[i][1] = (np.linalg.norm(B**2 - ((Bp)*np.conj(Bp))))\n",
    "      res[i][2] = end1 - start1\n",
    "      if i%10==0: print(i, end=' ')\n",
    "    print('\\n')\n",
    "    filename= ('data/k{0}_test/m{1}_n{2}_2.npy'.format(str(k),str(m),str(n)))\n",
    "    np.save(filename, res)\n",
    "  return"
   ]
  },
  {
   "cell_type": "code",
   "execution_count": null,
   "metadata": {},
   "outputs": [],
   "source": [
    "calcResults(k=2)"
   ]
  },
  {
   "cell_type": "code",
   "execution_count": null,
   "metadata": {},
   "outputs": [],
   "source": [
    "calcResults(k=3)"
   ]
  }
 ],
 "metadata": {
  "interpreter": {
   "hash": "363a2faa70e0b51f5ef03eefa8222616879a3cbe854269a79a8bc28e29574681"
  },
  "kernelspec": {
   "display_name": "Python 3.10.2 64-bit ('env': venv)",
   "language": "python",
   "name": "python3"
  },
  "language_info": {
   "codemirror_mode": {
    "name": "ipython",
    "version": 3
   },
   "file_extension": ".py",
   "mimetype": "text/x-python",
   "name": "python",
   "nbconvert_exporter": "python",
   "pygments_lexer": "ipython3",
   "version": "3.10.2"
  },
  "orig_nbformat": 4
 },
 "nbformat": 4,
 "nbformat_minor": 2
}
